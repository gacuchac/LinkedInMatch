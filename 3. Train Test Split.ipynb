{
 "cells": [
  {
   "cell_type": "code",
   "execution_count": 1,
   "id": "2fb4ee75",
   "metadata": {},
   "outputs": [],
   "source": [
    "from sklearn.model_selection import train_test_split\n",
    "import pandas as pd"
   ]
  },
  {
   "cell_type": "code",
   "execution_count": 2,
   "id": "2d678713",
   "metadata": {},
   "outputs": [
    {
     "data": {
      "text/html": [
       "<div>\n",
       "<style scoped>\n",
       "    .dataframe tbody tr th:only-of-type {\n",
       "        vertical-align: middle;\n",
       "    }\n",
       "\n",
       "    .dataframe tbody tr th {\n",
       "        vertical-align: top;\n",
       "    }\n",
       "\n",
       "    .dataframe thead th {\n",
       "        text-align: right;\n",
       "    }\n",
       "</style>\n",
       "<table border=\"1\" class=\"dataframe\">\n",
       "  <thead>\n",
       "    <tr style=\"text-align: right;\">\n",
       "      <th></th>\n",
       "      <th>PDF</th>\n",
       "      <th>Text</th>\n",
       "      <th>label</th>\n",
       "      <th>Summary</th>\n",
       "      <th>Experience</th>\n",
       "      <th>Education</th>\n",
       "    </tr>\n",
       "  </thead>\n",
       "  <tbody>\n",
       "    <tr>\n",
       "      <th>0</th>\n",
       "      <td>Aakash Shah.pdf</td>\n",
       "      <td>\\nContact\\naakashs1411@gmail.com\\nwww.link...</td>\n",
       "      <td>1</td>\n",
       "      <td>Aakash is a Data Scientist with 3 years of ex...</td>\n",
       "      <td>Medtronic. AI/ML Data Science Engineer II. Oc...</td>\n",
       "      <td>Northeastern University. Master of Science, D...</td>\n",
       "    </tr>\n",
       "    <tr>\n",
       "      <th>1</th>\n",
       "      <td>Akhil Nair.pdf</td>\n",
       "      <td>\\nContact\\nwww.linkedin.com/in/asn95\\n(Lin...</td>\n",
       "      <td>1</td>\n",
       "      <td>I currently work as an Advanced Process Contr...</td>\n",
       "      <td>Corning Incorporated. Advanced Process Contro...</td>\n",
       "      <td>Carnegie Mellon University. Masters in Chemic...</td>\n",
       "    </tr>\n",
       "    <tr>\n",
       "      <th>2</th>\n",
       "      <td>Alec Arehart.pdf</td>\n",
       "      <td>\\nContact\\nwww.linkedin.com/in/alec-arehar...</td>\n",
       "      <td>1</td>\n",
       "      <td>Experienced software engineer with a history ...</td>\n",
       "      <td>Corning Incorporated. Senior SecDevOps Engine...</td>\n",
       "      <td>Virginia Tech. Master of Information Technolo...</td>\n",
       "    </tr>\n",
       "    <tr>\n",
       "      <th>3</th>\n",
       "      <td>Alexander McInroy.pdf</td>\n",
       "      <td>\\nContact\\nalexemcinroy@gmail.com\\nwww.lin...</td>\n",
       "      <td>1</td>\n",
       "      <td>Statistical engineer and consultant with expe...</td>\n",
       "      <td>Corning Incorporated. 4 years 11 months. Sr. ...</td>\n",
       "      <td>Binghamton University. Master of Arts - MA, A...</td>\n",
       "    </tr>\n",
       "    <tr>\n",
       "      <th>4</th>\n",
       "      <td>Amanda Wright.pdf</td>\n",
       "      <td>\\nContact\\nwww.linkedin.com/in/\\namandawri...</td>\n",
       "      <td>1</td>\n",
       "      <td>I am a skilled scientist versed in Python, st...</td>\n",
       "      <td>WW.   Page 1 of 3    . Data Analyst. November...</td>\n",
       "      <td>K2 Data Science. Machine Learning  · (2019 - ...</td>\n",
       "    </tr>\n",
       "  </tbody>\n",
       "</table>\n",
       "</div>"
      ],
      "text/plain": [
       "                     PDF                                               Text  \\\n",
       "0        Aakash Shah.pdf      \\nContact\\naakashs1411@gmail.com\\nwww.link...   \n",
       "1         Akhil Nair.pdf      \\nContact\\nwww.linkedin.com/in/asn95\\n(Lin...   \n",
       "2       Alec Arehart.pdf      \\nContact\\nwww.linkedin.com/in/alec-arehar...   \n",
       "3  Alexander McInroy.pdf      \\nContact\\nalexemcinroy@gmail.com\\nwww.lin...   \n",
       "4      Amanda Wright.pdf      \\nContact\\nwww.linkedin.com/in/\\namandawri...   \n",
       "\n",
       "   label                                            Summary  \\\n",
       "0      1   Aakash is a Data Scientist with 3 years of ex...   \n",
       "1      1   I currently work as an Advanced Process Contr...   \n",
       "2      1   Experienced software engineer with a history ...   \n",
       "3      1   Statistical engineer and consultant with expe...   \n",
       "4      1   I am a skilled scientist versed in Python, st...   \n",
       "\n",
       "                                          Experience  \\\n",
       "0   Medtronic. AI/ML Data Science Engineer II. Oc...   \n",
       "1   Corning Incorporated. Advanced Process Contro...   \n",
       "2   Corning Incorporated. Senior SecDevOps Engine...   \n",
       "3   Corning Incorporated. 4 years 11 months. Sr. ...   \n",
       "4   WW.   Page 1 of 3    . Data Analyst. November...   \n",
       "\n",
       "                                           Education  \n",
       "0   Northeastern University. Master of Science, D...  \n",
       "1   Carnegie Mellon University. Masters in Chemic...  \n",
       "2   Virginia Tech. Master of Information Technolo...  \n",
       "3   Binghamton University. Master of Arts - MA, A...  \n",
       "4   K2 Data Science. Machine Learning  · (2019 - ...  "
      ]
     },
     "execution_count": 2,
     "metadata": {},
     "output_type": "execute_result"
    }
   ],
   "source": [
    "profiles_df = pd.read_csv(\"data/Profiles.csv\")\n",
    "profiles_df.head()"
   ]
  },
  {
   "cell_type": "code",
   "execution_count": 3,
   "id": "65608dd6",
   "metadata": {},
   "outputs": [],
   "source": [
    "columns = profiles_df.columns.to_list()\n",
    "columns.remove('label')\n",
    "\n",
    "X = profiles_df[columns]\n",
    "y = profiles_df['label']"
   ]
  },
  {
   "cell_type": "code",
   "execution_count": 4,
   "id": "758caa96",
   "metadata": {},
   "outputs": [],
   "source": [
    "X_train, X_test, y_train, y_test = train_test_split(X, y, test_size=0.2, random_state=42)"
   ]
  },
  {
   "cell_type": "code",
   "execution_count": 5,
   "id": "e8590045",
   "metadata": {},
   "outputs": [],
   "source": [
    "X_train.to_csv(\"data/X_train.csv\", index=False)\n",
    "y_train.to_csv(\"data/y_train.csv\", index=False)\n",
    "X_test.to_csv(\"data/X_test.csv\", index=False)\n",
    "y_test.to_csv(\"data/y_test.csv\", index=False)"
   ]
  },
  {
   "cell_type": "code",
   "execution_count": null,
   "id": "1c059752",
   "metadata": {},
   "outputs": [],
   "source": []
  }
 ],
 "metadata": {
  "kernelspec": {
   "display_name": "Python 3 (ipykernel)",
   "language": "python",
   "name": "python3"
  },
  "language_info": {
   "codemirror_mode": {
    "name": "ipython",
    "version": 3
   },
   "file_extension": ".py",
   "mimetype": "text/x-python",
   "name": "python",
   "nbconvert_exporter": "python",
   "pygments_lexer": "ipython3",
   "version": "3.10.9"
  }
 },
 "nbformat": 4,
 "nbformat_minor": 5
}
