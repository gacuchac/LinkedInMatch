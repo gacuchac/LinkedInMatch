{
 "cells": [
  {
   "cell_type": "code",
   "execution_count": null,
   "metadata": {},
   "outputs": [],
   "source": []
  },
  {
   "cell_type": "code",
   "execution_count": 14,
   "metadata": {},
   "outputs": [
    {
     "ename": "ImportError",
     "evalue": "cannot import name 'CLIENT_ID' from 'Keys' (C:\\Users\\gacuf\\Documents\\MSAI\\CS5100 Foundations of Artificial Intelligence\\Resume Parser\\LinkedIn\\Keys.py)",
     "output_type": "error",
     "traceback": [
      "\u001b[1;31m---------------------------------------------------------------------------\u001b[0m",
      "\u001b[1;31mImportError\u001b[0m                               Traceback (most recent call last)",
      "Input \u001b[1;32mIn [14]\u001b[0m, in \u001b[0;36m<cell line: 6>\u001b[1;34m()\u001b[0m\n\u001b[0;32m      3\u001b[0m \u001b[38;5;28;01mimport\u001b[39;00m \u001b[38;5;21;01mrandom\u001b[39;00m\n\u001b[0;32m      4\u001b[0m \u001b[38;5;28;01mimport\u001b[39;00m \u001b[38;5;21;01mjson\u001b[39;00m\n\u001b[1;32m----> 6\u001b[0m \u001b[38;5;28;01mfrom\u001b[39;00m \u001b[38;5;21;01mKeys\u001b[39;00m \u001b[38;5;28;01mimport\u001b[39;00m CLIENT_ID, CLIENT_SECRET\n",
      "\u001b[1;31mImportError\u001b[0m: cannot import name 'CLIENT_ID' from 'Keys' (C:\\Users\\gacuf\\Documents\\MSAI\\CS5100 Foundations of Artificial Intelligence\\Resume Parser\\LinkedIn\\Keys.py)"
     ]
    }
   ],
   "source": [
    "import requests\n",
    "import string\n",
    "import random\n",
    "import json\n",
    "\n",
    "from Keys import CLIENT_ID, CLIENT_SECRET"
   ]
  },
  {
   "cell_type": "code",
   "execution_count": 12,
   "metadata": {},
   "outputs": [
    {
     "data": {
      "text/plain": [
       "<module 'Keys' from 'C:\\\\Users\\\\gacuf\\\\Documents\\\\MSAI\\\\CS5100 Foundations of Artificial Intelligence\\\\Resume Parser\\\\LinkedIn\\\\Keys.py'>"
      ]
     },
     "execution_count": 12,
     "metadata": {},
     "output_type": "execute_result"
    }
   ],
   "source": [
    "Keys"
   ]
  },
  {
   "cell_type": "code",
   "execution_count": 13,
   "metadata": {},
   "outputs": [
    {
     "ename": "AttributeError",
     "evalue": "module 'Keys' has no attribute 'CLIENT_ID'",
     "output_type": "error",
     "traceback": [
      "\u001b[1;31m---------------------------------------------------------------------------\u001b[0m",
      "\u001b[1;31mAttributeError\u001b[0m                            Traceback (most recent call last)",
      "Input \u001b[1;32mIn [13]\u001b[0m, in \u001b[0;36m<cell line: 1>\u001b[1;34m()\u001b[0m\n\u001b[1;32m----> 1\u001b[0m CLIENT_ID \u001b[38;5;241m=\u001b[39m \u001b[43mKeys\u001b[49m\u001b[38;5;241;43m.\u001b[39;49m\u001b[43mCLIENT_ID\u001b[49m\n\u001b[0;32m      2\u001b[0m CLIENT_SECRET \u001b[38;5;241m=\u001b[39m Keys\u001b[38;5;241m.\u001b[39mCLIENT_SECRET\n",
      "\u001b[1;31mAttributeError\u001b[0m: module 'Keys' has no attribute 'CLIENT_ID'"
     ]
    }
   ],
   "source": [
    "CLIENT_ID = Keys.CLIENT_ID\n",
    "CLIENT_SECRET = Keys.CLIENT_SECRET"
   ]
  },
  {
   "cell_type": "code",
   "execution_count": 24,
   "metadata": {},
   "outputs": [],
   "source": [
    "REDIRECT_URI = 'http://localhost:8000'"
   ]
  },
  {
   "cell_type": "code",
   "execution_count": 16,
   "metadata": {},
   "outputs": [
    {
     "name": "stdout",
     "output_type": "stream",
     "text": [
      "https://www.linkedin.com/oauth/v2/authorization?response_type=code&client_id=78g7butzuth12z&redirect_uri=http%3A%2F%2Flocalhost%3A8000&state=biejchgcnetzmbddzwxarssl&scope=r_liteprofile%2Cr_emailaddress%2Cw_member_social\n"
     ]
    }
   ],
   "source": [
    "# Generate a random string to protect against cross-site request forgery\n",
    "letters = string.ascii_lowercase\n",
    "CSRF_TOKEN = ''.join(random.choice(letters) for i in range(24))\n",
    "\n",
    "\n",
    "# Request authentication URL\n",
    "auth_params = {'response_type': 'code',\n",
    "               'client_id': CLIENT_ID,\n",
    "               #'client_secret': CLIENT_SECRET,\n",
    "               'redirect_uri': REDIRECT_URI,\n",
    "               #'grant_type':'client_credentials',\n",
    "               'state': CSRF_TOKEN,\n",
    "               'scope': 'r_liteprofile,r_emailaddress,w_member_social'}\n",
    "\n",
    "html = requests.post(\"https://www.linkedin.com/oauth/v2/authorization\",\n",
    "                    params = auth_params)\n",
    "\n",
    "# Print the link to the approval page\n",
    "print(html.url)"
   ]
  },
  {
   "cell_type": "code",
   "execution_count": 29,
   "metadata": {},
   "outputs": [
    {
     "name": "stdout",
     "output_type": "stream",
     "text": [
      "https://www.linkedin.com/uas/login?session_redirect=%2Foauth%2Fv2%2Flogin-success%3Fapp_id%3D57899764%26auth_type%3DAC%26flow%3D%257B%2522scope%2522%253A%2522r_liteprofile%252Cr_emailaddress%252Cw_member_social%2522%252C%2522creationTime%2522%253A1599776221990%252C%2522state%2522%253A%2522biejchgcnetzmbddzwxarssl%2522%252C%2522appId%2522%253A57899764%252C%2522authorizationType%2522%253A%2522OAUTH2_AUTHORIZATION_CODE%2522%252C%2522redirectUri%2522%253A%2522http%253A%252F%252Flocalhost%253A8000%2522%252C%2522currentStage%2522%253A%2522LOGIN_SUCCESS%2522%252C%2522currentSubStage%2522%253A0%252C%2522authFlowName%2522%253A%2522generic-permission-list%2522%257D&fromSignIn=1&trk=oauth&cancel_redirect=%2Foauth%2Fv2%2Flogin-cancel%3Fapp_id%3D57899764%26auth_type%3DAC%26flow%3D%257B%2522scope%2522%253A%2522r_liteprofile%252Cr_emailaddress%252Cw_member_social%2522%252C%2522creationTime%2522%253A1599776221990%252C%2522state%2522%253A%2522biejchgcnetzmbddzwxarssl%2522%252C%2522appId%2522%253A57899764%252C%2522authorizationType%2522%253A%2522OAUTH2_AUTHORIZATION_CODE%2522%252C%2522redirectUri%2522%253A%2522http%253A%252F%252Flocalhost%253A8000%2522%252C%2522currentStage%2522%253A%2522LOGIN_SUCCESS%2522%252C%2522currentSubStage%2522%253A0%252C%2522authFlowName%2522%253A%2522generic-permission-list%2522%257D\n"
     ]
    }
   ],
   "source": [
    "auth_params = {'response_type': 'code',\n",
    "               'client_id': CLIENT_ID,\n",
    "               'client_secret': CLIENT_SECRET,\n",
    "               'redirect_uri': REDIRECT_URI,\n",
    "               #'grant_type':'client_credentials',\n",
    "               'state': CSRF_TOKEN,\n",
    "               'scope': 'r_liteprofile,r_emailaddress,w_member_social'\n",
    "              }\n",
    "\n",
    "html = requests.get(\"https://www.linkedin.com/oauth/v2/authorization\",\n",
    "                    params = auth_params)\n",
    "\n",
    "# Print the link to the approval page\n",
    "print(html.url)"
   ]
  },
  {
   "cell_type": "code",
   "execution_count": null,
   "metadata": {},
   "outputs": [],
   "source": [
    "http://localhost:8000/?code=AQR_yflHcPNsoKZn8nwdlTsPDiwCLPJH83E75o8nd4iVKwTMWI8lG7SqiTcRL8fI40IEte86-Oxirv3Uca0oyw82mazsm4KJQLT2QbPs7Xd9cReSZNIY3dgCA08uNz_hZREAZq4ly99lvM0CKx7ZzQoo7JxZGv125JFt6xjXY-wtZWdPk-AssEYZituMzg&state=biejchgcnetzmbddzwxarssl"
   ]
  },
  {
   "cell_type": "code",
   "execution_count": 30,
   "metadata": {},
   "outputs": [
    {
     "name": "stdout",
     "output_type": "stream",
     "text": [
      "Access Token: AQU0dR1Ta1er3T2lL6s5URwCyjIfidpCzPA0L4BUGItJL_V0AlO8rtdjOX8SEOapaNrjP86FqXp3da7B3od-43s54FynJoMywYbrEntVfCitRqkwndSzqkI-H-S_uwSG64ymLaBDkeRBlL-Z1mre7s-3OfN8v82F3ayCGxXM0MkqM8Ajkd6DNqD6GZY1krk8-GHSU2_VksuVpoNDpWrkhTeRZpRhS24LaV2W5LexZ5ICixlfK0FiXhicFYEShLHa7zN0N2yUQd49B7q1uHrfvM0AJfkqVn1SREh9AauxpH2x-WloDDaFuHs-HUXUphZqZvc0MK8nQNVDQvMaaDsVzp6M1zbT2w\n",
      "Expires in (seconds): 5183999\n"
     ]
    }
   ],
   "source": [
    "\n",
    "AUTH_CODE ='AQR_yflHcPNsoKZn8nwdlTsPDiwCLPJH83E75o8nd4iVKwTMWI8lG7SqiTcRL8fI40IEte86-Oxirv3Uca0oyw82mazsm4KJQLT2QbPs7Xd9cReSZNIY3dgCA08uNz_hZREAZq4ly99lvM0CKx7ZzQoo7JxZGv125JFt6xjXY-wtZWdPk-AssEYZituMzg'\n",
    "\n",
    "ACCESS_TOKEN_URL = 'https://www.linkedin.com/oauth/v2/accessToken'\n",
    "\n",
    "qd = {'grant_type': 'authorization_code',\n",
    "      'code': AUTH_CODE,\n",
    "      'redirect_uri': REDIRECT_URI,\n",
    "      'client_id': CLIENT_ID,\n",
    "      'client_secret': CLIENT_SECRET}\n",
    "\n",
    "response = requests.post(ACCESS_TOKEN_URL, data=qd, timeout=60)\n",
    "\n",
    "response = response.json()\n",
    "\n",
    "access_token = response['access_token']\n",
    "\n",
    "print (\"Access Token:\", access_token)\n",
    "print (\"Expires in (seconds):\", response['expires_in'])"
   ]
  },
  {
   "cell_type": "code",
   "execution_count": 31,
   "metadata": {},
   "outputs": [
    {
     "name": "stdout",
     "output_type": "stream",
     "text": [
      "{\n",
      " \"localizedLastName\": \"Cuchacovich\",\n",
      " \"profilePicture\": {\n",
      "  \"displayImage\": \"urn:li:digitalmediaAsset:C4E03AQG7XLjykfCzjQ\"\n",
      " },\n",
      " \"firstName\": {\n",
      "  \"localized\": {\n",
      "   \"en_US\": \"Gabriel\"\n",
      "  },\n",
      "  \"preferredLocale\": {\n",
      "   \"country\": \"US\",\n",
      "   \"language\": \"en\"\n",
      "  }\n",
      " },\n",
      " \"lastName\": {\n",
      "  \"localized\": {\n",
      "   \"en_US\": \"Cuchacovich\"\n",
      "  },\n",
      "  \"preferredLocale\": {\n",
      "   \"country\": \"US\",\n",
      "   \"language\": \"en\"\n",
      "  }\n",
      " },\n",
      " \"id\": \"AEZdMH8Uc0\",\n",
      " \"localizedFirstName\": \"Gabriel\"\n",
      "}\n"
     ]
    }
   ],
   "source": [
    "params = {'oauth2_access_token': access_token}\n",
    "response = requests.get('https://api.linkedin.com/v2/me', params = params)\n",
    "\n",
    "print(json.dumps(response.json(), indent=1))"
   ]
  }
 ],
 "metadata": {
  "kernelspec": {
   "display_name": "Python 3 (ipykernel)",
   "language": "python",
   "name": "python3"
  },
  "language_info": {
   "codemirror_mode": {
    "name": "ipython",
    "version": 3
   },
   "file_extension": ".py",
   "mimetype": "text/x-python",
   "name": "python",
   "nbconvert_exporter": "python",
   "pygments_lexer": "ipython3",
   "version": "3.9.12"
  }
 },
 "nbformat": 4,
 "nbformat_minor": 4
}
