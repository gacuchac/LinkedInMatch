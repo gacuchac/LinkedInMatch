{
 "cells": [
  {
   "cell_type": "code",
   "execution_count": null,
   "metadata": {},
   "outputs": [],
   "source": [
    "# import web driver\n",
    "from selenium import webdriver\n",
    "from selenium.webdriver.common.by import By\n",
    "from Keys import CLIENT_ID, CLIENT_SECRET\n",
    "import time\n",
    "import pandas as pd\n",
    "import os"
   ]
  },
  {
   "cell_type": "code",
   "execution_count": null,
   "metadata": {},
   "outputs": [],
   "source": [
    "# specifies the path to the chromedriver.exe\n",
    "options = webdriver.ChromeOptions()\n",
    "options.add_argument(\"--start-maximized\")\n",
    "\n",
    "prefs = {\n",
    "\"download.default_directory\": r\"C:\\Users\\gacuf\\Documents\\MSAI\\CS5100 Foundations of Artificial Intelligence\\Resume Parser\\LinkedIn\\data\\English Teachers Profiles\",\n",
    "\"download.prompt_for_download\": False,\n",
    "\"download.directory_upgrade\": True\n",
    "}\n",
    "\n",
    "options.add_experimental_option('prefs', prefs)\n",
    "\n",
    "driver = webdriver.Chrome('chromedriver',chrome_options=options)\n",
    "\n",
    "# driver.get method() will navigate to a page given by the URL address\n",
    "driver.get('https://www.linkedin.com')\n",
    "time.sleep(1)"
   ]
  },
  {
   "cell_type": "code",
   "execution_count": null,
   "metadata": {},
   "outputs": [],
   "source": [
    "# locate email form by_class_name\n",
    "username = driver.find_element_by_id('session_key')\n",
    "\n",
    "# send_keys() to simulate key strokes\n",
    "username.send_keys(CLIENT_ID)"
   ]
  },
  {
   "cell_type": "code",
   "execution_count": null,
   "metadata": {},
   "outputs": [],
   "source": [
    "# locate password form by_class_name\n",
    "password = driver.find_element_by_id('session_password')\n",
    "\n",
    "# send_keys() to simulate key strokes\n",
    "password.send_keys(CLIENT_SECRET)"
   ]
  },
  {
   "cell_type": "code",
   "execution_count": null,
   "metadata": {},
   "outputs": [],
   "source": [
    "# locate submit button by_class_name\n",
    "log_in_button = driver.find_element(By.XPATH, \"//button[@data-id='sign-in-form__submit-btn']\")\n",
    "\n",
    "# .click() to mimic button click\n",
    "log_in_button.click()"
   ]
  },
  {
   "cell_type": "code",
   "execution_count": null,
   "metadata": {},
   "outputs": [],
   "source": [
    "# Get Job listing for machine learning in boston entry level\n",
    "url = \"https://www.linkedin.com/jobs/search/?f_CR=103644278&f_E=2&geoId=102380872&keywords=machine%20learning&location=Boston%2C%20Massachusetts%2C%20United%20States&refresh=true&sortBy=R\"\n",
    "driver.get(url)\n",
    "time.sleep(3)"
   ]
  },
  {
   "cell_type": "code",
   "execution_count": null,
   "metadata": {},
   "outputs": [],
   "source": [
    "job_list_xpath_len = 0\n",
    "job_list_xpath = driver.find_elements_by_xpath(\"//div[contains(@class, 'clickable')]\")\n",
    "\n",
    "while len(job_list_xpath) > job_list_xpath_len: \n",
    "    time.sleep(1)\n",
    "    job_list_xpath_len = len(job_list_xpath)\n",
    "    \n",
    "    driver.execute_script(\"arguments[0].scrollIntoView();\", job_list_xpath[-1])\n",
    "    time.sleep(1)\n",
    "    job_list_xpath = driver.find_elements_by_xpath(\"//div[contains(@class, 'clickable')]\")"
   ]
  },
  {
   "cell_type": "code",
   "execution_count": null,
   "metadata": {},
   "outputs": [],
   "source": [
    "job_description = []\n",
    "company_urls = []\n",
    "time.sleep(3)\n",
    "company_name = []\n",
    "job_title = []\n",
    "\n",
    "for job in job_list_xpath:\n",
    "    job.click()\n",
    "    time.sleep(1)\n",
    "    \n",
    "    text = driver.find_element_by_class_name(\"jobs-box__html-content.jobs-description-content__text.t-14.t-normal.jobs-description-content__text--stretch\").text\n",
    "    job_description.append(text)\n",
    "    \n",
    "    title = driver.find_element_by_class_name(\"t-24.t-bold.jobs-unified-top-card__job-title\").text\n",
    "    job_title.append(title)\n",
    "    \n",
    "    name = driver.find_element_by_class_name(\"jobs-unified-top-card__company-name\").text\n",
    "    company_name.append(name)\n",
    "    \n",
    "    company_url = driver.find_element_by_class_name(\"ember-view.link-without-visited-state.inline-block.t-black\")\n",
    "    company_urls.append(company_url.get_attribute(\"href\").replace(\"/life/\",\"/people/?facetGeoRegion=103644278&keywords=machine%20learning\"))"
   ]
  },
  {
   "cell_type": "code",
   "execution_count": null,
   "metadata": {},
   "outputs": [],
   "source": [
    "jobs_df = pd.DataFrame()\n",
    "jobs_df[\"Company\"] = pd.Series(company_name)\n",
    "jobs_df[\"URL\"] = pd.Series(company_urls)\n",
    "jobs_df[\"Title\"] = pd.Series(job_title)\n",
    "jobs_df[\"Description\"] = pd.Series(job_description)\n",
    "\n",
    "jobs_df.to_csv(\"data/MLJobs.csv\")"
   ]
  },
  {
   "cell_type": "code",
   "execution_count": null,
   "metadata": {},
   "outputs": [],
   "source": [
    "profiles = []\n",
    "company_name = []\n",
    "checked = []\n",
    "\n",
    "for i, job in jobs_df.iterrows():\n",
    "    if job[0] in checked:\n",
    "        continue\n",
    "        \n",
    "    try:\n",
    "        driver.get(job[1])\n",
    "        time.sleep(2)\n",
    "        driver.execute_script(\"window.scrollTo(0, document.body.scrollHeight);\")\n",
    "        time.sleep(2)\n",
    "        driver.execute_script(\"window.scrollTo(0, document.body.scrollHeight);\")\n",
    "        time.sleep(2)\n",
    "        driver.execute_script(\"window.scrollTo(0, document.body.scrollHeight);\")\n",
    "        time.sleep(2)\n",
    "        people_list = driver.find_elements_by_class_name(\"display-flex.list-style-none.flex-wrap\")\n",
    "        people_urls = people_list[0].find_elements_by_class_name(\"app-aware-link\")\n",
    "        for profile in people_urls:\n",
    "            profiles.append(profile.get_attribute(\"href\"))\n",
    "            company_name.append(job[0])\n",
    "        \n",
    "        checked.append(job[0])\n",
    "       \n",
    "    except:\n",
    "        print(\"No employees for: \", job[0])\n",
    "    "
   ]
  },
  {
   "cell_type": "code",
   "execution_count": null,
   "metadata": {},
   "outputs": [],
   "source": [
    "profiles_df = pd.DataFrame()\n",
    "profiles_df[\"Company\"] = pd.Series(company_name)\n",
    "profiles_df[\"Profile\"] = pd.Series(profiles)\n",
    "profiles_df = profiles_df.drop_duplicates().reset_index(drop=True)\n",
    "profiles_df.to_csv(\"data/MLProfiles_URL.csv\")"
   ]
  },
  {
   "cell_type": "code",
   "execution_count": null,
   "metadata": {},
   "outputs": [],
   "source": [
    "profile_df = pd.read_csv(\"data/MLProfiles_URL.csv\")\n",
    "errors = 0\n",
    "\n",
    "for profile in profiles_df[\"Profile\"]:\n",
    "    \n",
    "    driver.get(profile)\n",
    "    time.sleep(1)\n",
    "\n",
    "    # Name\n",
    "    name = driver.find_element_by_class_name(\"text-heading-xlarge.inline.t-24.v-align-middle.break-words\").text\n",
    "    print(\"Downloading: \", name)\n",
    "    \n",
    "    # More\n",
    "    more = driver.find_elements_by_class_name(\"artdeco-dropdown__trigger.artdeco-dropdown__trigger--placement-bottom.ember-view.pvs-profile-actions__action.artdeco-button.artdeco-button--secondary.artdeco-button--muted.artdeco-button--2\")[1]\n",
    "    more.click()\n",
    "    time.sleep(2)\n",
    "\n",
    "    # PDF\n",
    "    content = \"artdeco-dropdown__content-inner\"\n",
    "    overflow = driver.find_elements_by_class_name(content)\n",
    "    overflow[1].find_elements_by_tag_name(\"li\")[1].click()\n",
    "    \n",
    "    time.sleep(3)\n",
    "    \n",
    "    try:\n",
    "        # Rename\n",
    "        if errors == 0:\n",
    "            old_name = os.path.join(\"data\",\"Profile.pdf\")\n",
    "            new_name = os.path.join(\"data\",name + \".pdf\")\n",
    "            os.rename(old_name,new_name)\n",
    "        else:\n",
    "            old_name = os.path.join(\"data\",\"Profile (\" + str(errors) + \").pdf\")\n",
    "            new_name = os.path.join(\"data\",name + \".pdf\")\n",
    "            os.rename(old_name,new_name)\n",
    "            \n",
    "    \n",
    "    except Exception as e: \n",
    "        print(e)\n",
    "        errors +=1"
   ]
  },
  {
   "cell_type": "code",
   "execution_count": null,
   "metadata": {},
   "outputs": [],
   "source": [
    "# Get Job listing for painters in boston entry level\n",
    "url = \"https://www.linkedin.com/jobs/search/?geoId=102380872&keywords=painter%20painting&location=Boston%2C%20Massachusetts%2C%20United%20States&refresh=true\"\n",
    "driver.get(url)\n",
    "time.sleep(3)"
   ]
  },
  {
   "cell_type": "code",
   "execution_count": null,
   "metadata": {},
   "outputs": [],
   "source": [
    "job_list_xpath_len = 0\n",
    "job_list_xpath = driver.find_elements_by_xpath(\"//div[contains(@class, 'clickable')]\")\n",
    "\n",
    "while len(job_list_xpath) > job_list_xpath_len: \n",
    "    time.sleep(1)\n",
    "    job_list_xpath_len = len(job_list_xpath)\n",
    "    \n",
    "    driver.execute_script(\"arguments[0].scrollIntoView();\", job_list_xpath[-1])\n",
    "    time.sleep(1)\n",
    "    job_list_xpath = driver.find_elements_by_xpath(\"//div[contains(@class, 'clickable')]\")"
   ]
  },
  {
   "cell_type": "code",
   "execution_count": null,
   "metadata": {},
   "outputs": [],
   "source": [
    "job_description = []\n",
    "company_urls = []\n",
    "time.sleep(3)\n",
    "company_name = []\n",
    "job_title = []\n",
    "\n",
    "for job in job_list_xpath:\n",
    "    job.click()\n",
    "    time.sleep(1)\n",
    "    \n",
    "    text = driver.find_element_by_class_name(\"jobs-box__html-content.jobs-description-content__text.t-14.t-normal.jobs-description-content__text--stretch\").text\n",
    "    job_description.append(text)\n",
    "    \n",
    "    title = driver.find_element_by_class_name(\"t-24.t-bold.jobs-unified-top-card__job-title\").text\n",
    "    job_title.append(title)\n",
    "    \n",
    "    name = driver.find_element_by_class_name(\"jobs-unified-top-card__company-name\").text\n",
    "    company_name.append(name)\n",
    "    \n",
    "    company_url = driver.find_element_by_class_name(\"ember-view.link-without-visited-state.inline-block.t-black\")\n",
    "    company_urls.append(company_url.get_attribute(\"href\").replace(\"/life/\",\"/people/?facetGeoRegion=103644278&keywords=painter%20painting\"))"
   ]
  },
  {
   "cell_type": "code",
   "execution_count": null,
   "metadata": {},
   "outputs": [],
   "source": [
    "jobs_df = pd.DataFrame()\n",
    "jobs_df[\"Company\"] = pd.Series(company_name)\n",
    "jobs_df[\"URL\"] = pd.Series(company_urls)\n",
    "jobs_df[\"Title\"] = pd.Series(job_title)\n",
    "jobs_df[\"Description\"] = pd.Series(job_description)\n",
    "\n",
    "jobs_df.to_csv(\"data/PaintingJobs.csv\")"
   ]
  },
  {
   "cell_type": "code",
   "execution_count": null,
   "metadata": {},
   "outputs": [],
   "source": [
    "profiles = []\n",
    "company_name = []\n",
    "checked = []\n",
    "\n",
    "for i, job in jobs_df.iterrows():\n",
    "    if job[0] in checked:\n",
    "        continue\n",
    "        \n",
    "    try:\n",
    "        driver.get(job[1])\n",
    "        time.sleep(2)\n",
    "        driver.execute_script(\"window.scrollTo(0, document.body.scrollHeight);\")\n",
    "        time.sleep(2)\n",
    "        driver.execute_script(\"window.scrollTo(0, document.body.scrollHeight);\")\n",
    "        time.sleep(2)\n",
    "        driver.execute_script(\"window.scrollTo(0, document.body.scrollHeight);\")\n",
    "        time.sleep(2)\n",
    "        people_list = driver.find_elements_by_class_name(\"display-flex.list-style-none.flex-wrap\")\n",
    "        people_urls = people_list[0].find_elements_by_class_name(\"app-aware-link\")\n",
    "        for profile in people_urls:\n",
    "            profiles.append(profile.get_attribute(\"href\"))\n",
    "            company_name.append(job[0])\n",
    "        \n",
    "        checked.append(job[0])\n",
    "       \n",
    "    except:\n",
    "        print(\"No employees for: \", job[0])\n",
    "    "
   ]
  },
  {
   "cell_type": "code",
   "execution_count": null,
   "metadata": {},
   "outputs": [],
   "source": [
    "profiles_df = pd.DataFrame()\n",
    "profiles_df[\"Company\"] = pd.Series(company_name)\n",
    "profiles_df[\"Profile\"] = pd.Series(profiles)\n",
    "profiles_df = profiles_df.drop_duplicates().reset_index(drop=True)\n",
    "profiles_df.to_csv(\"data/PaintingProfiles_URL.csv\")"
   ]
  },
  {
   "cell_type": "code",
   "execution_count": null,
   "metadata": {},
   "outputs": [],
   "source": [
    "profiles_df = pd.read_csv(\"data/PaintingProfiles_URL.csv\")\n",
    "errors = 0\n",
    "\n",
    "for profile in profiles_df[\"Profile\"][:12]:\n",
    "    \n",
    "    driver.get(profile)\n",
    "    time.sleep(1)\n",
    "\n",
    "    # Name\n",
    "    name = driver.find_element_by_class_name(\"text-heading-xlarge.inline.t-24.v-align-middle.break-words\").text\n",
    "    print(\"Downloading: \", name)\n",
    "    \n",
    "    # More\n",
    "    more = driver.find_elements_by_class_name(\"artdeco-dropdown__trigger.artdeco-dropdown__trigger--placement-bottom.ember-view.pvs-profile-actions__action.artdeco-button.artdeco-button--secondary.artdeco-button--muted.artdeco-button--2\")[1]\n",
    "    more.click()\n",
    "    time.sleep(2)\n",
    "\n",
    "    # PDF\n",
    "    content = \"artdeco-dropdown__content-inner\"\n",
    "    overflow = driver.find_elements_by_class_name(content)\n",
    "    overflow[1].find_elements_by_tag_name(\"li\")[1].click()\n",
    "    \n",
    "    time.sleep(3)\n",
    "    \n",
    "    try:\n",
    "        # Rename\n",
    "        if errors == 0:\n",
    "            old_name = os.path.join(\"data\",\"Profile.pdf\")\n",
    "            new_name = os.path.join(\"data\",name + \".pdf\")\n",
    "            os.rename(old_name,new_name)\n",
    "        else:\n",
    "            old_name = os.path.join(\"data\",\"Profile (\" + str(errors) + \").pdf\")\n",
    "            new_name = os.path.join(\"data\",name + \".pdf\")\n",
    "            os.rename(old_name,new_name)\n",
    "            \n",
    "    \n",
    "    except Exception as e: \n",
    "        print(e)\n",
    "        errors +=1"
   ]
  },
  {
   "cell_type": "code",
   "execution_count": null,
   "metadata": {},
   "outputs": [],
   "source": [
    "driver.quit()"
   ]
  }
 ],
 "metadata": {
  "kernelspec": {
   "display_name": "Python 3 (ipykernel)",
   "language": "python",
   "name": "python3"
  },
  "language_info": {
   "codemirror_mode": {
    "name": "ipython",
    "version": 3
   },
   "file_extension": ".py",
   "mimetype": "text/x-python",
   "name": "python",
   "nbconvert_exporter": "python",
   "pygments_lexer": "ipython3",
   "version": "3.10.9"
  }
 },
 "nbformat": 4,
 "nbformat_minor": 4
}
