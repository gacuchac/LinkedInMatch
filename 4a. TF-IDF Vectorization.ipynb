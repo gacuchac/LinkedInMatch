{
 "cells": [
  {
   "cell_type": "code",
   "execution_count": 1,
   "id": "f5203e1b",
   "metadata": {},
   "outputs": [],
   "source": [
    "from sklearn.feature_extraction.text import TfidfVectorizer\n",
    "import pandas as pd\n",
    "import numpy as np\n",
    "import nltk\n",
    "from nltk.corpus import stopwords\n",
    "from nltk.tokenize import word_tokenize\n",
    "import pickle\n",
    "from scipy import sparse"
   ]
  },
  {
   "cell_type": "code",
   "execution_count": 2,
   "id": "e1aed8c6",
   "metadata": {},
   "outputs": [
    {
     "name": "stderr",
     "output_type": "stream",
     "text": [
      "[nltk_data] Downloading package stopwords to\n",
      "[nltk_data]     C:\\Users\\gacuf\\AppData\\Roaming\\nltk_data...\n",
      "[nltk_data]   Package stopwords is already up-to-date!\n",
      "[nltk_data] Downloading package punkt to\n",
      "[nltk_data]     C:\\Users\\gacuf\\AppData\\Roaming\\nltk_data...\n",
      "[nltk_data]   Package punkt is already up-to-date!\n"
     ]
    }
   ],
   "source": [
    "nltk.download('stopwords')\n",
    "nltk.download('punkt')\n",
    "english_stopwords = stopwords.words('english')"
   ]
  },
  {
   "cell_type": "code",
   "execution_count": 3,
   "id": "6175df35",
   "metadata": {},
   "outputs": [],
   "source": [
    "train_profiles = pd.read_csv(\"data/X_train.csv\")\n",
    "test_profiles = pd.read_csv(\"data/X_test.csv\")"
   ]
  },
  {
   "cell_type": "code",
   "execution_count": 4,
   "id": "f7f4d37d",
   "metadata": {},
   "outputs": [],
   "source": [
    "def remove_stopwords(text):\n",
    "    tokens = word_tokenize(text.lower())\n",
    "    tokens_wo_stopwords = [t for t in tokens if t not in english_stopwords]\n",
    "    text_no_stopwords = \" \".join(tokens_wo_stopwords)\n",
    "    return text_no_stopwords"
   ]
  },
  {
   "cell_type": "code",
   "execution_count": 5,
   "id": "27ecb5ae",
   "metadata": {},
   "outputs": [],
   "source": [
    "train_texts = train_profiles[\"Text\"]\n",
    "train_texts_no_stopwords = []\n",
    "for text in train_texts:\n",
    "    train_texts_no_stopwords.append(remove_stopwords(text))"
   ]
  },
  {
   "cell_type": "code",
   "execution_count": 6,
   "id": "68b77596",
   "metadata": {},
   "outputs": [],
   "source": [
    "test_texts = test_profiles[\"Text\"]\n",
    "test_texts_no_stopwords = []\n",
    "for text in test_texts:\n",
    "    test_texts_no_stopwords.append(remove_stopwords(text))"
   ]
  },
  {
   "cell_type": "code",
   "execution_count": 7,
   "id": "b9e62053",
   "metadata": {},
   "outputs": [],
   "source": [
    "corpus = train_texts_no_stopwords\n",
    "vectorizer = TfidfVectorizer()\n",
    "tfidf = vectorizer.fit_transform(corpus)\n",
    "train_profiles_features = vectorizer.transform(train_texts_no_stopwords)\n",
    "test_profiles_features = vectorizer.transform(test_texts_no_stopwords)"
   ]
  },
  {
   "cell_type": "code",
   "execution_count": 8,
   "id": "99f1604a",
   "metadata": {},
   "outputs": [],
   "source": [
    "sparse.save_npz(\"data/train_profiles_features.npz\", train_profiles_features)\n",
    "sparse.save_npz(\"data/test_profiles_features.npz\", test_profiles_features)"
   ]
  },
  {
   "cell_type": "code",
   "execution_count": null,
   "id": "492d0815",
   "metadata": {},
   "outputs": [],
   "source": [
    "pickle.dump(tfidf, open(\"data/tfidf.pickle\", \"wb\"))\n",
    "pickle.dump(train_profiles_features, open(\"data/train_profiles_features.pickle\", \"wb\"))\n",
    "pickle.dump(test_profiles_features, open(\"data/test_profiles_features.pickle\", \"wb\"))"
   ]
  },
  {
   "cell_type": "code",
   "execution_count": null,
   "id": "58d2385e",
   "metadata": {},
   "outputs": [],
   "source": []
  }
 ],
 "metadata": {
  "kernelspec": {
   "display_name": "Python 3 (ipykernel)",
   "language": "python",
   "name": "python3"
  },
  "language_info": {
   "codemirror_mode": {
    "name": "ipython",
    "version": 3
   },
   "file_extension": ".py",
   "mimetype": "text/x-python",
   "name": "python",
   "nbconvert_exporter": "python",
   "pygments_lexer": "ipython3",
   "version": "3.9.16"
  }
 },
 "nbformat": 4,
 "nbformat_minor": 5
}
