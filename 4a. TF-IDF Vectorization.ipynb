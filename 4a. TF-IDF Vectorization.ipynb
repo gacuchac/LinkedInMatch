{
 "cells": [
  {
   "cell_type": "code",
   "execution_count": 20,
   "id": "f5203e1b",
   "metadata": {},
   "outputs": [],
   "source": [
    "from sklearn.feature_extraction.text import TfidfVectorizer\n",
    "from sklearn.decomposition import TruncatedSVD\n",
    "import pandas as pd\n",
    "import numpy as np\n",
    "import nltk\n",
    "from nltk.corpus import stopwords\n",
    "from nltk.tokenize import word_tokenize\n",
    "import pickle\n",
    "from scipy import sparse\n",
    "import matplotlib.pyplot as plt"
   ]
  },
  {
   "cell_type": "code",
   "execution_count": 2,
   "id": "e1aed8c6",
   "metadata": {},
   "outputs": [
    {
     "name": "stderr",
     "output_type": "stream",
     "text": [
      "[nltk_data] Downloading package stopwords to\n",
      "[nltk_data]     C:\\Users\\gacuf\\AppData\\Roaming\\nltk_data...\n",
      "[nltk_data]   Package stopwords is already up-to-date!\n",
      "[nltk_data] Downloading package punkt to\n",
      "[nltk_data]     C:\\Users\\gacuf\\AppData\\Roaming\\nltk_data...\n",
      "[nltk_data]   Package punkt is already up-to-date!\n"
     ]
    }
   ],
   "source": [
    "nltk.download('stopwords')\n",
    "nltk.download('punkt')\n",
    "english_stopwords = stopwords.words('english')"
   ]
  },
  {
   "cell_type": "code",
   "execution_count": 21,
   "id": "6175df35",
   "metadata": {},
   "outputs": [],
   "source": [
    "train_profiles = pd.read_csv(\"data/X_train.csv\")\n",
    "test_profiles = pd.read_csv(\"data/X_test.csv\")\n",
    "y_train = pd.read_csv(\"data/y_train.csv\")"
   ]
  },
  {
   "cell_type": "code",
   "execution_count": 30,
   "id": "9833e044",
   "metadata": {},
   "outputs": [
    {
     "data": {
      "text/html": [
       "<div>\n",
       "<style scoped>\n",
       "    .dataframe tbody tr th:only-of-type {\n",
       "        vertical-align: middle;\n",
       "    }\n",
       "\n",
       "    .dataframe tbody tr th {\n",
       "        vertical-align: top;\n",
       "    }\n",
       "\n",
       "    .dataframe thead th {\n",
       "        text-align: right;\n",
       "    }\n",
       "</style>\n",
       "<table border=\"1\" class=\"dataframe\">\n",
       "  <thead>\n",
       "    <tr style=\"text-align: right;\">\n",
       "      <th></th>\n",
       "      <th>Unnamed: 0</th>\n",
       "      <th>label</th>\n",
       "    </tr>\n",
       "  </thead>\n",
       "  <tbody>\n",
       "    <tr>\n",
       "      <th>0</th>\n",
       "      <td>158</td>\n",
       "      <td>0</td>\n",
       "    </tr>\n",
       "    <tr>\n",
       "      <th>1</th>\n",
       "      <td>137</td>\n",
       "      <td>0</td>\n",
       "    </tr>\n",
       "    <tr>\n",
       "      <th>2</th>\n",
       "      <td>98</td>\n",
       "      <td>1</td>\n",
       "    </tr>\n",
       "    <tr>\n",
       "      <th>3</th>\n",
       "      <td>159</td>\n",
       "      <td>0</td>\n",
       "    </tr>\n",
       "    <tr>\n",
       "      <th>4</th>\n",
       "      <td>38</td>\n",
       "      <td>1</td>\n",
       "    </tr>\n",
       "  </tbody>\n",
       "</table>\n",
       "</div>"
      ],
      "text/plain": [
       "   Unnamed: 0  label\n",
       "0         158      0\n",
       "1         137      0\n",
       "2          98      1\n",
       "3         159      0\n",
       "4          38      1"
      ]
     },
     "execution_count": 30,
     "metadata": {},
     "output_type": "execute_result"
    }
   ],
   "source": [
    "y_train.head()"
   ]
  },
  {
   "cell_type": "code",
   "execution_count": 4,
   "id": "f7f4d37d",
   "metadata": {},
   "outputs": [],
   "source": [
    "def remove_stopwords(text):\n",
    "    tokens = word_tokenize(text.lower())\n",
    "    tokens_wo_stopwords = [t for t in tokens if t not in english_stopwords]\n",
    "    text_no_stopwords = \" \".join(tokens_wo_stopwords)\n",
    "    return text_no_stopwords"
   ]
  },
  {
   "cell_type": "code",
   "execution_count": 5,
   "id": "27ecb5ae",
   "metadata": {},
   "outputs": [],
   "source": [
    "train_texts = train_profiles[\"Text\"]\n",
    "train_texts_no_stopwords = []\n",
    "for text in train_texts:\n",
    "    train_texts_no_stopwords.append(remove_stopwords(text))"
   ]
  },
  {
   "cell_type": "code",
   "execution_count": 6,
   "id": "68b77596",
   "metadata": {},
   "outputs": [],
   "source": [
    "test_texts = test_profiles[\"Text\"]\n",
    "test_texts_no_stopwords = []\n",
    "for text in test_texts:\n",
    "    test_texts_no_stopwords.append(remove_stopwords(text))"
   ]
  },
  {
   "cell_type": "code",
   "execution_count": 13,
   "id": "b9e62053",
   "metadata": {},
   "outputs": [],
   "source": [
    "corpus = train_texts_no_stopwords\n",
    "vectorizer = TfidfVectorizer()\n",
    "tfidf = vectorizer.fit_transform(corpus)\n",
    "train_profiles_features = vectorizer.transform(train_texts_no_stopwords)\n",
    "test_profiles_features = vectorizer.transform(test_texts_no_stopwords)"
   ]
  },
  {
   "cell_type": "code",
   "execution_count": 18,
   "id": "3145830e",
   "metadata": {},
   "outputs": [],
   "source": [
    "svd = TruncatedSVD(n_components=2)\n",
    "svd_mdl = svd.fit_transform(train_profiles_features)"
   ]
  },
  {
   "cell_type": "code",
   "execution_count": 49,
   "id": "9d9d081e",
   "metadata": {},
   "outputs": [],
   "source": [
    "#svd_mdl\n",
    "V_plot = pd.DataFrame()\n",
    "V_plot[\"X\"] = svd_mdl[:,0]\n",
    "V_plot[\"Y\"] = svd_mdl[:,1]\n",
    "V_plot[\"label\"] = y_train[\"label\"]"
   ]
  },
  {
   "cell_type": "code",
   "execution_count": 51,
   "id": "89999404",
   "metadata": {},
   "outputs": [
    {
     "data": {
      "text/plain": [
       "<matplotlib.legend.Legend at 0x24140bec580>"
      ]
     },
     "execution_count": 51,
     "metadata": {},
     "output_type": "execute_result"
    },
    {
     "data": {
      "image/png": "[encoded data removed]",
      "text/plain": [
       "<Figure size 640x480 with 1 Axes>"
      ]
     },
     "metadata": {},
     "output_type": "display_data"
    }
   ],
   "source": [
    "plt.scatter(V_plot[V_plot[\"label\"]==1][\"X\"], V_plot[V_plot[\"label\"]==1][\"Y\"], c=\"red\", label=\"ML Profile\")\n",
    "plt.scatter(V_plot[V_plot[\"label\"]==0][\"X\"], V_plot[V_plot[\"label\"]==0][\"Y\"], c=\"blue\", label=\"Other Profiles\")\n",
    "plt.title(\"TF-IDF Truncated SVD 2D plot\")\n",
    "plt.legend()"
   ]
  },
  {
   "cell_type": "code",
   "execution_count": null,
   "id": "8f260822",
   "metadata": {},
   "outputs": [],
   "source": []
  },
  {
   "cell_type": "code",
   "execution_count": null,
   "id": "5f99fcdb",
   "metadata": {},
   "outputs": [],
   "source": []
  },
  {
   "cell_type": "code",
   "execution_count": null,
   "id": "99f1604a",
   "metadata": {},
   "outputs": [],
   "source": [
    "sparse.save_npz(\"data/train_profiles_features.npz\", train_profiles_features)\n",
    "sparse.save_npz(\"data/test_profiles_features.npz\", test_profiles_features)"
   ]
  },
  {
   "cell_type": "code",
   "execution_count": null,
   "id": "492d0815",
   "metadata": {},
   "outputs": [],
   "source": [
    "pickle.dump(tfidf, open(\"data/tfidf.pickle\", \"wb\"))\n",
    "pickle.dump(train_profiles_features, open(\"data/train_profiles_features.pickle\", \"wb\"))\n",
    "pickle.dump(test_profiles_features, open(\"data/test_profiles_features.pickle\", \"wb\"))"
   ]
  },
  {
   "cell_type": "code",
   "execution_count": null,
   "id": "58d2385e",
   "metadata": {},
   "outputs": [],
   "source": []
  }
 ],
 "metadata": {
  "kernelspec": {
   "display_name": "Python 3 (ipykernel)",
   "language": "python",
   "name": "python3"
  },
  "language_info": {
   "codemirror_mode": {
    "name": "ipython",
    "version": 3
   },
   "file_extension": ".py",
   "mimetype": "text/x-python",
   "name": "python",
   "nbconvert_exporter": "python",
   "pygments_lexer": "ipython3",
   "version": "3.10.9"
  }
 },
 "nbformat": 4,
 "nbformat_minor": 5
}
