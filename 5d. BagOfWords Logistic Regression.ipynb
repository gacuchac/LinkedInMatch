{
 "cells": [
  {
   "cell_type": "code",
   "execution_count": 23,
   "metadata": {
    "collapsed": true
   },
   "outputs": [],
   "source": [
    "from sklearn.linear_model import LogisticRegression\n",
    "import pandas as pd\n",
    "from scipy import sparse\n",
    "import os\n",
    "from sklearn.linear_model import SGDClassifier"
   ]
  },
  {
   "cell_type": "code",
   "execution_count": 15,
   "outputs": [
    {
     "data": {
      "text/plain": "['.git',\n '.gitignore',\n '.ipynb_checkpoints',\n '1. Resume.ipynb',\n '2. Text Extraction.ipynb',\n '3. Train Test Split.ipynb',\n '4a. TF-IDF Vectorization.ipynb',\n '4b. BERT Vectorization.ipynb',\n '4c. Word2Vec Vectorization.ipynb',\n '5a. TF-IDF Logistic Regression.ipynb',\n '5b. Word2Vec Logistic Regression.ipynb',\n '6a. BagOfWords Vectorization.ipynb',\n '6b. BagOfWords Logistic Regression.ipynb',\n 'chromedriver.exe',\n 'data',\n 'debug.log',\n 'IBResume.ipynb',\n 'Keys.py',\n 'summaries.pt',\n '__pycache__']"
     },
     "execution_count": 15,
     "metadata": {},
     "output_type": "execute_result"
    }
   ],
   "source": [
    "os.chdir(\"C:\\\\Users\\wwwdz\\OneDrive\\Desktop\\Spring Semester 2023\\AI\\FinalProject\\LinkedInMatch\")\n",
    "os.listdir()"
   ],
   "metadata": {
    "collapsed": false
   }
  },
  {
   "cell_type": "code",
   "execution_count": 16,
   "outputs": [],
   "source": [
    "X_train = sparse.load_npz(\"data/train_bow_feature_vectors.npz\")\n",
    "X_test = sparse.load_npz(\"data/test_bow_feature_vectors.npz\")"
   ],
   "metadata": {
    "collapsed": false
   }
  },
  {
   "cell_type": "code",
   "execution_count": 17,
   "outputs": [
    {
     "data": {
      "text/plain": "(142, 1048576)"
     },
     "execution_count": 17,
     "metadata": {},
     "output_type": "execute_result"
    }
   ],
   "source": [
    "X_train.shape"
   ],
   "metadata": {
    "collapsed": false
   }
  },
  {
   "cell_type": "code",
   "execution_count": 18,
   "outputs": [
    {
     "data": {
      "text/plain": "<36x1048576 sparse matrix of type '<class 'numpy.float64'>'\n\twith 12275 stored elements in Compressed Sparse Row format>"
     },
     "execution_count": 18,
     "metadata": {},
     "output_type": "execute_result"
    }
   ],
   "source": [
    "X_test"
   ],
   "metadata": {
    "collapsed": false
   }
  },
  {
   "cell_type": "code",
   "execution_count": 19,
   "outputs": [],
   "source": [
    "y_train = pd.read_csv(\"data/y_train.csv\")\n",
    "y_test = pd.read_csv(\"data/y_test.csv\")"
   ],
   "metadata": {
    "collapsed": false
   }
  },
  {
   "cell_type": "code",
   "execution_count": 20,
   "outputs": [
    {
     "data": {
      "text/plain": "    Unnamed: 0  label\n0           19      1\n1           45      1\n2          140      0\n3           30      1\n4           67      1\n5           16      1\n6          119      1\n7          174      0\n8          109      1\n9          141      0\n10          24      1\n11         150      0\n12          41      1\n13         118      1\n14          15      1\n15         111      1\n16         113      1\n17          82      1\n18           9      1\n19         114      1",
      "text/html": "<div>\n<style scoped>\n    .dataframe tbody tr th:only-of-type {\n        vertical-align: middle;\n    }\n\n    .dataframe tbody tr th {\n        vertical-align: top;\n    }\n\n    .dataframe thead th {\n        text-align: right;\n    }\n</style>\n<table border=\"1\" class=\"dataframe\">\n  <thead>\n    <tr style=\"text-align: right;\">\n      <th></th>\n      <th>Unnamed: 0</th>\n      <th>label</th>\n    </tr>\n  </thead>\n  <tbody>\n    <tr>\n      <th>0</th>\n      <td>19</td>\n      <td>1</td>\n    </tr>\n    <tr>\n      <th>1</th>\n      <td>45</td>\n      <td>1</td>\n    </tr>\n    <tr>\n      <th>2</th>\n      <td>140</td>\n      <td>0</td>\n    </tr>\n    <tr>\n      <th>3</th>\n      <td>30</td>\n      <td>1</td>\n    </tr>\n    <tr>\n      <th>4</th>\n      <td>67</td>\n      <td>1</td>\n    </tr>\n    <tr>\n      <th>5</th>\n      <td>16</td>\n      <td>1</td>\n    </tr>\n    <tr>\n      <th>6</th>\n      <td>119</td>\n      <td>1</td>\n    </tr>\n    <tr>\n      <th>7</th>\n      <td>174</td>\n      <td>0</td>\n    </tr>\n    <tr>\n      <th>8</th>\n      <td>109</td>\n      <td>1</td>\n    </tr>\n    <tr>\n      <th>9</th>\n      <td>141</td>\n      <td>0</td>\n    </tr>\n    <tr>\n      <th>10</th>\n      <td>24</td>\n      <td>1</td>\n    </tr>\n    <tr>\n      <th>11</th>\n      <td>150</td>\n      <td>0</td>\n    </tr>\n    <tr>\n      <th>12</th>\n      <td>41</td>\n      <td>1</td>\n    </tr>\n    <tr>\n      <th>13</th>\n      <td>118</td>\n      <td>1</td>\n    </tr>\n    <tr>\n      <th>14</th>\n      <td>15</td>\n      <td>1</td>\n    </tr>\n    <tr>\n      <th>15</th>\n      <td>111</td>\n      <td>1</td>\n    </tr>\n    <tr>\n      <th>16</th>\n      <td>113</td>\n      <td>1</td>\n    </tr>\n    <tr>\n      <th>17</th>\n      <td>82</td>\n      <td>1</td>\n    </tr>\n    <tr>\n      <th>18</th>\n      <td>9</td>\n      <td>1</td>\n    </tr>\n    <tr>\n      <th>19</th>\n      <td>114</td>\n      <td>1</td>\n    </tr>\n  </tbody>\n</table>\n</div>"
     },
     "execution_count": 20,
     "metadata": {},
     "output_type": "execute_result"
    }
   ],
   "source": [
    "y_test[:20]"
   ],
   "metadata": {
    "collapsed": false
   }
  },
  {
   "cell_type": "code",
   "execution_count": 21,
   "outputs": [
    {
     "data": {
      "text/plain": "0.9444444444444444"
     },
     "execution_count": 21,
     "metadata": {},
     "output_type": "execute_result"
    }
   ],
   "source": [
    "model = LogisticRegression(random_state=0, ).fit(X_train, y_train['label'])\n",
    "model.score(X_test,y_test['label'])"
   ],
   "metadata": {
    "collapsed": false
   }
  },
  {
   "cell_type": "code",
   "execution_count": 24,
   "outputs": [
    {
     "data": {
      "text/plain": "0.9444444444444444"
     },
     "execution_count": 24,
     "metadata": {},
     "output_type": "execute_result"
    }
   ],
   "source": [
    "sgdmodel = SGDClassifier(loss='log', penalty='l2', alpha=0.0001, max_iter=100, tol=1e-3, learning_rate='adaptive', eta0=0.1)\n",
    "sgdmodel.fit(X_train, y_train['label'])\n",
    "model.score(X_test,y_test['label'])"
   ],
   "metadata": {
    "collapsed": false
   }
  },
  {
   "cell_type": "code",
   "execution_count": null,
   "outputs": [],
   "source": [],
   "metadata": {
    "collapsed": false
   }
  }
 ],
 "metadata": {
  "kernelspec": {
   "display_name": "Python 3",
   "language": "python",
   "name": "python3"
  },
  "language_info": {
   "codemirror_mode": {
    "name": "ipython",
    "version": 2
   },
   "file_extension": ".py",
   "mimetype": "text/x-python",
   "name": "python",
   "nbconvert_exporter": "python",
   "pygments_lexer": "ipython2",
   "version": "2.7.6"
  }
 },
 "nbformat": 4,
 "nbformat_minor": 0
}
