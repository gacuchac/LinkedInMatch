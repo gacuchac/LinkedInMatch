{
 "cells": [
  {
   "cell_type": "code",
   "execution_count": 19,
   "metadata": {
    "collapsed": true
   },
   "outputs": [],
   "source": [
    "import numpy as np\n",
    "import nltk\n",
    "from nltk.corpus import stopwords\n",
    "from nltk.tokenize import word_tokenize\n",
    "from sklearn.feature_extraction.text import HashingVectorizer\n",
    "import pandas as pd\n",
    "import pickle\n",
    "from scipy import sparse\n",
    "import os"
   ]
  },
  {
   "cell_type": "code",
   "execution_count": 20,
   "outputs": [
    {
     "data": {
      "text/plain": "['.git',\n '.gitignore',\n '.ipynb_checkpoints',\n '1. Resume.ipynb',\n '2. Text Extraction.ipynb',\n '3. Train Test Split.ipynb',\n '4a. TF-IDF Vectorization.ipynb',\n '4b. BERT Vectorization.ipynb',\n '4c. Word2Vec Vectorization.ipynb',\n '5a. TF-IDF Logistic Regression.ipynb',\n '5b. Word2Vec Logistic Regression.ipynb',\n '6a. BagOfWords Vectorization.ipynb',\n '6b. BagOfWords Logistic Regression.ipynb',\n 'chromedriver.exe',\n 'data',\n 'debug.log',\n 'IBResume.ipynb',\n 'Keys.py',\n 'summaries.pt',\n '__pycache__']"
     },
     "execution_count": 20,
     "metadata": {},
     "output_type": "execute_result"
    }
   ],
   "source": [
    "os.chdir(\"C:\\\\Users\\wwwdz\\OneDrive\\Desktop\\Spring Semester 2023\\AI\\FinalProject\\LinkedInMatch\")\n",
    "os.listdir()"
   ],
   "metadata": {
    "collapsed": false
   }
  },
  {
   "cell_type": "code",
   "execution_count": 21,
   "outputs": [],
   "source": [
    "train_profiles = pd.read_csv(\"data/X_train.csv\")\n",
    "test_profiles = pd.read_csv(\"data/X_test.csv\")"
   ],
   "metadata": {
    "collapsed": false
   }
  },
  {
   "cell_type": "code",
   "execution_count": 22,
   "outputs": [
    {
     "name": "stderr",
     "output_type": "stream",
     "text": [
      "[nltk_data] Downloading package punkt to\n",
      "[nltk_data]     C:\\Users\\wwwdz\\AppData\\Roaming\\nltk_data...\n",
      "[nltk_data]   Package punkt is already up-to-date!\n",
      "[nltk_data] Downloading package stopwords to\n",
      "[nltk_data]     C:\\Users\\wwwdz\\AppData\\Roaming\\nltk_data...\n",
      "[nltk_data]   Package stopwords is already up-to-date!\n"
     ]
    }
   ],
   "source": [
    "nltk.download('punkt')\n",
    "nltk.download('stopwords')\n",
    "stop_words = set(stopwords.words('english'))"
   ],
   "metadata": {
    "collapsed": false
   }
  },
  {
   "cell_type": "code",
   "execution_count": 23,
   "outputs": [],
   "source": [
    "def remove_stopwords(text):\n",
    "    tokens = word_tokenize(text.lower())\n",
    "    tokens_wo_stopwords = [t for t in tokens if t not in stop_words]\n",
    "    text_no_stopwords = \" \".join(tokens_wo_stopwords)\n",
    "    return text_no_stopwords"
   ],
   "metadata": {
    "collapsed": false
   }
  },
  {
   "cell_type": "code",
   "execution_count": 24,
   "outputs": [],
   "source": [
    "train_texts = train_profiles[\"Text\"]\n",
    "train_texts_no_stopwords = []\n",
    "for text in train_texts:\n",
    "    train_texts_no_stopwords.append(remove_stopwords(text))"
   ],
   "metadata": {
    "collapsed": false
   }
  },
  {
   "cell_type": "code",
   "execution_count": 25,
   "outputs": [],
   "source": [
    "test_texts = test_profiles[\"Text\"]\n",
    "test_texts_no_stopwords = []\n",
    "for text in test_texts:\n",
    "    test_texts_no_stopwords.append(remove_stopwords(text))"
   ],
   "metadata": {
    "collapsed": false
   }
  },
  {
   "cell_type": "code",
   "execution_count": 26,
   "outputs": [],
   "source": [
    "corpus = train_texts_no_stopwords\n",
    "# Vectorize the corpus using feature hashing and BoW\n",
    "vectorizer = HashingVectorizer()\n",
    "X = vectorizer.fit_transform(corpus)\n",
    "train_bow_feature_vectors = vectorizer.fit_transform(train_texts_no_stopwords)\n",
    "test_bow_feature_vectors = vectorizer.fit_transform(test_texts_no_stopwords)"
   ],
   "metadata": {
    "collapsed": false
   }
  },
  {
   "cell_type": "code",
   "execution_count": 27,
   "outputs": [],
   "source": [
    "sparse.save_npz(\"data/train_bow_feature_vectors.npz\", train_bow_feature_vectors)\n",
    "sparse.save_npz(\"data/test_bow_feature_vectors.npz\", test_bow_feature_vectors)"
   ],
   "metadata": {
    "collapsed": false
   }
  },
  {
   "cell_type": "code",
   "execution_count": 28,
   "outputs": [],
   "source": [
    "pickle.dump(X, open(\"data/bow.pickle\", \"wb\"))\n",
    "pickle.dump(train_bow_feature_vectors, open(\"data/train_bow_feature_vectors.pickle\", \"wb\"))\n",
    "pickle.dump(test_bow_feature_vectors, open(\"data/test_bow_feature_vectors.pickle\", \"wb\"))"
   ],
   "metadata": {
    "collapsed": false
   }
  }
 ],
 "metadata": {
  "kernelspec": {
   "display_name": "Python 3",
   "language": "python",
   "name": "python3"
  },
  "language_info": {
   "codemirror_mode": {
    "name": "ipython",
    "version": 2
   },
   "file_extension": ".py",
   "mimetype": "text/x-python",
   "name": "python",
   "nbconvert_exporter": "python",
   "pygments_lexer": "ipython2",
   "version": "2.7.6"
  }
 },
 "nbformat": 4,
 "nbformat_minor": 0
}
