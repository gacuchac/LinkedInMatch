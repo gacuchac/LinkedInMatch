{
 "cells": [
  {
   "cell_type": "code",
   "execution_count": 16,
   "metadata": {},
   "outputs": [],
   "source": [
    "import numpy as np\n",
    "import nltk\n",
    "from nltk.corpus import stopwords\n",
    "from nltk.tokenize import word_tokenize\n",
    "from sklearn.feature_extraction.text import HashingVectorizer\n",
    "import pandas as pd\n",
    "import pickle\n",
    "from scipy import sparse\n",
    "import os\n",
    "from sklearn.decomposition import TruncatedSVD\n",
    "import matplotlib.pyplot as plt"
   ]
  },
  {
   "cell_type": "code",
   "execution_count": 20,
   "metadata": {},
   "outputs": [
    {
     "data": {
      "text/plain": [
       "['.git',\n",
       " '.gitignore',\n",
       " '.ipynb_checkpoints',\n",
       " '1. Resume.ipynb',\n",
       " '2. Text Extraction.ipynb',\n",
       " '3. Train Test Split.ipynb',\n",
       " '4a. TF-IDF Vectorization.ipynb',\n",
       " '4b. BERT Vectorization.ipynb',\n",
       " '4c. Word2Vec Vectorization.ipynb',\n",
       " '5a. TF-IDF Logistic Regression.ipynb',\n",
       " '5b. Word2Vec Logistic Regression.ipynb',\n",
       " '6a. BagOfWords Vectorization.ipynb',\n",
       " '6b. BagOfWords Logistic Regression.ipynb',\n",
       " 'chromedriver.exe',\n",
       " 'data',\n",
       " 'debug.log',\n",
       " 'IBResume.ipynb',\n",
       " 'Keys.py',\n",
       " 'summaries.pt',\n",
       " '__pycache__']"
      ]
     },
     "execution_count": 20,
     "metadata": {},
     "output_type": "execute_result"
    }
   ],
   "source": [
    "os.chdir(\"C:\\\\Users\\wwwdz\\OneDrive\\Desktop\\Spring Semester 2023\\AI\\FinalProject\\LinkedInMatch\")\n",
    "os.listdir()"
   ]
  },
  {
   "cell_type": "code",
   "execution_count": 13,
   "metadata": {},
   "outputs": [],
   "source": [
    "train_profiles = pd.read_csv(\"data/X_train.csv\")\n",
    "test_profiles = pd.read_csv(\"data/X_test.csv\")\n",
    "y_train = pd.read_csv(\"data/y_train.csv\")"
   ]
  },
  {
   "cell_type": "code",
   "execution_count": 3,
   "metadata": {},
   "outputs": [
    {
     "name": "stderr",
     "output_type": "stream",
     "text": [
      "[nltk_data] Downloading package punkt to\n",
      "[nltk_data]     C:\\Users\\gacuf\\AppData\\Roaming\\nltk_data...\n",
      "[nltk_data]   Package punkt is already up-to-date!\n",
      "[nltk_data] Downloading package stopwords to\n",
      "[nltk_data]     C:\\Users\\gacuf\\AppData\\Roaming\\nltk_data...\n",
      "[nltk_data]   Package stopwords is already up-to-date!\n"
     ]
    }
   ],
   "source": [
    "nltk.download('punkt')\n",
    "nltk.download('stopwords')\n",
    "stop_words = set(stopwords.words('english'))"
   ]
  },
  {
   "cell_type": "code",
   "execution_count": 4,
   "metadata": {},
   "outputs": [],
   "source": [
    "def remove_stopwords(text):\n",
    "    tokens = word_tokenize(text.lower())\n",
    "    tokens_wo_stopwords = [t for t in tokens if t not in stop_words]\n",
    "    text_no_stopwords = \" \".join(tokens_wo_stopwords)\n",
    "    return text_no_stopwords"
   ]
  },
  {
   "cell_type": "code",
   "execution_count": 5,
   "metadata": {},
   "outputs": [],
   "source": [
    "train_texts = train_profiles[\"Text\"]\n",
    "train_texts_no_stopwords = []\n",
    "for text in train_texts:\n",
    "    train_texts_no_stopwords.append(remove_stopwords(text))"
   ]
  },
  {
   "cell_type": "code",
   "execution_count": 6,
   "metadata": {},
   "outputs": [],
   "source": [
    "test_texts = test_profiles[\"Text\"]\n",
    "test_texts_no_stopwords = []\n",
    "for text in test_texts:\n",
    "    test_texts_no_stopwords.append(remove_stopwords(text))"
   ]
  },
  {
   "cell_type": "code",
   "execution_count": 7,
   "metadata": {},
   "outputs": [],
   "source": [
    "corpus = train_texts_no_stopwords\n",
    "# Vectorize the corpus using feature hashing and BoW\n",
    "vectorizer = HashingVectorizer()\n",
    "X = vectorizer.fit_transform(corpus)\n",
    "train_bow_feature_vectors = vectorizer.fit_transform(train_texts_no_stopwords)\n",
    "test_bow_feature_vectors = vectorizer.fit_transform(test_texts_no_stopwords)"
   ]
  },
  {
   "cell_type": "code",
   "execution_count": 11,
   "metadata": {},
   "outputs": [],
   "source": [
    "svd = TruncatedSVD(n_components=2)\n",
    "svd_mdl = svd.fit_transform(train_bow_feature_vectors)"
   ]
  },
  {
   "cell_type": "code",
   "execution_count": 14,
   "metadata": {},
   "outputs": [],
   "source": [
    "V_plot = pd.DataFrame()\n",
    "V_plot[\"X\"] = svd_mdl[:,0]\n",
    "V_plot[\"Y\"] = svd_mdl[:,1]\n",
    "V_plot[\"label\"] = y_train[\"label\"]"
   ]
  },
  {
   "cell_type": "code",
   "execution_count": 17,
   "metadata": {},
   "outputs": [
    {
     "data": {
      "text/plain": [
       "<matplotlib.legend.Legend at 0x1f6d1a46ad0>"
      ]
     },
     "execution_count": 17,
     "metadata": {},
     "output_type": "execute_result"
    },
    {
     "data": {
      "image/png": "[encoded data removed]",
      "text/plain": [
       "<Figure size 640x480 with 1 Axes>"
      ]
     },
     "metadata": {},
     "output_type": "display_data"
    }
   ],
   "source": [
    "plt.scatter(V_plot[V_plot[\"label\"]==1][\"X\"], V_plot[V_plot[\"label\"]==1][\"Y\"], c=\"red\", label=\"ML Profile\")\n",
    "plt.scatter(V_plot[V_plot[\"label\"]==0][\"X\"], V_plot[V_plot[\"label\"]==0][\"Y\"], c=\"blue\", label=\"Other Profiles\")\n",
    "plt.title(\"BoW Truncated SVD 2D plot\")\n",
    "plt.legend()"
   ]
  },
  {
   "cell_type": "code",
   "execution_count": null,
   "metadata": {},
   "outputs": [],
   "source": []
  },
  {
   "cell_type": "code",
   "execution_count": null,
   "metadata": {},
   "outputs": [],
   "source": []
  },
  {
   "cell_type": "code",
   "execution_count": 27,
   "metadata": {},
   "outputs": [],
   "source": [
    "sparse.save_npz(\"data/train_bow_feature_vectors.npz\", train_bow_feature_vectors)\n",
    "sparse.save_npz(\"data/test_bow_feature_vectors.npz\", test_bow_feature_vectors)"
   ]
  },
  {
   "cell_type": "code",
   "execution_count": 28,
   "metadata": {},
   "outputs": [],
   "source": [
    "pickle.dump(X, open(\"data/bow.pickle\", \"wb\"))\n",
    "pickle.dump(train_bow_feature_vectors, open(\"data/train_bow_feature_vectors.pickle\", \"wb\"))\n",
    "pickle.dump(test_bow_feature_vectors, open(\"data/test_bow_feature_vectors.pickle\", \"wb\"))"
   ]
  }
 ],
 "metadata": {
  "kernelspec": {
   "display_name": "Python 3 (ipykernel)",
   "language": "python",
   "name": "python3"
  },
  "language_info": {
   "codemirror_mode": {
    "name": "ipython",
    "version": 3
   },
   "file_extension": ".py",
   "mimetype": "text/x-python",
   "name": "python",
   "nbconvert_exporter": "python",
   "pygments_lexer": "ipython3",
   "version": "3.10.9"
  }
 },
 "nbformat": 4,
 "nbformat_minor": 1
}
