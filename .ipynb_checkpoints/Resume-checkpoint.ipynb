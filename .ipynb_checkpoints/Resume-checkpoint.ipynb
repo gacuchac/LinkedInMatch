{
 "cells": [
  {
   "cell_type": "code",
   "execution_count": 1,
   "metadata": {},
   "outputs": [],
   "source": [
    "# import web driver\n",
    "from selenium import webdriver\n",
    "from selenium.webdriver.common.by import By\n",
    "from Keys import CLIENT_ID, CLIENT_SECRET\n",
    "import time\n",
    "import pandas as pd\n",
    "import os"
   ]
  },
  {
   "cell_type": "code",
   "execution_count": 25,
   "metadata": {},
   "outputs": [
    {
     "name": "stderr",
     "output_type": "stream",
     "text": [
      "C:\\Users\\gacuf\\AppData\\Local\\Temp\\ipykernel_6092\\1648191633.py:13: DeprecationWarning: use options instead of chrome_options\n",
      "  driver = webdriver.Chrome('chromedriver',chrome_options=options)\n"
     ]
    }
   ],
   "source": [
    "# specifies the path to the chromedriver.exe\n",
    "options = webdriver.ChromeOptions()\n",
    "options.add_argument(\"--start-maximized\")\n",
    "\n",
    "prefs = {\n",
    "\"download.default_directory\": r\"C:\\Users\\gacuf\\Documents\\MSAI\\CS5100 Foundations of Artificial Intelligence\\Resume Parser\\LinkedIn\\data\",\n",
    "\"download.prompt_for_download\": False,\n",
    "\"download.directory_upgrade\": True\n",
    "}\n",
    "\n",
    "options.add_experimental_option('prefs', prefs)\n",
    "\n",
    "driver = webdriver.Chrome('chromedriver',chrome_options=options)\n",
    "\n",
    "# driver.get method() will navigate to a page given by the URL address\n",
    "driver.get('https://www.linkedin.com')\n",
    "time.sleep(1)"
   ]
  },
  {
   "cell_type": "code",
   "execution_count": 26,
   "metadata": {},
   "outputs": [],
   "source": [
    "# locate email form by_class_name\n",
    "username = driver.find_element_by_id('session_key')\n",
    "\n",
    "# send_keys() to simulate key strokes\n",
    "username.send_keys(CLIENT_ID)"
   ]
  },
  {
   "cell_type": "code",
   "execution_count": 27,
   "metadata": {},
   "outputs": [],
   "source": [
    "# locate password form by_class_name\n",
    "password = driver.find_element_by_id('session_password')\n",
    "\n",
    "# send_keys() to simulate key strokes\n",
    "password.send_keys(CLIENT_SECRET)"
   ]
  },
  {
   "cell_type": "code",
   "execution_count": 28,
   "metadata": {},
   "outputs": [],
   "source": [
    "# locate submit button by_class_name\n",
    "log_in_button = driver.find_element(By.XPATH, \"//button[@data-id='sign-in-form__submit-btn']\")\n",
    "\n",
    "# .click() to mimic button click\n",
    "log_in_button.click()"
   ]
  },
  {
   "cell_type": "code",
   "execution_count": 7,
   "metadata": {},
   "outputs": [],
   "source": [
    "# Get Job listing for machine learning in boston entry level\n",
    "url = \"https://www.linkedin.com/jobs/search/?f_CR=103644278&f_E=2&geoId=102380872&keywords=machine%20learning&location=Boston%2C%20Massachusetts%2C%20United%20States&refresh=true&sortBy=R\"\n",
    "driver.get(url)\n",
    "time.sleep(3)"
   ]
  },
  {
   "cell_type": "code",
   "execution_count": 8,
   "metadata": {},
   "outputs": [],
   "source": [
    "job_list_xpath_len = 0\n",
    "job_list_xpath = driver.find_elements_by_xpath(\"//div[contains(@class, 'clickable')]\")\n",
    "\n",
    "while len(job_list_xpath) > job_list_xpath_len: \n",
    "    time.sleep(1)\n",
    "    job_list_xpath_len = len(job_list_xpath)\n",
    "    \n",
    "    driver.execute_script(\"arguments[0].scrollIntoView();\", job_list_xpath[-1])\n",
    "    time.sleep(1)\n",
    "    job_list_xpath = driver.find_elements_by_xpath(\"//div[contains(@class, 'clickable')]\")"
   ]
  },
  {
   "cell_type": "code",
   "execution_count": 9,
   "metadata": {},
   "outputs": [],
   "source": [
    "job_description = []\n",
    "company_urls = []\n",
    "time.sleep(3)\n",
    "company_name = []\n",
    "job_title = []\n",
    "\n",
    "for job in job_list_xpath:\n",
    "    job.click()\n",
    "    time.sleep(1)\n",
    "    \n",
    "    text = driver.find_element_by_class_name(\"jobs-box__html-content.jobs-description-content__text.t-14.t-normal.jobs-description-content__text--stretch\").text\n",
    "    job_description.append(text)\n",
    "    \n",
    "    title = driver.find_element_by_class_name(\"t-24.t-bold.jobs-unified-top-card__job-title\").text\n",
    "    job_title.append(title)\n",
    "    \n",
    "    name = driver.find_element_by_class_name(\"jobs-unified-top-card__company-name\").text\n",
    "    company_name.append(name)\n",
    "    \n",
    "    company_url = driver.find_element_by_class_name(\"ember-view.link-without-visited-state.inline-block.t-black\")\n",
    "    company_urls.append(company_url.get_attribute(\"href\").replace(\"/life/\",\"/people/?facetGeoRegion=103644278&keywords=machine%20learning\"))"
   ]
  },
  {
   "cell_type": "code",
   "execution_count": 10,
   "metadata": {},
   "outputs": [],
   "source": [
    "jobs_df = pd.DataFrame()\n",
    "jobs_df[\"Company\"] = pd.Series(company_name)\n",
    "jobs_df[\"URL\"] = pd.Series(company_urls)\n",
    "jobs_df[\"Title\"] = pd.Series(job_title)\n",
    "jobs_df[\"Description\"] = pd.Series(job_description)\n",
    "\n",
    "jobs_df.to_csv(\"data/jobs.csv\")"
   ]
  },
  {
   "cell_type": "code",
   "execution_count": 11,
   "metadata": {},
   "outputs": [
    {
     "name": "stdout",
     "output_type": "stream",
     "text": [
      "No employees for:  Corporate Solutions Tech\n",
      "No employees for:  Iknal Semikan\n",
      "No employees for:  Get It Recruit - Information Technology\n",
      "No employees for:  TekIntegral\n"
     ]
    }
   ],
   "source": [
    "profiles = []\n",
    "company_name = []\n",
    "checked = []\n",
    "\n",
    "for i, job in jobs_df.iterrows():\n",
    "    if job[0] in checked:\n",
    "        continue\n",
    "        \n",
    "    try:\n",
    "        driver.get(job[1])\n",
    "        time.sleep(2)\n",
    "        driver.execute_script(\"window.scrollTo(0, document.body.scrollHeight);\")\n",
    "        time.sleep(2)\n",
    "        driver.execute_script(\"window.scrollTo(0, document.body.scrollHeight);\")\n",
    "        time.sleep(2)\n",
    "        driver.execute_script(\"window.scrollTo(0, document.body.scrollHeight);\")\n",
    "        time.sleep(2)\n",
    "        people_list = driver.find_elements_by_class_name(\"display-flex.list-style-none.flex-wrap\")\n",
    "        people_urls = people_list[0].find_elements_by_class_name(\"app-aware-link\")\n",
    "        for profile in people_urls:\n",
    "            profiles.append(profile.get_attribute(\"href\"))\n",
    "            company_name.append(job[0])\n",
    "        \n",
    "        checked.append(job[0])\n",
    "       \n",
    "    except:\n",
    "        print(\"No employees for: \", job[0])\n",
    "    "
   ]
  },
  {
   "cell_type": "code",
   "execution_count": 12,
   "metadata": {},
   "outputs": [],
   "source": [
    "profiles_df = pd.DataFrame()\n",
    "profiles_df[\"Company\"] = pd.Series(company_name)\n",
    "profiles_df[\"Profile\"] = pd.Series(profiles)\n",
    "profiles_df = profiles_df.drop_duplicates().reset_index(drop=True)\n",
    "profiles_df.to_csv(\"data/Profiles_URL.csv\")"
   ]
  },
  {
   "cell_type": "code",
   "execution_count": 51,
   "metadata": {},
   "outputs": [
    {
     "name": "stdout",
     "output_type": "stream",
     "text": [
      "Downloading:  James Liounis\n",
      "[WinError 183] Cannot create a file when that file already exists: 'data\\\\Profile.pdf' -> 'data\\\\James Liounis.pdf'\n",
      "Downloading:  Vijay Thangella\n",
      "Downloading:  Maxime Laasri\n",
      "Downloading:  Kevin Hare\n",
      "Downloading:  Ariel Gamiño\n",
      "Downloading:  Robert Donnelly\n",
      "Downloading:  Paul T.\n",
      "Downloading:  Ramy Noaman\n",
      "Downloading:  Ramy Noaman\n",
      "[WinError 183] Cannot create a file when that file already exists: 'data\\\\Profile (1).pdf' -> 'data\\\\Ramy Noaman.pdf'\n",
      "Downloading:  Qiuyang Yin\n",
      "Downloading:  Sathia Mayandi\n",
      "Downloading:  Edward Williams\n",
      "Downloading:  Connor Capitolo\n",
      "Downloading:  Goodman Xiaoyuan Gu\n",
      "Downloading:  Vinod Sangare\n",
      "Downloading:  Scott Golder\n",
      "Downloading:  William Z.\n",
      "Downloading:  Nadia Kotova\n",
      "Downloading:  Guanhua S.\n",
      "Downloading:  Mantu Samadder\n",
      "Downloading:  Patrick Herring\n",
      "Downloading:  Phil Labrum\n",
      "Downloading:  Tao T.\n",
      "Downloading:  Daphne Tsoucas\n",
      "Downloading:  Svetlana Kharlamova, Ph.D.\n",
      "Downloading:  Chit-Kwan Lin\n",
      "Downloading:  Claudio Aldana Rosenberg\n",
      "Downloading:  Yueheng Lu\n",
      "Downloading:  Yuwen Wu\n",
      "Downloading:  Ghadi Sebaali\n",
      "Downloading:  Paulina Toro Isaza\n",
      "Downloading:  Bhaven Patel\n",
      "Downloading:  Aron Szanto\n",
      "[WinError 32] The process cannot access the file because it is being used by another process: 'data\\\\Profile (2).pdf' -> 'data\\\\Aron Szanto.pdf'\n",
      "Downloading:  Andrew Puopolo\n",
      "Downloading:  Rohan Thavarajah\n",
      "Downloading:  Mohamad Moussa, Ph.D.\n",
      "Downloading:  Elliott Bartsch\n",
      "Downloading:  Prem Timsina\n",
      "Downloading:  Camilo Fosco\n",
      "Downloading:  Srujana Kaddevarmuth\n",
      "Downloading:  Jing Yang, Ph.D.\n",
      "Downloading:  Saket Joshi\n",
      "Downloading:  Karthik Rao\n",
      "Downloading:  Keenan Venuti\n",
      "Downloading:  Zhihuai (Jason) Zhu\n",
      "Downloading:  Bhawesh Kumar\n",
      "Downloading:  Amanda Wright\n",
      "Downloading:  Zhen Dai\n",
      "Downloading:  Scott Sun\n",
      "Downloading:  Apoorva Sonavani\n",
      "Downloading:  Pejman Honarmandi\n",
      "Downloading:  Ioannis Papavasileiou\n",
      "Downloading:  Nina Kazarov, MBA\n",
      "Downloading:  Ming Yang\n",
      "Downloading:  Himanshee T.\n",
      "Downloading:  Jayasree Mangalagiri\n",
      "Downloading:  Zheren Wang\n",
      "Downloading:  Xu Guo\n",
      "Downloading:  Pankaj Singh\n",
      "Downloading:  Mojtaba Shahabi\n",
      "Downloading:  Franklin Lee\n",
      "Downloading:  Hehua Chi\n",
      "Downloading:  Jingxi He\n",
      "Downloading:  Arun Baskaran\n",
      "Downloading:  Shihu W.\n",
      "Downloading:  Mark Patrick\n",
      "Downloading:  Zhang Liu\n",
      "Downloading:  Matthew Hall\n",
      "Downloading:  John Abbott\n",
      "Downloading:  Rakib Hassan\n",
      "Downloading:  Denis Kamotsky\n",
      "Downloading:  Fatih Altay\n",
      "Downloading:  Akhil Nair\n",
      "Downloading:  John Enright\n",
      "Downloading:  Utsav Jain\n",
      "Downloading:  Amanda Yoder\n",
      "Downloading:  Zeeshan Rizvi, Ph.D.\n",
      "Downloading:  Dr. Adama Tandia\n",
      "Downloading:  James Truxon\n",
      "Downloading:  Neil Lukowski\n",
      "Downloading:  Souma Chaudhury\n",
      "Downloading:  Jarso Jarso\n",
      "Downloading:  Ronak Bhatt\n",
      "Downloading:  Chuck (Charles) McKinney\n",
      "Downloading:  Alexander McInroy\n",
      "Downloading:  Zimu Su\n",
      "Downloading:  Nick Quattrociocchi\n",
      "Downloading:  Alec Arehart\n",
      "Downloading:  Sudipto Biswas\n",
      "Downloading:  Tanay Patel\n",
      "Downloading:  Karan Goyal\n",
      "Downloading:  Tucker Burhans\n",
      "Downloading:  Thomas Yu\n",
      "Downloading:  Li (Helena) Tao\n",
      "Downloading:  Mardochée Réveil, PhD\n",
      "Downloading:  Neilton Saari\n",
      "Downloading:  Mrinal Soni\n",
      "Downloading:  Vidhey Oza\n",
      "Downloading:  Prerit Samria\n",
      "Downloading:  Eddie Mina\n",
      "Downloading:  Chaman Singh\n",
      "Downloading:  Suhas Maddali\n",
      "Downloading:  Aakash Shah\n",
      "Downloading:  Vignan Vennampally\n",
      "Downloading:  Vaibhav Saraf\n",
      "Downloading:  Suprateem Banerjee\n",
      "Downloading:  Charu Priya Singh\n",
      "Downloading:  Sushma Suresh\n",
      "Downloading:  Yogesh Arjun Kumaar\n",
      "Downloading:  Jian Yang\n",
      "Downloading:  Urvashi Sharma\n",
      "Downloading:  Sakshi Suman\n",
      "Downloading:  Danish Bhat\n",
      "Downloading:  Snehal Pimple\n",
      "Downloading:  Pramodh Gowda\n",
      "Downloading:  Jinchao Hou\n",
      "Downloading:  Jing Zheng\n",
      "Downloading:  Lakshya Kumar\n",
      "Downloading:  Shivani Jagtap\n",
      "Downloading:  Gauri Verma\n"
     ]
    },
    {
     "ename": "IndexError",
     "evalue": "list index out of range",
     "output_type": "error",
     "traceback": [
      "\u001B[1;31m---------------------------------------------------------------------------\u001B[0m",
      "\u001B[1;31mIndexError\u001B[0m                                Traceback (most recent call last)",
      "Cell \u001B[1;32mIn[51], line 14\u001B[0m\n\u001B[0;32m     11\u001B[0m \u001B[38;5;28mprint\u001B[39m(\u001B[38;5;124m\"\u001B[39m\u001B[38;5;124mDownloading: \u001B[39m\u001B[38;5;124m\"\u001B[39m, name)\n\u001B[0;32m     13\u001B[0m \u001B[38;5;66;03m# More\u001B[39;00m\n\u001B[1;32m---> 14\u001B[0m more \u001B[38;5;241m=\u001B[39m \u001B[43mdriver\u001B[49m\u001B[38;5;241;43m.\u001B[39;49m\u001B[43mfind_elements_by_class_name\u001B[49m\u001B[43m(\u001B[49m\u001B[38;5;124;43m\"\u001B[39;49m\u001B[38;5;124;43martdeco-dropdown__trigger.artdeco-dropdown__trigger--placement-bottom.ember-view.pvs-profile-actions__action.artdeco-button.artdeco-button--secondary.artdeco-button--muted.artdeco-button--2\u001B[39;49m\u001B[38;5;124;43m\"\u001B[39;49m\u001B[43m)\u001B[49m\u001B[43m[\u001B[49m\u001B[38;5;241;43m1\u001B[39;49m\u001B[43m]\u001B[49m\n\u001B[0;32m     15\u001B[0m more\u001B[38;5;241m.\u001B[39mclick()\n\u001B[0;32m     16\u001B[0m time\u001B[38;5;241m.\u001B[39msleep(\u001B[38;5;241m2\u001B[39m)\n",
      "\u001B[1;31mIndexError\u001B[0m: list index out of range"
     ]
    }
   ],
   "source": [
    "profile_df = pd.read_csv(\"data/Profiles_URL.csv\")\n",
    "errors = 0\n",
    "\n",
    "for profile in profiles_df[\"Profile\"][12:]:\n",
    "    \n",
    "    driver.get(profile)\n",
    "    time.sleep(1)\n",
    "\n",
    "    # Name\n",
    "    name = driver.find_element_by_class_name(\"text-heading-xlarge.inline.t-24.v-align-middle.break-words\").text\n",
    "    print(\"Downloading: \", name)\n",
    "    \n",
    "    # More\n",
    "    more = driver.find_elements_by_class_name(\"artdeco-dropdown__trigger.artdeco-dropdown__trigger--placement-bottom.ember-view.pvs-profile-actions__action.artdeco-button.artdeco-button--secondary.artdeco-button--muted.artdeco-button--2\")[1]\n",
    "    more.click()\n",
    "    time.sleep(2)\n",
    "\n",
    "    # PDF\n",
    "    content = \"artdeco-dropdown__content-inner\"\n",
    "    overflow = driver.find_elements_by_class_name(content)\n",
    "    overflow[1].find_elements_by_tag_name(\"li\")[1].click()\n",
    "    \n",
    "    time.sleep(3)\n",
    "    \n",
    "    try:\n",
    "        # Rename\n",
    "        if errors == 0:\n",
    "            old_name = os.path.join(\"data\",\"Profile.pdf\")\n",
    "            new_name = os.path.join(\"data\",name + \".pdf\")\n",
    "            os.rename(old_name,new_name)\n",
    "        else:\n",
    "            old_name = os.path.join(\"data\",\"Profile (\" + str(errors) + \").pdf\")\n",
    "            new_name = os.path.join(\"data\",name + \".pdf\")\n",
    "            os.rename(old_name,new_name)\n",
    "            \n",
    "    \n",
    "    except Exception as e: \n",
    "        print(e)\n",
    "        errors +=1"
   ]
  },
  {
   "cell_type": "code",
   "execution_count": 30,
   "metadata": {},
   "outputs": [
    {
     "data": {
      "text/plain": [
       "'Rebecca Wooten'"
      ]
     },
     "execution_count": 30,
     "metadata": {},
     "output_type": "execute_result"
    }
   ],
   "source": [
    "name"
   ]
  },
  {
   "cell_type": "code",
   "execution_count": 39,
   "metadata": {},
   "outputs": [
    {
     "data": {
      "text/plain": [
       "'data\\\\Rebecca Wooten.pdf'"
      ]
     },
     "execution_count": 39,
     "metadata": {},
     "output_type": "execute_result"
    }
   ],
   "source": []
  },
  {
   "cell_type": "code",
   "execution_count": 40,
   "metadata": {},
   "outputs": [],
   "source": []
  },
  {
   "cell_type": "code",
   "execution_count": null,
   "metadata": {},
   "outputs": [],
   "source": []
  },
  {
   "cell_type": "code",
   "execution_count": null,
   "metadata": {},
   "outputs": [],
   "source": []
  },
  {
   "cell_type": "code",
   "execution_count": null,
   "metadata": {},
   "outputs": [],
   "source": [
    "# Get list element\n",
    "#driver.execute_script(\"window.scrollTo(0, document.body.scrollHeight);\")\n",
    "#jobs_list_div = driver.find_element_by_class_name(\"jobs-search-results-list\")\n",
    "#driver.execute_script()\n",
    "jobs_class_name = \"job-card-container.relative.job-card-list.job-card-container--clickable.job-card-list--underline-title-on-hover.jobs-search-two-pane__job-card-container--viewport-tracking-10\"\n",
    "job_list = driver.find_element_by_class_name(jobs_class_name)\n",
    "job_list"
   ]
  },
  {
   "cell_type": "code",
   "execution_count": null,
   "metadata": {},
   "outputs": [],
   "source": [
    "# Contactos\n",
    "contactos = driver.find_elements_by_class_name('t-16.t-black.t-normal')[1].text\n",
    "contactos"
   ]
  },
  {
   "cell_type": "code",
   "execution_count": null,
   "metadata": {},
   "outputs": [],
   "source": [
    "# Ubicación\n",
    "ubicacion = driver.find_elements_by_class_name('t-16.t-black.t-normal')[0].text\n",
    "ubicacion"
   ]
  },
  {
   "cell_type": "code",
   "execution_count": null,
   "metadata": {},
   "outputs": [],
   "source": [
    "# Name\n",
    "nombre = driver.find_element_by_class_name('inline.t-24.t-black.t-normal.break-words').text\n",
    "nombre"
   ]
  },
  {
   "cell_type": "code",
   "execution_count": null,
   "metadata": {},
   "outputs": [],
   "source": [
    "# Foto Cara\n",
    "cara = driver.find_element_by_class_name('pv-top-card__photo.presence-entity__image').get_attribute(\"src\")\n",
    "cara\n",
    "# sin foto: data:image/gif;base64,R0lGODlhAQABAIAAAAAAAP///yH5BAEAAAAALAAAAAABAAEAAAIBRAA7"
   ]
  },
  {
   "cell_type": "code",
   "execution_count": null,
   "metadata": {},
   "outputs": [],
   "source": [
    "# Foto Fondo\n",
    "try:\n",
    "    fondo = driver.find_element_by_class_name('profile-background-image__image').get_attribute(\"src\")\n",
    "    print(fondo)\n",
    "except:\n",
    "    print('Sin fondo')\n",
    "# sin foto:"
   ]
  },
  {
   "cell_type": "code",
   "execution_count": null,
   "metadata": {},
   "outputs": [],
   "source": [
    "# Cargo\n",
    "cargo = driver.find_element_by_class_name('mt1.t-18.t-black.t-normal.break-words').text\n",
    "cargo"
   ]
  },
  {
   "cell_type": "code",
   "execution_count": null,
   "metadata": {},
   "outputs": [],
   "source": [
    "# Último Empleo\n",
    "ultimo_empleo = driver.find_elements_by_class_name('text-align-left.ml2.t-14.t-black.t-bold')[0].text\n",
    "ultimo_empleo"
   ]
  },
  {
   "cell_type": "code",
   "execution_count": null,
   "metadata": {},
   "outputs": [],
   "source": [
    "# Último Estudio\n",
    "ultimo_estudio = driver.find_elements_by_class_name('text-align-left.ml2.t-14.t-black.t-bold')[1].text\n",
    "ultimo_estudio"
   ]
  },
  {
   "cell_type": "code",
   "execution_count": null,
   "metadata": {},
   "outputs": [],
   "source": [
    "# Extracto\n",
    "extracto_texto = ''\n",
    "try:\n",
    "    driver.find_element_by_id('line-clamp-show-more-button').click()\n",
    "    extracto = driver.find_elements_by_class_name('lt-line-clamp__raw-line')\n",
    "    for i in range(len(extracto)):\n",
    "        extracto_texto = extracto_texto + extracto[i].text\n",
    "    print(extracto_texto)\n",
    "except:\n",
    "    print('Sin ver mas')\n",
    "    extracto = driver.find_elements_by_class_name('lt-line-clamp__line')\n",
    "    if len(extracto)==0:\n",
    "        print('Sin extracto')"
   ]
  },
  {
   "cell_type": "code",
   "execution_count": null,
   "metadata": {},
   "outputs": [],
   "source": [
    "# More\n",
    "more = driver.find_elements_by_class_name('ml2')[2]\n",
    "more.click()"
   ]
  },
  {
   "cell_type": "code",
   "execution_count": null,
   "metadata": {},
   "outputs": [],
   "source": [
    "# Save to PDF\n",
    "save = 'pv-s-profile-actions.pv-s-profile-actions--save-to-pdf'\n",
    "save_pdf = driver.find_element_by_class_name(save).click()"
   ]
  },
  {
   "cell_type": "code",
   "execution_count": null,
   "metadata": {},
   "outputs": [],
   "source": [
    "time.sleep(2)\n",
    "driver.quit()"
   ]
  }
 ],
 "metadata": {
  "kernelspec": {
   "display_name": "Python 3 (ipykernel)",
   "language": "python",
   "name": "python3"
  },
  "language_info": {
   "codemirror_mode": {
    "name": "ipython",
    "version": 3
   },
   "file_extension": ".py",
   "mimetype": "text/x-python",
   "name": "python",
   "nbconvert_exporter": "python",
   "pygments_lexer": "ipython3",
   "version": "3.9.16"
  }
 },
 "nbformat": 4,
 "nbformat_minor": 4
}
