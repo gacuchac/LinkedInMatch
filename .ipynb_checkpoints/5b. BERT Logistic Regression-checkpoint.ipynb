{
 "cells": [
  {
   "cell_type": "code",
   "execution_count": 4,
   "id": "f78d9e7e",
   "metadata": {},
   "outputs": [],
   "source": [
    "from sklearn.linear_model import LogisticRegression\n",
    "import pandas as pd\n",
    "import torch"
   ]
  },
  {
   "cell_type": "code",
   "execution_count": 12,
   "id": "9a258833",
   "metadata": {},
   "outputs": [
    {
     "name": "stdout",
     "output_type": "stream",
     "text": [
      "142 142\n"
     ]
    }
   ],
   "source": [
    "X_train = torch.load(\"data/train_summaries.pt\")\n",
    "y_train = pd.read_csv(\"data/y_train.csv\")\n",
    "X_test = torch.load(\"data/test_summaries.pt\")\n",
    "y_test = pd.read_csv(\"data/y_test.csv\")\n",
    "print(len(X_train), len(y_train))"
   ]
  },
  {
   "cell_type": "code",
   "execution_count": 9,
   "id": "d41f1943",
   "metadata": {},
   "outputs": [],
   "source": [
    "train_profiles_features = []\n",
    "for f in X_train:\n",
    "    vector = f[0]\n",
    "    train_profiles_features.append(vector)"
   ]
  },
  {
   "cell_type": "code",
   "execution_count": 14,
   "id": "e3e7ba4d",
   "metadata": {},
   "outputs": [],
   "source": [
    "test_profiles_features = []\n",
    "for f in X_test:\n",
    "    vector = f[0]\n",
    "    test_profiles_features.append(vector)"
   ]
  },
  {
   "cell_type": "code",
   "execution_count": 11,
   "id": "74a7782e",
   "metadata": {},
   "outputs": [],
   "source": [
    "clf = LogisticRegression(random_state=0, max_iter=4000).fit(train_profiles_features, y_train['label'])"
   ]
  },
  {
   "cell_type": "code",
   "execution_count": 16,
   "id": "7e50c48d",
   "metadata": {},
   "outputs": [
    {
     "data": {
      "text/plain": [
       "0.9859154929577465"
      ]
     },
     "execution_count": 16,
     "metadata": {},
     "output_type": "execute_result"
    }
   ],
   "source": [
    "clf.score(train_profiles_features,y_train['label'])"
   ]
  },
  {
   "cell_type": "code",
   "execution_count": 17,
   "id": "7d4adedc",
   "metadata": {},
   "outputs": [
    {
     "data": {
      "text/plain": [
       "0.25"
      ]
     },
     "execution_count": 17,
     "metadata": {},
     "output_type": "execute_result"
    }
   ],
   "source": [
    "clf.score(test_profiles_features,y_test['label'])"
   ]
  },
  {
   "cell_type": "code",
   "execution_count": null,
   "id": "7c4f2f40",
   "metadata": {},
   "outputs": [],
   "source": []
  }
 ],
 "metadata": {
  "kernelspec": {
   "display_name": "Python 3 (ipykernel)",
   "language": "python",
   "name": "python3"
  },
  "language_info": {
   "codemirror_mode": {
    "name": "ipython",
    "version": 3
   },
   "file_extension": ".py",
   "mimetype": "text/x-python",
   "name": "python",
   "nbconvert_exporter": "python",
   "pygments_lexer": "ipython3",
   "version": "3.10.9"
  }
 },
 "nbformat": 4,
 "nbformat_minor": 5
}
