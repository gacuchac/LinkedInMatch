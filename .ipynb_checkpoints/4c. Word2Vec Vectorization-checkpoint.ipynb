{
 "cells": [
  {
   "cell_type": "code",
   "execution_count": 24,
   "metadata": {},
   "outputs": [],
   "source": [
    "import nltk\n",
    "import os\n",
    "from gensim.models import Word2Vec as w2v, Doc2Vec as d2v\n",
    "from nltk.corpus import stopwords\n",
    "from nltk import word_tokenize\n",
    "import numpy as np\n",
    "import pandas as pd\n",
    "from sklearn.decomposition import PCA, TruncatedSVD\n",
    "import matplotlib.pyplot as plt\n",
    "import gensim\n",
    "import re\n",
    "from gensim.models.doc2vec import Doc2Vec, TaggedDocument\n",
    "import matplotlib.pyplot as plt"
   ]
  },
  {
   "cell_type": "code",
   "execution_count": null,
   "metadata": {},
   "outputs": [],
   "source": [
    "os.chdir(\"C:\\\\Users\\wwwdz\\OneDrive\\Desktop\\Spring Semester 2023\\AI\\FinalProject\\LinkedInMatch\")\n",
    "os.listdir()"
   ]
  },
  {
   "cell_type": "code",
   "execution_count": 2,
   "metadata": {},
   "outputs": [
    {
     "name": "stderr",
     "output_type": "stream",
     "text": [
      "[nltk_data] Downloading package stopwords to\n",
      "[nltk_data]     C:\\Users\\gacuf\\AppData\\Roaming\\nltk_data...\n",
      "[nltk_data]   Package stopwords is already up-to-date!\n",
      "[nltk_data] Downloading package punkt to\n",
      "[nltk_data]     C:\\Users\\gacuf\\AppData\\Roaming\\nltk_data...\n",
      "[nltk_data]   Package punkt is already up-to-date!\n"
     ]
    }
   ],
   "source": [
    "nltk.download('stopwords')\n",
    "nltk.download('punkt')\n",
    "english_stopwords = stopwords.words('english')"
   ]
  },
  {
   "cell_type": "code",
   "execution_count": 3,
   "metadata": {},
   "outputs": [],
   "source": [
    "def remove_stopwords(text):\n",
    "    tokens = word_tokenize(text.lower())\n",
    "    tokens_wo_stopwords = [t for t in tokens if t not in english_stopwords]\n",
    "    text_no_stopwords = \" \".join(tokens_wo_stopwords)\n",
    "    return text_no_stopwords"
   ]
  },
  {
   "cell_type": "code",
   "execution_count": 4,
   "metadata": {},
   "outputs": [
    {
     "data": {
      "text/html": [
       "<div>\n",
       "<style scoped>\n",
       "    .dataframe tbody tr th:only-of-type {\n",
       "        vertical-align: middle;\n",
       "    }\n",
       "\n",
       "    .dataframe tbody tr th {\n",
       "        vertical-align: top;\n",
       "    }\n",
       "\n",
       "    .dataframe thead th {\n",
       "        text-align: right;\n",
       "    }\n",
       "</style>\n",
       "<table border=\"1\" class=\"dataframe\">\n",
       "  <thead>\n",
       "    <tr style=\"text-align: right;\">\n",
       "      <th></th>\n",
       "      <th>Unnamed: 0</th>\n",
       "      <th>PDF</th>\n",
       "      <th>Text</th>\n",
       "      <th>Summary</th>\n",
       "      <th>Experience</th>\n",
       "      <th>Education</th>\n",
       "    </tr>\n",
       "  </thead>\n",
       "  <tbody>\n",
       "    <tr>\n",
       "      <th>0</th>\n",
       "      <td>158</td>\n",
       "      <td>Natasha Devaud.pdf</td>\n",
       "      <td>\\r\\nContact\\r\\nwww.linkedin.com/in/natasha...</td>\n",
       "      <td>3D Artist/Technical Director with extensive e...</td>\n",
       "      <td>Meta. Visual Designer. January 2022 - Present...</td>\n",
       "      <td>Page 2 of 3    . ECAL - Ecole cantonale d’a...</td>\n",
       "    </tr>\n",
       "    <tr>\n",
       "      <th>1</th>\n",
       "      <td>137</td>\n",
       "      <td>Euna Kwon.pdf</td>\n",
       "      <td>\\r\\nContact\\r\\nwww.linkedin.com/in/iameuna...</td>\n",
       "      <td>Professional Design System designer and UI / ...</td>\n",
       "      <td>Meta. 1 year 6 months. Design system/producti...</td>\n",
       "      <td>Academy of Art University. Master of Fine Art...</td>\n",
       "    </tr>\n",
       "    <tr>\n",
       "      <th>2</th>\n",
       "      <td>98</td>\n",
       "      <td>Snehal Pimple.pdf</td>\n",
       "      <td>\\r\\nContact\\r\\nwww.linkedin.com/in/snehal-...</td>\n",
       "      <td>I have graduated with Master's in Electrical ...</td>\n",
       "      <td>IKEA. Data Analyst. February 2023 - Present  ...</td>\n",
       "      <td>Northeastern University. Master's degree, Mac...</td>\n",
       "    </tr>\n",
       "    <tr>\n",
       "      <th>3</th>\n",
       "      <td>159</td>\n",
       "      <td>Nate Fredenburg.pdf</td>\n",
       "      <td>\\r\\nContact\\r\\nwww.linkedin.com/in/nate-\\r...</td>\n",
       "      <td>tact. www.linkedin.com/in/nate-. fredenburg  (...</td>\n",
       "      <td>Meta Reality Labs. 3 years. Art Director - VR...</td>\n",
       "      <td>School of the Art Institute of Chicago. MFA, ...</td>\n",
       "    </tr>\n",
       "    <tr>\n",
       "      <th>4</th>\n",
       "      <td>38</td>\n",
       "      <td>Himanshee T..pdf</td>\n",
       "      <td>\\r\\nContact\\r\\nwww.linkedin.com/in/himansh...</td>\n",
       "      <td>Adaptable data science professional with 8+ y...</td>\n",
       "      <td>Corning Incorporated. Sr Data Engineer. March...</td>\n",
       "      <td>W. P. Carey School of Business – Arizona Stat...</td>\n",
       "    </tr>\n",
       "  </tbody>\n",
       "</table>\n",
       "</div>"
      ],
      "text/plain": [
       "   Unnamed: 0                  PDF  \\\n",
       "0         158   Natasha Devaud.pdf   \n",
       "1         137        Euna Kwon.pdf   \n",
       "2          98    Snehal Pimple.pdf   \n",
       "3         159  Nate Fredenburg.pdf   \n",
       "4          38     Himanshee T..pdf   \n",
       "\n",
       "                                                Text  \\\n",
       "0      \\r\\nContact\\r\\nwww.linkedin.com/in/natasha...   \n",
       "1      \\r\\nContact\\r\\nwww.linkedin.com/in/iameuna...   \n",
       "2      \\r\\nContact\\r\\nwww.linkedin.com/in/snehal-...   \n",
       "3      \\r\\nContact\\r\\nwww.linkedin.com/in/nate-\\r...   \n",
       "4      \\r\\nContact\\r\\nwww.linkedin.com/in/himansh...   \n",
       "\n",
       "                                             Summary  \\\n",
       "0   3D Artist/Technical Director with extensive e...   \n",
       "1   Professional Design System designer and UI / ...   \n",
       "2   I have graduated with Master's in Electrical ...   \n",
       "3  tact. www.linkedin.com/in/nate-. fredenburg  (...   \n",
       "4   Adaptable data science professional with 8+ y...   \n",
       "\n",
       "                                          Experience  \\\n",
       "0   Meta. Visual Designer. January 2022 - Present...   \n",
       "1   Meta. 1 year 6 months. Design system/producti...   \n",
       "2   IKEA. Data Analyst. February 2023 - Present  ...   \n",
       "3   Meta Reality Labs. 3 years. Art Director - VR...   \n",
       "4   Corning Incorporated. Sr Data Engineer. March...   \n",
       "\n",
       "                                           Education  \n",
       "0     Page 2 of 3    . ECAL - Ecole cantonale d’a...  \n",
       "1   Academy of Art University. Master of Fine Art...  \n",
       "2   Northeastern University. Master's degree, Mac...  \n",
       "3   School of the Art Institute of Chicago. MFA, ...  \n",
       "4   W. P. Carey School of Business – Arizona Stat...  "
      ]
     },
     "execution_count": 4,
     "metadata": {},
     "output_type": "execute_result"
    }
   ],
   "source": [
    "train_profiles = pd.read_csv(\"data/X_train.csv\")\n",
    "test_profiles = pd.read_csv(\"data/X_test.csv\")\n",
    "y_train = pd.read_csv(\"data/y_train.csv\")\n",
    "train_profiles.head(5)"
   ]
  },
  {
   "cell_type": "code",
   "execution_count": 5,
   "metadata": {},
   "outputs": [],
   "source": [
    "train_texts = train_profiles[\"Text\"]\n",
    "train_texts_no_stopwords = []\n",
    "for text in train_texts:\n",
    "    train_texts_no_stopwords.append(remove_stopwords(text))\n"
   ]
  },
  {
   "cell_type": "code",
   "execution_count": 6,
   "metadata": {},
   "outputs": [],
   "source": [
    "test_texts = test_profiles[\"Text\"]\n",
    "test_texts_no_stopwords = []\n",
    "for text in test_texts:\n",
    "    test_texts_no_stopwords.append(remove_stopwords(text))"
   ]
  },
  {
   "cell_type": "code",
   "execution_count": 12,
   "metadata": {},
   "outputs": [],
   "source": [
    "train_corpus = train_texts_no_stopwords\n",
    "test_corpus = test_texts_no_stopwords\n",
    "new_train_corpus = []\n",
    "new_test_corpus = []\n",
    "\n",
    "def removePunc(oldCorpus, newCorpus):\n",
    "    for i in range(len(oldCorpus)):\n",
    "        newCorpus.append(re.sub(r'[^\\w\\s]', '', oldCorpus[i]).split())\n",
    "\n",
    "removePunc(train_corpus, new_train_corpus)\n",
    "removePunc(test_corpus, new_test_corpus)"
   ]
  },
  {
   "cell_type": "code",
   "execution_count": 19,
   "metadata": {},
   "outputs": [],
   "source": [
    "documents = [TaggedDocument(doc, [i]) for i, doc in enumerate(train_profiles[\"Text\"])] \n",
    "model = Doc2Vec(documents)"
   ]
  },
  {
   "cell_type": "code",
   "execution_count": 38,
   "metadata": {},
   "outputs": [],
   "source": [
    "train_d2v_vectors = []\n",
    "for text in new_train_corpus:\n",
    "    vector = model.infer_vector(text)\n",
    "    train_d2v_vectors.append(vector)\n",
    "\n",
    "test_d2v_vectors = []\n",
    "for text in new_train_corpus:\n",
    "    vector = model.infer_vector(text)\n",
    "    test_d2v_vectors.append(vector)\n",
    "    "
   ]
  },
  {
   "cell_type": "code",
   "execution_count": 44,
   "metadata": {},
   "outputs": [],
   "source": [
    "train_d2v_vectors_df = pd.DataFrame(train_d2v_vectors)\n",
    "test_d2v_vectors_df = pd.DataFrame(test_d2v_vectors)"
   ]
  },
  {
   "cell_type": "code",
   "execution_count": 45,
   "metadata": {},
   "outputs": [],
   "source": [
    "train_d2v_vectors_df.to_csv(\"data/train_d2v.csv\")\n",
    "test_d2v_vectors_df.to_csv(\"data/test_d2v.csv\")"
   ]
  },
  {
   "cell_type": "code",
   "execution_count": 31,
   "metadata": {},
   "outputs": [],
   "source": [
    "svd = TruncatedSVD(n_components=2)\n",
    "svd_mdl = svd.fit_transform(train_d2v_vectors)"
   ]
  },
  {
   "cell_type": "code",
   "execution_count": 32,
   "metadata": {},
   "outputs": [],
   "source": [
    "#svd_mdl\n",
    "V_plot = pd.DataFrame()\n",
    "V_plot[\"X\"] = svd_mdl[:,0]\n",
    "V_plot[\"Y\"] = svd_mdl[:,1]\n",
    "V_plot[\"label\"] = y_train[\"label\"]"
   ]
  },
  {
   "cell_type": "code",
   "execution_count": 33,
   "metadata": {},
   "outputs": [
    {
     "data": {
      "text/plain": [
       "<matplotlib.legend.Legend at 0x1c7d63f4a90>"
      ]
     },
     "execution_count": 33,
     "metadata": {},
     "output_type": "execute_result"
    },
    {
     "data": {
      "image/png": "[encoded data removed]",
      "text/plain": [
       "<Figure size 640x480 with 1 Axes>"
      ]
     },
     "metadata": {},
     "output_type": "display_data"
    }
   ],
   "source": [
    "plt.scatter(V_plot[V_plot[\"label\"]==1][\"X\"], V_plot[V_plot[\"label\"]==1][\"Y\"], c=\"red\", label=\"ML Profile\")\n",
    "plt.scatter(V_plot[V_plot[\"label\"]==0][\"X\"], V_plot[V_plot[\"label\"]==0][\"Y\"], c=\"blue\", label=\"Other Profiles\")\n",
    "plt.title(\"Doc2Vec Truncated SVD 2D plot\")\n",
    "plt.legend()"
   ]
  },
  {
   "cell_type": "code",
   "execution_count": null,
   "metadata": {},
   "outputs": [],
   "source": []
  },
  {
   "cell_type": "code",
   "execution_count": null,
   "metadata": {},
   "outputs": [],
   "source": []
  },
  {
   "cell_type": "code",
   "execution_count": null,
   "metadata": {},
   "outputs": [],
   "source": []
  },
  {
   "cell_type": "code",
   "execution_count": null,
   "metadata": {},
   "outputs": [],
   "source": []
  },
  {
   "cell_type": "code",
   "execution_count": null,
   "metadata": {},
   "outputs": [],
   "source": [
    "# Training on another gensim model\n",
    "modelgen = gensim.models.Word2Vec(new_train_corpus, vector_size=100, window=7, min_count=2, workers=8)\n",
    "\n",
    "# Vectorize the corpus using Word2Vec embeddings\n",
    "X = []\n",
    "for document in new_train_corpus:\n",
    "    vectors = [modelgen.wv[token] for token in document if token in modelgen.wv]\n",
    "    if vectors:\n",
    "        X.append(sum(vectors) / len(vectors))\n",
    "    else:\n",
    "        X.append([0] * modelgen.vector_size)\n",
    "\n",
    "for index, word in enumerate(modelgen.wv.index_to_key):\n",
    "    if index == 10:\n",
    "        break\n",
    "    print(f\"word #{index}/{len(modelgen.wv.index_to_key)} is {word}\")"
   ]
  },
  {
   "cell_type": "code",
   "execution_count": null,
   "metadata": {},
   "outputs": [],
   "source": [
    "pca = PCA(n_components=10, random_state=7)\n",
    "pca_mdl = pca.fit_transform(emb_df)\n",
    "vars = ['x','y','z', 'a', 'b', 'c', 'd', 'e', 'f', 'g']\n",
    "emb_df_PCA = pd.DataFrame(pca_mdl, columns=vars, index = emb_df.index)\n",
    "\n",
    "plt.clf()\n",
    "fig = plt.figure(figsize=(6,4))\n",
    "\n",
    "#str(i) = emb_df_PCA[i] for i in vars,\n",
    "plt.scatter(x = emb_df_PCA['x'], y = emb_df_PCA['y'], s = 0.4,color = 'green',alpha = 0.5)\n",
    "\n",
    "plt.xlabel('PCA-1')\n",
    "plt.ylabel('PCA-2')\n",
    "plt.title('PCA Visualization')\n",
    "plt.plot()"
   ]
  },
  {
   "cell_type": "code",
   "execution_count": null,
   "metadata": {},
   "outputs": [],
   "source": []
  }
 ],
 "metadata": {
  "kernelspec": {
   "display_name": "Python 3 (ipykernel)",
   "language": "python",
   "name": "python3"
  },
  "language_info": {
   "codemirror_mode": {
    "name": "ipython",
    "version": 3
   },
   "file_extension": ".py",
   "mimetype": "text/x-python",
   "name": "python",
   "nbconvert_exporter": "python",
   "pygments_lexer": "ipython3",
   "version": "3.10.9"
  }
 },
 "nbformat": 4,
 "nbformat_minor": 1
}
