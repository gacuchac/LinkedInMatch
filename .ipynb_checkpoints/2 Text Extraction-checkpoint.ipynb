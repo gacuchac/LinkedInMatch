{
 "cells": [
  {
   "cell_type": "code",
   "execution_count": 80,
   "id": "2bbeb9cc",
   "metadata": {},
   "outputs": [],
   "source": [
    "import pandas as pd\n",
    "import PyPDF2\n",
    "import os\n",
    "import re"
   ]
  },
  {
   "cell_type": "code",
   "execution_count": 81,
   "id": "9c541769",
   "metadata": {},
   "outputs": [],
   "source": [
    "def text_extraction(file_path):\n",
    "    pdf_text = \"\"\n",
    "    with open(file_path, 'rb') as pdf:\n",
    "        reader = PyPDF2.PdfFileReader(pdf, strict=False)\n",
    "        \n",
    "        for page in reader.pages:\n",
    "            content = page.extract_text()\n",
    "            pdf_text += \" \" + content\n",
    "    \n",
    "    return pdf_text"
   ]
  },
  {
   "cell_type": "code",
   "execution_count": 82,
   "id": "c3f6106f",
   "metadata": {},
   "outputs": [],
   "source": [
    "root_path = \"data\\ML Profiles\"\n",
    "pdfs = os.listdir(root_path)\n",
    "texts = []\n",
    "label = []\n",
    "for profile in pdfs:\n",
    "    file_path = os.path.join(root_path, profile)\n",
    "    profile_text = text_extraction(file_path)\n",
    "    texts.append(profile_text)\n",
    "    label.append(1)\n",
    "\n",
    "root_path = \"data\\Painting Profiles\"\n",
    "pdfs_aux = os.listdir(root_path)\n",
    "pdfs += pdfs_aux\n",
    "for profile in pdfs_aux:\n",
    "    file_path = os.path.join(root_path, profile)\n",
    "    profile_text = text_extraction(file_path)\n",
    "    texts.append(profile_text)\n",
    "    label.append(0)"
   ]
  },
  {
   "cell_type": "code",
   "execution_count": 83,
   "id": "700dcad8",
   "metadata": {},
   "outputs": [],
   "source": [
    "profiles_df = pd.DataFrame()\n",
    "profiles_df[\"PDF\"] = pdfs\n",
    "profiles_df[\"Text\"] = texts\n",
    "profiles_df[\"label\"] = label\n",
    "profiles_df.to_csv(\"data/Profiles.csv\", index=False)"
   ]
  },
  {
   "cell_type": "code",
   "execution_count": 84,
   "id": "2c0896a3",
   "metadata": {},
   "outputs": [],
   "source": [
    "def extract_summary(profiles_df_text):\n",
    "    text = profiles_df_text.replace(\"\\n\",\". \")\n",
    "    start = \". Summary.\"\n",
    "    end = \". Experience.\"\n",
    "\n",
    "    start_index = text.find(start)\n",
    "    end_index = text.find(end)\n",
    "\n",
    "    summary = text[start_index + len(start):end_index]\n",
    "    \n",
    "    return summary"
   ]
  },
  {
   "cell_type": "code",
   "execution_count": 85,
   "id": "1003aadd",
   "metadata": {},
   "outputs": [],
   "source": [
    "def extract_experience(profiles_df_text):\n",
    "    text = profiles_df_text.replace(\"\\n\",\". \")\n",
    "    start = \". Experience.\"\n",
    "    end = \". Education.\"\n",
    "\n",
    "    start_index = text.find(start)\n",
    "    end_index = text.find(end)\n",
    "\n",
    "    experience = text[start_index + len(start):end_index]\n",
    "    \n",
    "    return experience"
   ]
  },
  {
   "cell_type": "code",
   "execution_count": 86,
   "id": "917f047e",
   "metadata": {},
   "outputs": [],
   "source": [
    "def extract_education(profiles_df_text):\n",
    "    text = profiles_df_text.replace(\"\\n\",\". \")\n",
    "    start = \". Education.\"\n",
    "\n",
    "    start_index = text.find(start)\n",
    "\n",
    "    experience = text[start_index + len(start):]\n",
    "    \n",
    "    return experience"
   ]
  },
  {
   "cell_type": "code",
   "execution_count": 87,
   "id": "f3d4f2a1",
   "metadata": {},
   "outputs": [],
   "source": [
    "profiles_df[\"Summary\"] = [extract_summary(x) for x in profiles_df[\"Text\"]]\n",
    "profiles_df[\"Experience\"] = [extract_experience(x) for x in profiles_df[\"Text\"]]\n",
    "profiles_df[\"Education\"] = [extract_education(x) for x in profiles_df[\"Text\"]]\n",
    "profiles_df.to_csv(\"data/Profiles.csv\", index=False)"
   ]
  },
  {
   "cell_type": "code",
   "execution_count": 88,
   "id": "ff133d07",
   "metadata": {},
   "outputs": [],
   "source": [
    "profiles_df = pd.read_csv(\"data/Profiles.csv\")"
   ]
  },
  {
   "cell_type": "code",
   "execution_count": 89,
   "id": "3c3e6996",
   "metadata": {},
   "outputs": [
    {
     "data": {
      "text/html": [
       "<div>\n",
       "<style scoped>\n",
       "    .dataframe tbody tr th:only-of-type {\n",
       "        vertical-align: middle;\n",
       "    }\n",
       "\n",
       "    .dataframe tbody tr th {\n",
       "        vertical-align: top;\n",
       "    }\n",
       "\n",
       "    .dataframe thead th {\n",
       "        text-align: right;\n",
       "    }\n",
       "</style>\n",
       "<table border=\"1\" class=\"dataframe\">\n",
       "  <thead>\n",
       "    <tr style=\"text-align: right;\">\n",
       "      <th></th>\n",
       "      <th>PDF</th>\n",
       "      <th>Text</th>\n",
       "      <th>label</th>\n",
       "      <th>Summary</th>\n",
       "      <th>Experience</th>\n",
       "      <th>Education</th>\n",
       "    </tr>\n",
       "  </thead>\n",
       "  <tbody>\n",
       "    <tr>\n",
       "      <th>0</th>\n",
       "      <td>Aakash Shah.pdf</td>\n",
       "      <td>\\nContact\\naakashs1411@gmail.com\\nwww.link...</td>\n",
       "      <td>1</td>\n",
       "      <td>Aakash is a Data Scientist with 3 years of ex...</td>\n",
       "      <td>Medtronic. AI/ML Data Science Engineer II. Oc...</td>\n",
       "      <td>Northeastern University. Master of Science, D...</td>\n",
       "    </tr>\n",
       "    <tr>\n",
       "      <th>1</th>\n",
       "      <td>Akhil Nair.pdf</td>\n",
       "      <td>\\nContact\\nwww.linkedin.com/in/asn95\\n(Lin...</td>\n",
       "      <td>1</td>\n",
       "      <td>I currently work as an Advanced Process Contr...</td>\n",
       "      <td>Corning Incorporated. Advanced Process Contro...</td>\n",
       "      <td>Carnegie Mellon University. Masters in Chemic...</td>\n",
       "    </tr>\n",
       "    <tr>\n",
       "      <th>2</th>\n",
       "      <td>Alec Arehart.pdf</td>\n",
       "      <td>\\nContact\\nwww.linkedin.com/in/alec-arehar...</td>\n",
       "      <td>1</td>\n",
       "      <td>Experienced software engineer with a history ...</td>\n",
       "      <td>Corning Incorporated. Senior SecDevOps Engine...</td>\n",
       "      <td>Virginia Tech. Master of Information Technolo...</td>\n",
       "    </tr>\n",
       "    <tr>\n",
       "      <th>3</th>\n",
       "      <td>Alexander McInroy.pdf</td>\n",
       "      <td>\\nContact\\nalexemcinroy@gmail.com\\nwww.lin...</td>\n",
       "      <td>1</td>\n",
       "      <td>Statistical engineer and consultant with expe...</td>\n",
       "      <td>Corning Incorporated. 4 years 11 months. Sr. ...</td>\n",
       "      <td>Binghamton University. Master of Arts - MA, A...</td>\n",
       "    </tr>\n",
       "    <tr>\n",
       "      <th>4</th>\n",
       "      <td>Amanda Wright.pdf</td>\n",
       "      <td>\\nContact\\nwww.linkedin.com/in/\\namandawri...</td>\n",
       "      <td>1</td>\n",
       "      <td>I am a skilled scientist versed in Python, st...</td>\n",
       "      <td>WW.   Page 1 of 3    . Data Analyst. November...</td>\n",
       "      <td>K2 Data Science. Machine Learning  · (2019 - ...</td>\n",
       "    </tr>\n",
       "  </tbody>\n",
       "</table>\n",
       "</div>"
      ],
      "text/plain": [
       "                     PDF                                               Text  \\\n",
       "0        Aakash Shah.pdf      \\nContact\\naakashs1411@gmail.com\\nwww.link...   \n",
       "1         Akhil Nair.pdf      \\nContact\\nwww.linkedin.com/in/asn95\\n(Lin...   \n",
       "2       Alec Arehart.pdf      \\nContact\\nwww.linkedin.com/in/alec-arehar...   \n",
       "3  Alexander McInroy.pdf      \\nContact\\nalexemcinroy@gmail.com\\nwww.lin...   \n",
       "4      Amanda Wright.pdf      \\nContact\\nwww.linkedin.com/in/\\namandawri...   \n",
       "\n",
       "   label                                            Summary  \\\n",
       "0      1   Aakash is a Data Scientist with 3 years of ex...   \n",
       "1      1   I currently work as an Advanced Process Contr...   \n",
       "2      1   Experienced software engineer with a history ...   \n",
       "3      1   Statistical engineer and consultant with expe...   \n",
       "4      1   I am a skilled scientist versed in Python, st...   \n",
       "\n",
       "                                          Experience  \\\n",
       "0   Medtronic. AI/ML Data Science Engineer II. Oc...   \n",
       "1   Corning Incorporated. Advanced Process Contro...   \n",
       "2   Corning Incorporated. Senior SecDevOps Engine...   \n",
       "3   Corning Incorporated. 4 years 11 months. Sr. ...   \n",
       "4   WW.   Page 1 of 3    . Data Analyst. November...   \n",
       "\n",
       "                                           Education  \n",
       "0   Northeastern University. Master of Science, D...  \n",
       "1   Carnegie Mellon University. Masters in Chemic...  \n",
       "2   Virginia Tech. Master of Information Technolo...  \n",
       "3   Binghamton University. Master of Arts - MA, A...  \n",
       "4   K2 Data Science. Machine Learning  · (2019 - ...  "
      ]
     },
     "execution_count": 89,
     "metadata": {},
     "output_type": "execute_result"
    }
   ],
   "source": [
    "profiles_df.head()"
   ]
  },
  {
   "cell_type": "code",
   "execution_count": null,
   "id": "f5d81c4b",
   "metadata": {},
   "outputs": [],
   "source": []
  }
 ],
 "metadata": {
  "kernelspec": {
   "display_name": "Python 3 (ipykernel)",
   "language": "python",
   "name": "python3"
  },
  "language_info": {
   "codemirror_mode": {
    "name": "ipython",
    "version": 3
   },
   "file_extension": ".py",
   "mimetype": "text/x-python",
   "name": "python",
   "nbconvert_exporter": "python",
   "pygments_lexer": "ipython3",
   "version": "3.9.16"
  }
 },
 "nbformat": 4,
 "nbformat_minor": 5
}
