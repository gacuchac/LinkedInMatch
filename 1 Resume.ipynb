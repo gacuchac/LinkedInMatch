{
 "cells": [
  {
   "cell_type": "code",
   "execution_count": 1,
   "metadata": {},
   "outputs": [],
   "source": [
    "# import web driver\n",
    "from selenium import webdriver\n",
    "from selenium.webdriver.common.by import By\n",
    "from Keys import CLIENT_ID, CLIENT_SECRET\n",
    "import time\n",
    "import pandas as pd\n",
    "import os"
   ]
  },
  {
   "cell_type": "code",
   "execution_count": 2,
   "metadata": {},
   "outputs": [
    {
     "name": "stderr",
     "output_type": "stream",
     "text": [
      "C:\\Users\\gacuf\\AppData\\Local\\Temp\\ipykernel_15012\\2029203760.py:13: DeprecationWarning: use options instead of chrome_options\n",
      "  driver = webdriver.Chrome('chromedriver',chrome_options=options)\n"
     ]
    }
   ],
   "source": [
    "# specifies the path to the chromedriver.exe\n",
    "options = webdriver.ChromeOptions()\n",
    "options.add_argument(\"--start-maximized\")\n",
    "\n",
    "prefs = {\n",
    "\"download.default_directory\": r\"C:\\Users\\gacuf\\Documents\\MSAI\\CS5100 Foundations of Artificial Intelligence\\Resume Parser\\LinkedIn\\data\\English Teachers Profiles\",\n",
    "\"download.prompt_for_download\": False,\n",
    "\"download.directory_upgrade\": True\n",
    "}\n",
    "\n",
    "options.add_experimental_option('prefs', prefs)\n",
    "\n",
    "driver = webdriver.Chrome('chromedriver',chrome_options=options)\n",
    "\n",
    "# driver.get method() will navigate to a page given by the URL address\n",
    "driver.get('https://www.linkedin.com')\n",
    "time.sleep(1)"
   ]
  },
  {
   "cell_type": "code",
   "execution_count": 3,
   "metadata": {},
   "outputs": [],
   "source": [
    "# locate email form by_class_name\n",
    "username = driver.find_element_by_id('session_key')\n",
    "\n",
    "# send_keys() to simulate key strokes\n",
    "username.send_keys(CLIENT_ID)"
   ]
  },
  {
   "cell_type": "code",
   "execution_count": 4,
   "metadata": {},
   "outputs": [],
   "source": [
    "# locate password form by_class_name\n",
    "password = driver.find_element_by_id('session_password')\n",
    "\n",
    "# send_keys() to simulate key strokes\n",
    "password.send_keys(CLIENT_SECRET)"
   ]
  },
  {
   "cell_type": "code",
   "execution_count": 5,
   "metadata": {},
   "outputs": [],
   "source": [
    "# locate submit button by_class_name\n",
    "log_in_button = driver.find_element(By.XPATH, \"//button[@data-id='sign-in-form__submit-btn']\")\n",
    "\n",
    "# .click() to mimic button click\n",
    "log_in_button.click()"
   ]
  },
  {
   "cell_type": "code",
   "execution_count": null,
   "metadata": {},
   "outputs": [],
   "source": [
    "# Get Job listing for machine learning in boston entry level\n",
    "url = \"https://www.linkedin.com/jobs/search/?f_CR=103644278&f_E=2&geoId=102380872&keywords=machine%20learning&location=Boston%2C%20Massachusetts%2C%20United%20States&refresh=true&sortBy=R\"\n",
    "driver.get(url)\n",
    "time.sleep(3)"
   ]
  },
  {
   "cell_type": "code",
   "execution_count": null,
   "metadata": {},
   "outputs": [],
   "source": [
    "job_list_xpath_len = 0\n",
    "job_list_xpath = driver.find_elements_by_xpath(\"//div[contains(@class, 'clickable')]\")\n",
    "\n",
    "while len(job_list_xpath) > job_list_xpath_len: \n",
    "    time.sleep(1)\n",
    "    job_list_xpath_len = len(job_list_xpath)\n",
    "    \n",
    "    driver.execute_script(\"arguments[0].scrollIntoView();\", job_list_xpath[-1])\n",
    "    time.sleep(1)\n",
    "    job_list_xpath = driver.find_elements_by_xpath(\"//div[contains(@class, 'clickable')]\")"
   ]
  },
  {
   "cell_type": "code",
   "execution_count": null,
   "metadata": {},
   "outputs": [],
   "source": [
    "job_description = []\n",
    "company_urls = []\n",
    "time.sleep(3)\n",
    "company_name = []\n",
    "job_title = []\n",
    "\n",
    "for job in job_list_xpath:\n",
    "    job.click()\n",
    "    time.sleep(1)\n",
    "    \n",
    "    text = driver.find_element_by_class_name(\"jobs-box__html-content.jobs-description-content__text.t-14.t-normal.jobs-description-content__text--stretch\").text\n",
    "    job_description.append(text)\n",
    "    \n",
    "    title = driver.find_element_by_class_name(\"t-24.t-bold.jobs-unified-top-card__job-title\").text\n",
    "    job_title.append(title)\n",
    "    \n",
    "    name = driver.find_element_by_class_name(\"jobs-unified-top-card__company-name\").text\n",
    "    company_name.append(name)\n",
    "    \n",
    "    company_url = driver.find_element_by_class_name(\"ember-view.link-without-visited-state.inline-block.t-black\")\n",
    "    company_urls.append(company_url.get_attribute(\"href\").replace(\"/life/\",\"/people/?facetGeoRegion=103644278&keywords=machine%20learning\"))"
   ]
  },
  {
   "cell_type": "code",
   "execution_count": null,
   "metadata": {},
   "outputs": [],
   "source": [
    "jobs_df = pd.DataFrame()\n",
    "jobs_df[\"Company\"] = pd.Series(company_name)\n",
    "jobs_df[\"URL\"] = pd.Series(company_urls)\n",
    "jobs_df[\"Title\"] = pd.Series(job_title)\n",
    "jobs_df[\"Description\"] = pd.Series(job_description)\n",
    "\n",
    "jobs_df.to_csv(\"data/MLJobs.csv\")"
   ]
  },
  {
   "cell_type": "code",
   "execution_count": null,
   "metadata": {},
   "outputs": [],
   "source": [
    "profiles = []\n",
    "company_name = []\n",
    "checked = []\n",
    "\n",
    "for i, job in jobs_df.iterrows():\n",
    "    if job[0] in checked:\n",
    "        continue\n",
    "        \n",
    "    try:\n",
    "        driver.get(job[1])\n",
    "        time.sleep(2)\n",
    "        driver.execute_script(\"window.scrollTo(0, document.body.scrollHeight);\")\n",
    "        time.sleep(2)\n",
    "        driver.execute_script(\"window.scrollTo(0, document.body.scrollHeight);\")\n",
    "        time.sleep(2)\n",
    "        driver.execute_script(\"window.scrollTo(0, document.body.scrollHeight);\")\n",
    "        time.sleep(2)\n",
    "        people_list = driver.find_elements_by_class_name(\"display-flex.list-style-none.flex-wrap\")\n",
    "        people_urls = people_list[0].find_elements_by_class_name(\"app-aware-link\")\n",
    "        for profile in people_urls:\n",
    "            profiles.append(profile.get_attribute(\"href\"))\n",
    "            company_name.append(job[0])\n",
    "        \n",
    "        checked.append(job[0])\n",
    "       \n",
    "    except:\n",
    "        print(\"No employees for: \", job[0])\n",
    "    "
   ]
  },
  {
   "cell_type": "code",
   "execution_count": null,
   "metadata": {},
   "outputs": [],
   "source": [
    "profiles_df = pd.DataFrame()\n",
    "profiles_df[\"Company\"] = pd.Series(company_name)\n",
    "profiles_df[\"Profile\"] = pd.Series(profiles)\n",
    "profiles_df = profiles_df.drop_duplicates().reset_index(drop=True)\n",
    "profiles_df.to_csv(\"data/MLProfiles_URL.csv\")"
   ]
  },
  {
   "cell_type": "code",
   "execution_count": null,
   "metadata": {},
   "outputs": [],
   "source": [
    "profile_df = pd.read_csv(\"data/MLProfiles_URL.csv\")\n",
    "errors = 0\n",
    "\n",
    "for profile in profiles_df[\"Profile\"]:\n",
    "    \n",
    "    driver.get(profile)\n",
    "    time.sleep(1)\n",
    "\n",
    "    # Name\n",
    "    name = driver.find_element_by_class_name(\"text-heading-xlarge.inline.t-24.v-align-middle.break-words\").text\n",
    "    print(\"Downloading: \", name)\n",
    "    \n",
    "    # More\n",
    "    more = driver.find_elements_by_class_name(\"artdeco-dropdown__trigger.artdeco-dropdown__trigger--placement-bottom.ember-view.pvs-profile-actions__action.artdeco-button.artdeco-button--secondary.artdeco-button--muted.artdeco-button--2\")[1]\n",
    "    more.click()\n",
    "    time.sleep(2)\n",
    "\n",
    "    # PDF\n",
    "    content = \"artdeco-dropdown__content-inner\"\n",
    "    overflow = driver.find_elements_by_class_name(content)\n",
    "    overflow[1].find_elements_by_tag_name(\"li\")[1].click()\n",
    "    \n",
    "    time.sleep(3)\n",
    "    \n",
    "    try:\n",
    "        # Rename\n",
    "        if errors == 0:\n",
    "            old_name = os.path.join(\"data\",\"Profile.pdf\")\n",
    "            new_name = os.path.join(\"data\",name + \".pdf\")\n",
    "            os.rename(old_name,new_name)\n",
    "        else:\n",
    "            old_name = os.path.join(\"data\",\"Profile (\" + str(errors) + \").pdf\")\n",
    "            new_name = os.path.join(\"data\",name + \".pdf\")\n",
    "            os.rename(old_name,new_name)\n",
    "            \n",
    "    \n",
    "    except Exception as e: \n",
    "        print(e)\n",
    "        errors +=1"
   ]
  },
  {
   "cell_type": "code",
   "execution_count": null,
   "metadata": {},
   "outputs": [],
   "source": [
    "# Get Job listing for painters in boston entry level\n",
    "url = \"https://www.linkedin.com/jobs/search/?geoId=102380872&keywords=painter%20painting&location=Boston%2C%20Massachusetts%2C%20United%20States&refresh=true\"\n",
    "driver.get(url)\n",
    "time.sleep(3)"
   ]
  },
  {
   "cell_type": "code",
   "execution_count": null,
   "metadata": {},
   "outputs": [],
   "source": [
    "job_list_xpath_len = 0\n",
    "job_list_xpath = driver.find_elements_by_xpath(\"//div[contains(@class, 'clickable')]\")\n",
    "\n",
    "while len(job_list_xpath) > job_list_xpath_len: \n",
    "    time.sleep(1)\n",
    "    job_list_xpath_len = len(job_list_xpath)\n",
    "    \n",
    "    driver.execute_script(\"arguments[0].scrollIntoView();\", job_list_xpath[-1])\n",
    "    time.sleep(1)\n",
    "    job_list_xpath = driver.find_elements_by_xpath(\"//div[contains(@class, 'clickable')]\")"
   ]
  },
  {
   "cell_type": "code",
   "execution_count": null,
   "metadata": {},
   "outputs": [],
   "source": [
    "job_description = []\n",
    "company_urls = []\n",
    "time.sleep(3)\n",
    "company_name = []\n",
    "job_title = []\n",
    "\n",
    "for job in job_list_xpath:\n",
    "    job.click()\n",
    "    time.sleep(1)\n",
    "    \n",
    "    text = driver.find_element_by_class_name(\"jobs-box__html-content.jobs-description-content__text.t-14.t-normal.jobs-description-content__text--stretch\").text\n",
    "    job_description.append(text)\n",
    "    \n",
    "    title = driver.find_element_by_class_name(\"t-24.t-bold.jobs-unified-top-card__job-title\").text\n",
    "    job_title.append(title)\n",
    "    \n",
    "    name = driver.find_element_by_class_name(\"jobs-unified-top-card__company-name\").text\n",
    "    company_name.append(name)\n",
    "    \n",
    "    company_url = driver.find_element_by_class_name(\"ember-view.link-without-visited-state.inline-block.t-black\")\n",
    "    company_urls.append(company_url.get_attribute(\"href\").replace(\"/life/\",\"/people/?facetGeoRegion=103644278&keywords=painter%20painting\"))"
   ]
  },
  {
   "cell_type": "code",
   "execution_count": null,
   "metadata": {},
   "outputs": [],
   "source": [
    "jobs_df = pd.DataFrame()\n",
    "jobs_df[\"Company\"] = pd.Series(company_name)\n",
    "jobs_df[\"URL\"] = pd.Series(company_urls)\n",
    "jobs_df[\"Title\"] = pd.Series(job_title)\n",
    "jobs_df[\"Description\"] = pd.Series(job_description)\n",
    "\n",
    "jobs_df.to_csv(\"data/PaintingJobs.csv\")"
   ]
  },
  {
   "cell_type": "code",
   "execution_count": null,
   "metadata": {},
   "outputs": [],
   "source": [
    "profiles = []\n",
    "company_name = []\n",
    "checked = []\n",
    "\n",
    "for i, job in jobs_df.iterrows():\n",
    "    if job[0] in checked:\n",
    "        continue\n",
    "        \n",
    "    try:\n",
    "        driver.get(job[1])\n",
    "        time.sleep(2)\n",
    "        driver.execute_script(\"window.scrollTo(0, document.body.scrollHeight);\")\n",
    "        time.sleep(2)\n",
    "        driver.execute_script(\"window.scrollTo(0, document.body.scrollHeight);\")\n",
    "        time.sleep(2)\n",
    "        driver.execute_script(\"window.scrollTo(0, document.body.scrollHeight);\")\n",
    "        time.sleep(2)\n",
    "        people_list = driver.find_elements_by_class_name(\"display-flex.list-style-none.flex-wrap\")\n",
    "        people_urls = people_list[0].find_elements_by_class_name(\"app-aware-link\")\n",
    "        for profile in people_urls:\n",
    "            profiles.append(profile.get_attribute(\"href\"))\n",
    "            company_name.append(job[0])\n",
    "        \n",
    "        checked.append(job[0])\n",
    "       \n",
    "    except:\n",
    "        print(\"No employees for: \", job[0])\n",
    "    "
   ]
  },
  {
   "cell_type": "code",
   "execution_count": null,
   "metadata": {},
   "outputs": [],
   "source": [
    "profiles_df = pd.DataFrame()\n",
    "profiles_df[\"Company\"] = pd.Series(company_name)\n",
    "profiles_df[\"Profile\"] = pd.Series(profiles)\n",
    "profiles_df = profiles_df.drop_duplicates().reset_index(drop=True)\n",
    "profiles_df.to_csv(\"data/PaintingProfiles_URL.csv\")"
   ]
  },
  {
   "cell_type": "code",
   "execution_count": 7,
   "metadata": {},
   "outputs": [
    {
     "name": "stdout",
     "output_type": "stream",
     "text": [
      "Downloading:  Donna McNally MSW, LICSW, LADC1\n",
      "[WinError 2] The system cannot find the file specified: 'data\\\\Profile.pdf' -> 'data\\\\Donna McNally MSW, LICSW, LADC1.pdf'\n",
      "Downloading:  Kristian Perry\n",
      "[WinError 2] The system cannot find the file specified: 'data\\\\Profile (1).pdf' -> 'data\\\\Kristian Perry.pdf'\n",
      "Downloading:  Thomas Lindberg\n",
      "[WinError 2] The system cannot find the file specified: 'data\\\\Profile (2).pdf' -> 'data\\\\Thomas Lindberg.pdf'\n",
      "Downloading:  Carlos Ruiz\n",
      "[WinError 2] The system cannot find the file specified: 'data\\\\Profile (3).pdf' -> 'data\\\\Carlos Ruiz.pdf'\n",
      "Downloading:  Teresa Scott\n",
      "[WinError 2] The system cannot find the file specified: 'data\\\\Profile (4).pdf' -> 'data\\\\Teresa Scott.pdf'\n",
      "Downloading:  Steven Hudspeth Owner of TMO Turbo\n",
      "[WinError 2] The system cannot find the file specified: 'data\\\\Profile (5).pdf' -> 'data\\\\Steven Hudspeth Owner of TMO Turbo.pdf'\n",
      "Downloading:  Sharon Strange\n",
      "[WinError 2] The system cannot find the file specified: 'data\\\\Profile (6).pdf' -> 'data\\\\Sharon Strange.pdf'\n"
     ]
    },
    {
     "ename": "KeyboardInterrupt",
     "evalue": "",
     "output_type": "error",
     "traceback": [
      "\u001B[1;31m---------------------------------------------------------------------------\u001B[0m",
      "\u001B[1;31mKeyboardInterrupt\u001B[0m                         Traceback (most recent call last)",
      "Cell \u001B[1;32mIn[7], line 6\u001B[0m\n\u001B[0;32m      2\u001B[0m errors \u001B[38;5;241m=\u001B[39m \u001B[38;5;241m0\u001B[39m\n\u001B[0;32m      4\u001B[0m \u001B[38;5;28;01mfor\u001B[39;00m profile \u001B[38;5;129;01min\u001B[39;00m profiles_df[\u001B[38;5;124m\"\u001B[39m\u001B[38;5;124mProfile\u001B[39m\u001B[38;5;124m\"\u001B[39m][:\u001B[38;5;241m12\u001B[39m]:\n\u001B[1;32m----> 6\u001B[0m     \u001B[43mdriver\u001B[49m\u001B[38;5;241;43m.\u001B[39;49m\u001B[43mget\u001B[49m\u001B[43m(\u001B[49m\u001B[43mprofile\u001B[49m\u001B[43m)\u001B[49m\n\u001B[0;32m      7\u001B[0m     time\u001B[38;5;241m.\u001B[39msleep(\u001B[38;5;241m1\u001B[39m)\n\u001B[0;32m      9\u001B[0m     \u001B[38;5;66;03m# Name\u001B[39;00m\n",
      "File \u001B[1;32m~\\anaconda3\\lib\\site-packages\\selenium\\webdriver\\remote\\webdriver.py:333\u001B[0m, in \u001B[0;36mWebDriver.get\u001B[1;34m(self, url)\u001B[0m\n\u001B[0;32m    329\u001B[0m \u001B[38;5;28;01mdef\u001B[39;00m \u001B[38;5;21mget\u001B[39m(\u001B[38;5;28mself\u001B[39m, url):\n\u001B[0;32m    330\u001B[0m     \u001B[38;5;124;03m\"\"\"\u001B[39;00m\n\u001B[0;32m    331\u001B[0m \u001B[38;5;124;03m    Loads a web page in the current browser session.\u001B[39;00m\n\u001B[0;32m    332\u001B[0m \u001B[38;5;124;03m    \"\"\"\u001B[39;00m\n\u001B[1;32m--> 333\u001B[0m     \u001B[38;5;28;43mself\u001B[39;49m\u001B[38;5;241;43m.\u001B[39;49m\u001B[43mexecute\u001B[49m\u001B[43m(\u001B[49m\u001B[43mCommand\u001B[49m\u001B[38;5;241;43m.\u001B[39;49m\u001B[43mGET\u001B[49m\u001B[43m,\u001B[49m\u001B[43m \u001B[49m\u001B[43m{\u001B[49m\u001B[38;5;124;43m'\u001B[39;49m\u001B[38;5;124;43murl\u001B[39;49m\u001B[38;5;124;43m'\u001B[39;49m\u001B[43m:\u001B[49m\u001B[43m \u001B[49m\u001B[43murl\u001B[49m\u001B[43m}\u001B[49m\u001B[43m)\u001B[49m\n",
      "File \u001B[1;32m~\\anaconda3\\lib\\site-packages\\selenium\\webdriver\\remote\\webdriver.py:319\u001B[0m, in \u001B[0;36mWebDriver.execute\u001B[1;34m(self, driver_command, params)\u001B[0m\n\u001B[0;32m    316\u001B[0m         params[\u001B[38;5;124m'\u001B[39m\u001B[38;5;124msessionId\u001B[39m\u001B[38;5;124m'\u001B[39m] \u001B[38;5;241m=\u001B[39m \u001B[38;5;28mself\u001B[39m\u001B[38;5;241m.\u001B[39msession_id\n\u001B[0;32m    318\u001B[0m params \u001B[38;5;241m=\u001B[39m \u001B[38;5;28mself\u001B[39m\u001B[38;5;241m.\u001B[39m_wrap_value(params)\n\u001B[1;32m--> 319\u001B[0m response \u001B[38;5;241m=\u001B[39m \u001B[38;5;28;43mself\u001B[39;49m\u001B[38;5;241;43m.\u001B[39;49m\u001B[43mcommand_executor\u001B[49m\u001B[38;5;241;43m.\u001B[39;49m\u001B[43mexecute\u001B[49m\u001B[43m(\u001B[49m\u001B[43mdriver_command\u001B[49m\u001B[43m,\u001B[49m\u001B[43m \u001B[49m\u001B[43mparams\u001B[49m\u001B[43m)\u001B[49m\n\u001B[0;32m    320\u001B[0m \u001B[38;5;28;01mif\u001B[39;00m response:\n\u001B[0;32m    321\u001B[0m     \u001B[38;5;28mself\u001B[39m\u001B[38;5;241m.\u001B[39merror_handler\u001B[38;5;241m.\u001B[39mcheck_response(response)\n",
      "File \u001B[1;32m~\\anaconda3\\lib\\site-packages\\selenium\\webdriver\\remote\\remote_connection.py:374\u001B[0m, in \u001B[0;36mRemoteConnection.execute\u001B[1;34m(self, command, params)\u001B[0m\n\u001B[0;32m    372\u001B[0m data \u001B[38;5;241m=\u001B[39m utils\u001B[38;5;241m.\u001B[39mdump_json(params)\n\u001B[0;32m    373\u001B[0m url \u001B[38;5;241m=\u001B[39m \u001B[38;5;124m'\u001B[39m\u001B[38;5;132;01m%s\u001B[39;00m\u001B[38;5;132;01m%s\u001B[39;00m\u001B[38;5;124m'\u001B[39m \u001B[38;5;241m%\u001B[39m (\u001B[38;5;28mself\u001B[39m\u001B[38;5;241m.\u001B[39m_url, path)\n\u001B[1;32m--> 374\u001B[0m \u001B[38;5;28;01mreturn\u001B[39;00m \u001B[38;5;28;43mself\u001B[39;49m\u001B[38;5;241;43m.\u001B[39;49m\u001B[43m_request\u001B[49m\u001B[43m(\u001B[49m\u001B[43mcommand_info\u001B[49m\u001B[43m[\u001B[49m\u001B[38;5;241;43m0\u001B[39;49m\u001B[43m]\u001B[49m\u001B[43m,\u001B[49m\u001B[43m \u001B[49m\u001B[43murl\u001B[49m\u001B[43m,\u001B[49m\u001B[43m \u001B[49m\u001B[43mbody\u001B[49m\u001B[38;5;241;43m=\u001B[39;49m\u001B[43mdata\u001B[49m\u001B[43m)\u001B[49m\n",
      "File \u001B[1;32m~\\anaconda3\\lib\\site-packages\\selenium\\webdriver\\remote\\remote_connection.py:397\u001B[0m, in \u001B[0;36mRemoteConnection._request\u001B[1;34m(self, method, url, body)\u001B[0m\n\u001B[0;32m    394\u001B[0m     body \u001B[38;5;241m=\u001B[39m \u001B[38;5;28;01mNone\u001B[39;00m\n\u001B[0;32m    396\u001B[0m \u001B[38;5;28;01mif\u001B[39;00m \u001B[38;5;28mself\u001B[39m\u001B[38;5;241m.\u001B[39mkeep_alive:\n\u001B[1;32m--> 397\u001B[0m     resp \u001B[38;5;241m=\u001B[39m \u001B[38;5;28;43mself\u001B[39;49m\u001B[38;5;241;43m.\u001B[39;49m\u001B[43m_conn\u001B[49m\u001B[38;5;241;43m.\u001B[39;49m\u001B[43mrequest\u001B[49m\u001B[43m(\u001B[49m\u001B[43mmethod\u001B[49m\u001B[43m,\u001B[49m\u001B[43m \u001B[49m\u001B[43murl\u001B[49m\u001B[43m,\u001B[49m\u001B[43m \u001B[49m\u001B[43mbody\u001B[49m\u001B[38;5;241;43m=\u001B[39;49m\u001B[43mbody\u001B[49m\u001B[43m,\u001B[49m\u001B[43m \u001B[49m\u001B[43mheaders\u001B[49m\u001B[38;5;241;43m=\u001B[39;49m\u001B[43mheaders\u001B[49m\u001B[43m)\u001B[49m\n\u001B[0;32m    399\u001B[0m     statuscode \u001B[38;5;241m=\u001B[39m resp\u001B[38;5;241m.\u001B[39mstatus\n\u001B[0;32m    400\u001B[0m \u001B[38;5;28;01melse\u001B[39;00m:\n",
      "File \u001B[1;32m~\\anaconda3\\lib\\site-packages\\urllib3\\request.py:78\u001B[0m, in \u001B[0;36mRequestMethods.request\u001B[1;34m(self, method, url, fields, headers, **urlopen_kw)\u001B[0m\n\u001B[0;32m     74\u001B[0m     \u001B[38;5;28;01mreturn\u001B[39;00m \u001B[38;5;28mself\u001B[39m\u001B[38;5;241m.\u001B[39mrequest_encode_url(\n\u001B[0;32m     75\u001B[0m         method, url, fields\u001B[38;5;241m=\u001B[39mfields, headers\u001B[38;5;241m=\u001B[39mheaders, \u001B[38;5;241m*\u001B[39m\u001B[38;5;241m*\u001B[39murlopen_kw\n\u001B[0;32m     76\u001B[0m     )\n\u001B[0;32m     77\u001B[0m \u001B[38;5;28;01melse\u001B[39;00m:\n\u001B[1;32m---> 78\u001B[0m     \u001B[38;5;28;01mreturn\u001B[39;00m \u001B[38;5;28mself\u001B[39m\u001B[38;5;241m.\u001B[39mrequest_encode_body(\n\u001B[0;32m     79\u001B[0m         method, url, fields\u001B[38;5;241m=\u001B[39mfields, headers\u001B[38;5;241m=\u001B[39mheaders, \u001B[38;5;241m*\u001B[39m\u001B[38;5;241m*\u001B[39murlopen_kw\n\u001B[0;32m     80\u001B[0m     )\n",
      "File \u001B[1;32m~\\anaconda3\\lib\\site-packages\\urllib3\\request.py:170\u001B[0m, in \u001B[0;36mRequestMethods.request_encode_body\u001B[1;34m(self, method, url, fields, headers, encode_multipart, multipart_boundary, **urlopen_kw)\u001B[0m\n\u001B[0;32m    167\u001B[0m extra_kw[\u001B[38;5;124m\"\u001B[39m\u001B[38;5;124mheaders\u001B[39m\u001B[38;5;124m\"\u001B[39m]\u001B[38;5;241m.\u001B[39mupdate(headers)\n\u001B[0;32m    168\u001B[0m extra_kw\u001B[38;5;241m.\u001B[39mupdate(urlopen_kw)\n\u001B[1;32m--> 170\u001B[0m \u001B[38;5;28;01mreturn\u001B[39;00m \u001B[38;5;28mself\u001B[39m\u001B[38;5;241m.\u001B[39murlopen(method, url, \u001B[38;5;241m*\u001B[39m\u001B[38;5;241m*\u001B[39mextra_kw)\n",
      "File \u001B[1;32m~\\anaconda3\\lib\\site-packages\\urllib3\\poolmanager.py:376\u001B[0m, in \u001B[0;36mPoolManager.urlopen\u001B[1;34m(self, method, url, redirect, **kw)\u001B[0m\n\u001B[0;32m    374\u001B[0m     response \u001B[38;5;241m=\u001B[39m conn\u001B[38;5;241m.\u001B[39murlopen(method, url, \u001B[38;5;241m*\u001B[39m\u001B[38;5;241m*\u001B[39mkw)\n\u001B[0;32m    375\u001B[0m \u001B[38;5;28;01melse\u001B[39;00m:\n\u001B[1;32m--> 376\u001B[0m     response \u001B[38;5;241m=\u001B[39m conn\u001B[38;5;241m.\u001B[39murlopen(method, u\u001B[38;5;241m.\u001B[39mrequest_uri, \u001B[38;5;241m*\u001B[39m\u001B[38;5;241m*\u001B[39mkw)\n\u001B[0;32m    378\u001B[0m redirect_location \u001B[38;5;241m=\u001B[39m redirect \u001B[38;5;129;01mand\u001B[39;00m response\u001B[38;5;241m.\u001B[39mget_redirect_location()\n\u001B[0;32m    379\u001B[0m \u001B[38;5;28;01mif\u001B[39;00m \u001B[38;5;129;01mnot\u001B[39;00m redirect_location:\n",
      "File \u001B[1;32m~\\anaconda3\\lib\\site-packages\\urllib3\\connectionpool.py:703\u001B[0m, in \u001B[0;36mHTTPConnectionPool.urlopen\u001B[1;34m(self, method, url, body, headers, retries, redirect, assert_same_host, timeout, pool_timeout, release_conn, chunked, body_pos, **response_kw)\u001B[0m\n\u001B[0;32m    700\u001B[0m     \u001B[38;5;28mself\u001B[39m\u001B[38;5;241m.\u001B[39m_prepare_proxy(conn)\n\u001B[0;32m    702\u001B[0m \u001B[38;5;66;03m# Make the request on the httplib connection object.\u001B[39;00m\n\u001B[1;32m--> 703\u001B[0m httplib_response \u001B[38;5;241m=\u001B[39m \u001B[38;5;28;43mself\u001B[39;49m\u001B[38;5;241;43m.\u001B[39;49m\u001B[43m_make_request\u001B[49m\u001B[43m(\u001B[49m\n\u001B[0;32m    704\u001B[0m \u001B[43m    \u001B[49m\u001B[43mconn\u001B[49m\u001B[43m,\u001B[49m\n\u001B[0;32m    705\u001B[0m \u001B[43m    \u001B[49m\u001B[43mmethod\u001B[49m\u001B[43m,\u001B[49m\n\u001B[0;32m    706\u001B[0m \u001B[43m    \u001B[49m\u001B[43murl\u001B[49m\u001B[43m,\u001B[49m\n\u001B[0;32m    707\u001B[0m \u001B[43m    \u001B[49m\u001B[43mtimeout\u001B[49m\u001B[38;5;241;43m=\u001B[39;49m\u001B[43mtimeout_obj\u001B[49m\u001B[43m,\u001B[49m\n\u001B[0;32m    708\u001B[0m \u001B[43m    \u001B[49m\u001B[43mbody\u001B[49m\u001B[38;5;241;43m=\u001B[39;49m\u001B[43mbody\u001B[49m\u001B[43m,\u001B[49m\n\u001B[0;32m    709\u001B[0m \u001B[43m    \u001B[49m\u001B[43mheaders\u001B[49m\u001B[38;5;241;43m=\u001B[39;49m\u001B[43mheaders\u001B[49m\u001B[43m,\u001B[49m\n\u001B[0;32m    710\u001B[0m \u001B[43m    \u001B[49m\u001B[43mchunked\u001B[49m\u001B[38;5;241;43m=\u001B[39;49m\u001B[43mchunked\u001B[49m\u001B[43m,\u001B[49m\n\u001B[0;32m    711\u001B[0m \u001B[43m\u001B[49m\u001B[43m)\u001B[49m\n\u001B[0;32m    713\u001B[0m \u001B[38;5;66;03m# If we're going to release the connection in ``finally:``, then\u001B[39;00m\n\u001B[0;32m    714\u001B[0m \u001B[38;5;66;03m# the response doesn't need to know about the connection. Otherwise\u001B[39;00m\n\u001B[0;32m    715\u001B[0m \u001B[38;5;66;03m# it will also try to release it and we'll have a double-release\u001B[39;00m\n\u001B[0;32m    716\u001B[0m \u001B[38;5;66;03m# mess.\u001B[39;00m\n\u001B[0;32m    717\u001B[0m response_conn \u001B[38;5;241m=\u001B[39m conn \u001B[38;5;28;01mif\u001B[39;00m \u001B[38;5;129;01mnot\u001B[39;00m release_conn \u001B[38;5;28;01melse\u001B[39;00m \u001B[38;5;28;01mNone\u001B[39;00m\n",
      "File \u001B[1;32m~\\anaconda3\\lib\\site-packages\\urllib3\\connectionpool.py:449\u001B[0m, in \u001B[0;36mHTTPConnectionPool._make_request\u001B[1;34m(self, conn, method, url, timeout, chunked, **httplib_request_kw)\u001B[0m\n\u001B[0;32m    444\u001B[0m             httplib_response \u001B[38;5;241m=\u001B[39m conn\u001B[38;5;241m.\u001B[39mgetresponse()\n\u001B[0;32m    445\u001B[0m         \u001B[38;5;28;01mexcept\u001B[39;00m \u001B[38;5;167;01mBaseException\u001B[39;00m \u001B[38;5;28;01mas\u001B[39;00m e:\n\u001B[0;32m    446\u001B[0m             \u001B[38;5;66;03m# Remove the TypeError from the exception chain in\u001B[39;00m\n\u001B[0;32m    447\u001B[0m             \u001B[38;5;66;03m# Python 3 (including for exceptions like SystemExit).\u001B[39;00m\n\u001B[0;32m    448\u001B[0m             \u001B[38;5;66;03m# Otherwise it looks like a bug in the code.\u001B[39;00m\n\u001B[1;32m--> 449\u001B[0m             \u001B[43msix\u001B[49m\u001B[38;5;241;43m.\u001B[39;49m\u001B[43mraise_from\u001B[49m\u001B[43m(\u001B[49m\u001B[43me\u001B[49m\u001B[43m,\u001B[49m\u001B[43m \u001B[49m\u001B[38;5;28;43;01mNone\u001B[39;49;00m\u001B[43m)\u001B[49m\n\u001B[0;32m    450\u001B[0m \u001B[38;5;28;01mexcept\u001B[39;00m (SocketTimeout, BaseSSLError, SocketError) \u001B[38;5;28;01mas\u001B[39;00m e:\n\u001B[0;32m    451\u001B[0m     \u001B[38;5;28mself\u001B[39m\u001B[38;5;241m.\u001B[39m_raise_timeout(err\u001B[38;5;241m=\u001B[39me, url\u001B[38;5;241m=\u001B[39murl, timeout_value\u001B[38;5;241m=\u001B[39mread_timeout)\n",
      "File \u001B[1;32m<string>:3\u001B[0m, in \u001B[0;36mraise_from\u001B[1;34m(value, from_value)\u001B[0m\n",
      "File \u001B[1;32m~\\anaconda3\\lib\\site-packages\\urllib3\\connectionpool.py:444\u001B[0m, in \u001B[0;36mHTTPConnectionPool._make_request\u001B[1;34m(self, conn, method, url, timeout, chunked, **httplib_request_kw)\u001B[0m\n\u001B[0;32m    441\u001B[0m \u001B[38;5;28;01mexcept\u001B[39;00m \u001B[38;5;167;01mTypeError\u001B[39;00m:\n\u001B[0;32m    442\u001B[0m     \u001B[38;5;66;03m# Python 3\u001B[39;00m\n\u001B[0;32m    443\u001B[0m     \u001B[38;5;28;01mtry\u001B[39;00m:\n\u001B[1;32m--> 444\u001B[0m         httplib_response \u001B[38;5;241m=\u001B[39m \u001B[43mconn\u001B[49m\u001B[38;5;241;43m.\u001B[39;49m\u001B[43mgetresponse\u001B[49m\u001B[43m(\u001B[49m\u001B[43m)\u001B[49m\n\u001B[0;32m    445\u001B[0m     \u001B[38;5;28;01mexcept\u001B[39;00m \u001B[38;5;167;01mBaseException\u001B[39;00m \u001B[38;5;28;01mas\u001B[39;00m e:\n\u001B[0;32m    446\u001B[0m         \u001B[38;5;66;03m# Remove the TypeError from the exception chain in\u001B[39;00m\n\u001B[0;32m    447\u001B[0m         \u001B[38;5;66;03m# Python 3 (including for exceptions like SystemExit).\u001B[39;00m\n\u001B[0;32m    448\u001B[0m         \u001B[38;5;66;03m# Otherwise it looks like a bug in the code.\u001B[39;00m\n\u001B[0;32m    449\u001B[0m         six\u001B[38;5;241m.\u001B[39mraise_from(e, \u001B[38;5;28;01mNone\u001B[39;00m)\n",
      "File \u001B[1;32m~\\anaconda3\\lib\\http\\client.py:1377\u001B[0m, in \u001B[0;36mHTTPConnection.getresponse\u001B[1;34m(self)\u001B[0m\n\u001B[0;32m   1375\u001B[0m \u001B[38;5;28;01mtry\u001B[39;00m:\n\u001B[0;32m   1376\u001B[0m     \u001B[38;5;28;01mtry\u001B[39;00m:\n\u001B[1;32m-> 1377\u001B[0m         \u001B[43mresponse\u001B[49m\u001B[38;5;241;43m.\u001B[39;49m\u001B[43mbegin\u001B[49m\u001B[43m(\u001B[49m\u001B[43m)\u001B[49m\n\u001B[0;32m   1378\u001B[0m     \u001B[38;5;28;01mexcept\u001B[39;00m \u001B[38;5;167;01mConnectionError\u001B[39;00m:\n\u001B[0;32m   1379\u001B[0m         \u001B[38;5;28mself\u001B[39m\u001B[38;5;241m.\u001B[39mclose()\n",
      "File \u001B[1;32m~\\anaconda3\\lib\\http\\client.py:320\u001B[0m, in \u001B[0;36mHTTPResponse.begin\u001B[1;34m(self)\u001B[0m\n\u001B[0;32m    318\u001B[0m \u001B[38;5;66;03m# read until we get a non-100 response\u001B[39;00m\n\u001B[0;32m    319\u001B[0m \u001B[38;5;28;01mwhile\u001B[39;00m \u001B[38;5;28;01mTrue\u001B[39;00m:\n\u001B[1;32m--> 320\u001B[0m     version, status, reason \u001B[38;5;241m=\u001B[39m \u001B[38;5;28;43mself\u001B[39;49m\u001B[38;5;241;43m.\u001B[39;49m\u001B[43m_read_status\u001B[49m\u001B[43m(\u001B[49m\u001B[43m)\u001B[49m\n\u001B[0;32m    321\u001B[0m     \u001B[38;5;28;01mif\u001B[39;00m status \u001B[38;5;241m!=\u001B[39m CONTINUE:\n\u001B[0;32m    322\u001B[0m         \u001B[38;5;28;01mbreak\u001B[39;00m\n",
      "File \u001B[1;32m~\\anaconda3\\lib\\http\\client.py:281\u001B[0m, in \u001B[0;36mHTTPResponse._read_status\u001B[1;34m(self)\u001B[0m\n\u001B[0;32m    280\u001B[0m \u001B[38;5;28;01mdef\u001B[39;00m \u001B[38;5;21m_read_status\u001B[39m(\u001B[38;5;28mself\u001B[39m):\n\u001B[1;32m--> 281\u001B[0m     line \u001B[38;5;241m=\u001B[39m \u001B[38;5;28mstr\u001B[39m(\u001B[38;5;28;43mself\u001B[39;49m\u001B[38;5;241;43m.\u001B[39;49m\u001B[43mfp\u001B[49m\u001B[38;5;241;43m.\u001B[39;49m\u001B[43mreadline\u001B[49m\u001B[43m(\u001B[49m\u001B[43m_MAXLINE\u001B[49m\u001B[43m \u001B[49m\u001B[38;5;241;43m+\u001B[39;49m\u001B[43m \u001B[49m\u001B[38;5;241;43m1\u001B[39;49m\u001B[43m)\u001B[49m, \u001B[38;5;124m\"\u001B[39m\u001B[38;5;124miso-8859-1\u001B[39m\u001B[38;5;124m\"\u001B[39m)\n\u001B[0;32m    282\u001B[0m     \u001B[38;5;28;01mif\u001B[39;00m \u001B[38;5;28mlen\u001B[39m(line) \u001B[38;5;241m>\u001B[39m _MAXLINE:\n\u001B[0;32m    283\u001B[0m         \u001B[38;5;28;01mraise\u001B[39;00m LineTooLong(\u001B[38;5;124m\"\u001B[39m\u001B[38;5;124mstatus line\u001B[39m\u001B[38;5;124m\"\u001B[39m)\n",
      "File \u001B[1;32m~\\anaconda3\\lib\\socket.py:704\u001B[0m, in \u001B[0;36mSocketIO.readinto\u001B[1;34m(self, b)\u001B[0m\n\u001B[0;32m    702\u001B[0m \u001B[38;5;28;01mwhile\u001B[39;00m \u001B[38;5;28;01mTrue\u001B[39;00m:\n\u001B[0;32m    703\u001B[0m     \u001B[38;5;28;01mtry\u001B[39;00m:\n\u001B[1;32m--> 704\u001B[0m         \u001B[38;5;28;01mreturn\u001B[39;00m \u001B[38;5;28;43mself\u001B[39;49m\u001B[38;5;241;43m.\u001B[39;49m\u001B[43m_sock\u001B[49m\u001B[38;5;241;43m.\u001B[39;49m\u001B[43mrecv_into\u001B[49m\u001B[43m(\u001B[49m\u001B[43mb\u001B[49m\u001B[43m)\u001B[49m\n\u001B[0;32m    705\u001B[0m     \u001B[38;5;28;01mexcept\u001B[39;00m timeout:\n\u001B[0;32m    706\u001B[0m         \u001B[38;5;28mself\u001B[39m\u001B[38;5;241m.\u001B[39m_timeout_occurred \u001B[38;5;241m=\u001B[39m \u001B[38;5;28;01mTrue\u001B[39;00m\n",
      "\u001B[1;31mKeyboardInterrupt\u001B[0m: "
     ]
    }
   ],
   "source": [
    "profiles_df = pd.read_csv(\"data/PaintingProfiles_URL.csv\")\n",
    "errors = 0\n",
    "\n",
    "for profile in profiles_df[\"Profile\"][:12]:\n",
    "    \n",
    "    driver.get(profile)\n",
    "    time.sleep(1)\n",
    "\n",
    "    # Name\n",
    "    name = driver.find_element_by_class_name(\"text-heading-xlarge.inline.t-24.v-align-middle.break-words\").text\n",
    "    print(\"Downloading: \", name)\n",
    "    \n",
    "    # More\n",
    "    more = driver.find_elements_by_class_name(\"artdeco-dropdown__trigger.artdeco-dropdown__trigger--placement-bottom.ember-view.pvs-profile-actions__action.artdeco-button.artdeco-button--secondary.artdeco-button--muted.artdeco-button--2\")[1]\n",
    "    more.click()\n",
    "    time.sleep(2)\n",
    "\n",
    "    # PDF\n",
    "    content = \"artdeco-dropdown__content-inner\"\n",
    "    overflow = driver.find_elements_by_class_name(content)\n",
    "    overflow[1].find_elements_by_tag_name(\"li\")[1].click()\n",
    "    \n",
    "    time.sleep(3)\n",
    "    \n",
    "    try:\n",
    "        # Rename\n",
    "        if errors == 0:\n",
    "            old_name = os.path.join(\"data\",\"Profile.pdf\")\n",
    "            new_name = os.path.join(\"data\",name + \".pdf\")\n",
    "            os.rename(old_name,new_name)\n",
    "        else:\n",
    "            old_name = os.path.join(\"data\",\"Profile (\" + str(errors) + \").pdf\")\n",
    "            new_name = os.path.join(\"data\",name + \".pdf\")\n",
    "            os.rename(old_name,new_name)\n",
    "            \n",
    "    \n",
    "    except Exception as e: \n",
    "        print(e)\n",
    "        errors +=1"
   ]
  },
  {
   "cell_type": "code",
   "execution_count": null,
   "metadata": {},
   "outputs": [],
   "source": [
    "# Get Job listing for english teachers in boston entry level\n",
    "url = \"https://www.linkedin.com/jobs/search/?currentJobId=3507639114&geoId=102380872&keywords=english%20teacher&location=Boston%2C%20Massachusetts%2C%20United%20States&refresh=true\"\n",
    "driver.get(url)\n",
    "time.sleep(3)"
   ]
  },
  {
   "cell_type": "code",
   "execution_count": null,
   "metadata": {},
   "outputs": [],
   "source": []
  },
  {
   "cell_type": "code",
   "execution_count": null,
   "metadata": {},
   "outputs": [],
   "source": []
  },
  {
   "cell_type": "code",
   "execution_count": null,
   "metadata": {},
   "outputs": [],
   "source": []
  },
  {
   "cell_type": "code",
   "execution_count": null,
   "metadata": {},
   "outputs": [],
   "source": []
  },
  {
   "cell_type": "code",
   "execution_count": null,
   "metadata": {},
   "outputs": [],
   "source": []
  },
  {
   "cell_type": "code",
   "execution_count": null,
   "metadata": {},
   "outputs": [],
   "source": [
    "# Get list element\n",
    "#driver.execute_script(\"window.scrollTo(0, document.body.scrollHeight);\")\n",
    "#jobs_list_div = driver.find_element_by_class_name(\"jobs-search-results-list\")\n",
    "#driver.execute_script()\n",
    "jobs_class_name = \"job-card-container.relative.job-card-list.job-card-container--clickable.job-card-list--underline-title-on-hover.jobs-search-two-pane__job-card-container--viewport-tracking-10\"\n",
    "job_list = driver.find_element_by_class_name(jobs_class_name)\n",
    "job_list"
   ]
  },
  {
   "cell_type": "code",
   "execution_count": null,
   "metadata": {},
   "outputs": [],
   "source": [
    "# Contactos\n",
    "contactos = driver.find_elements_by_class_name('t-16.t-black.t-normal')[1].text\n",
    "contactos"
   ]
  },
  {
   "cell_type": "code",
   "execution_count": null,
   "metadata": {},
   "outputs": [],
   "source": [
    "# Ubicación\n",
    "ubicacion = driver.find_elements_by_class_name('t-16.t-black.t-normal')[0].text\n",
    "ubicacion"
   ]
  },
  {
   "cell_type": "code",
   "execution_count": null,
   "metadata": {},
   "outputs": [],
   "source": [
    "# Name\n",
    "nombre = driver.find_element_by_class_name('inline.t-24.t-black.t-normal.break-words').text\n",
    "nombre"
   ]
  },
  {
   "cell_type": "code",
   "execution_count": null,
   "metadata": {},
   "outputs": [],
   "source": [
    "# Foto Cara\n",
    "cara = driver.find_element_by_class_name('pv-top-card__photo.presence-entity__image').get_attribute(\"src\")\n",
    "cara\n",
    "# sin foto: data:image/gif;base64,R0lGODlhAQABAIAAAAAAAP///yH5BAEAAAAALAAAAAABAAEAAAIBRAA7"
   ]
  },
  {
   "cell_type": "code",
   "execution_count": null,
   "metadata": {},
   "outputs": [],
   "source": [
    "# Foto Fondo\n",
    "try:\n",
    "    fondo = driver.find_element_by_class_name('profile-background-image__image').get_attribute(\"src\")\n",
    "    print(fondo)\n",
    "except:\n",
    "    print('Sin fondo')\n",
    "# sin foto:"
   ]
  },
  {
   "cell_type": "code",
   "execution_count": null,
   "metadata": {},
   "outputs": [],
   "source": [
    "# Cargo\n",
    "cargo = driver.find_element_by_class_name('mt1.t-18.t-black.t-normal.break-words').text\n",
    "cargo"
   ]
  },
  {
   "cell_type": "code",
   "execution_count": null,
   "metadata": {},
   "outputs": [],
   "source": [
    "# Último Empleo\n",
    "ultimo_empleo = driver.find_elements_by_class_name('text-align-left.ml2.t-14.t-black.t-bold')[0].text\n",
    "ultimo_empleo"
   ]
  },
  {
   "cell_type": "code",
   "execution_count": null,
   "metadata": {},
   "outputs": [],
   "source": [
    "# Último Estudio\n",
    "ultimo_estudio = driver.find_elements_by_class_name('text-align-left.ml2.t-14.t-black.t-bold')[1].text\n",
    "ultimo_estudio"
   ]
  },
  {
   "cell_type": "code",
   "execution_count": null,
   "metadata": {},
   "outputs": [],
   "source": [
    "# Extracto\n",
    "extracto_texto = ''\n",
    "try:\n",
    "    driver.find_element_by_id('line-clamp-show-more-button').click()\n",
    "    extracto = driver.find_elements_by_class_name('lt-line-clamp__raw-line')\n",
    "    for i in range(len(extracto)):\n",
    "        extracto_texto = extracto_texto + extracto[i].text\n",
    "    print(extracto_texto)\n",
    "except:\n",
    "    print('Sin ver mas')\n",
    "    extracto = driver.find_elements_by_class_name('lt-line-clamp__line')\n",
    "    if len(extracto)==0:\n",
    "        print('Sin extracto')"
   ]
  },
  {
   "cell_type": "code",
   "execution_count": null,
   "metadata": {},
   "outputs": [],
   "source": [
    "# More\n",
    "more = driver.find_elements_by_class_name('ml2')[2]\n",
    "more.click()"
   ]
  },
  {
   "cell_type": "code",
   "execution_count": null,
   "metadata": {},
   "outputs": [],
   "source": [
    "# Save to PDF\n",
    "save = 'pv-s-profile-actions.pv-s-profile-actions--save-to-pdf'\n",
    "save_pdf = driver.find_element_by_class_name(save).click()"
   ]
  },
  {
   "cell_type": "code",
   "execution_count": null,
   "metadata": {},
   "outputs": [],
   "source": [
    "time.sleep(2)\n",
    "driver.quit()"
   ]
  }
 ],
 "metadata": {
  "kernelspec": {
   "display_name": "Python 3 (ipykernel)",
   "language": "python",
   "name": "python3"
  },
  "language_info": {
   "codemirror_mode": {
    "name": "ipython",
    "version": 3
   },
   "file_extension": ".py",
   "mimetype": "text/x-python",
   "name": "python",
   "nbconvert_exporter": "python",
   "pygments_lexer": "ipython3",
   "version": "3.9.16"
  }
 },
 "nbformat": 4,
 "nbformat_minor": 4
}
