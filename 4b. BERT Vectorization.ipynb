{
 "cells": [
  {
   "cell_type": "code",
   "execution_count": 53,
   "id": "2c5e329c",
   "metadata": {},
   "outputs": [],
   "source": [
    "from transformers import DistilBertTokenizer, DistilBertModel \n",
    "import pandas as pd\n",
    "from datetime import datetime\n",
    "import torch\n",
    "import numpy as np\n",
    "from sklearn.decomposition import TruncatedSVD\n",
    "import matplotlib.pyplot as plt"
   ]
  },
  {
   "cell_type": "code",
   "execution_count": 2,
   "id": "86489eab",
   "metadata": {},
   "outputs": [],
   "source": [
    "def bert_tokenization(text, tokenizer, model):\n",
    "    encoded_input = tokenizer(text, return_tensors='pt', max_length=512, truncation=True)\n",
    "    output = model(**encoded_input)\n",
    "    #print(output)\n",
    "    \n",
    "    return output[1][0]"
   ]
  },
  {
   "cell_type": "code",
   "execution_count": 54,
   "id": "a1d8dc5d",
   "metadata": {},
   "outputs": [],
   "source": [
    "X_train = pd.read_csv(\"data/X_train.csv\")\n",
    "X_train = X_train.fillna(\"\")\n",
    "X_test = pd.read_csv(\"data/X_test.csv\")\n",
    "X_test = X_test.fillna(\"\")\n",
    "y_train = pd.read_csv(\"data/y_train.csv\")"
   ]
  },
  {
   "cell_type": "code",
   "execution_count": 55,
   "id": "3990a0d3",
   "metadata": {},
   "outputs": [
    {
     "name": "stderr",
     "output_type": "stream",
     "text": [
      "The tokenizer class you load from this checkpoint is not the same type as the class this function is called from. It may result in unexpected tokenization. \n",
      "The tokenizer class you load from this checkpoint is 'BertTokenizer'. \n",
      "The class this function is called from is 'DistilBertTokenizer'.\n",
      "You are using a model of type bert to instantiate a model of type distilbert. This is not supported for all configurations of models and can yield errors.\n",
      "Some weights of the model checkpoint at bert-base-uncased were not used when initializing DistilBertModel: ['bert.encoder.layer.0.intermediate.dense.bias', 'bert.encoder.layer.4.output.dense.weight', 'bert.encoder.layer.9.attention.output.dense.weight', 'bert.encoder.layer.0.attention.self.value.bias', 'bert.encoder.layer.7.intermediate.dense.weight', 'bert.embeddings.position_embeddings.weight', 'bert.encoder.layer.1.output.dense.bias', 'bert.encoder.layer.2.attention.output.dense.bias', 'bert.encoder.layer.0.output.LayerNorm.weight', 'bert.encoder.layer.4.output.dense.bias', 'bert.encoder.layer.3.attention.self.value.bias', 'bert.encoder.layer.5.attention.output.dense.bias', 'bert.encoder.layer.2.output.dense.weight', 'bert.encoder.layer.10.attention.self.key.weight', 'bert.encoder.layer.10.attention.self.key.bias', 'bert.encoder.layer.1.intermediate.dense.bias', 'bert.encoder.layer.5.attention.output.dense.weight', 'bert.encoder.layer.8.attention.output.LayerNorm.weight', 'bert.encoder.layer.7.attention.self.key.weight', 'bert.embeddings.LayerNorm.weight', 'bert.encoder.layer.4.attention.self.query.weight', 'bert.encoder.layer.2.attention.self.value.weight', 'bert.encoder.layer.1.attention.self.query.bias', 'bert.encoder.layer.0.output.LayerNorm.bias', 'bert.encoder.layer.0.attention.output.LayerNorm.weight', 'bert.encoder.layer.11.attention.self.query.weight', 'bert.encoder.layer.2.output.dense.bias', 'bert.encoder.layer.2.attention.output.LayerNorm.weight', 'bert.encoder.layer.9.attention.self.key.bias', 'bert.encoder.layer.10.output.dense.weight', 'bert.encoder.layer.9.attention.output.LayerNorm.bias', 'bert.encoder.layer.3.output.LayerNorm.bias', 'bert.encoder.layer.4.intermediate.dense.bias', 'bert.encoder.layer.1.attention.self.key.bias', 'bert.encoder.layer.2.attention.self.key.bias', 'bert.encoder.layer.10.intermediate.dense.bias', 'bert.encoder.layer.2.output.LayerNorm.bias', 'bert.encoder.layer.9.attention.self.value.bias', 'bert.encoder.layer.1.attention.output.LayerNorm.weight', 'bert.encoder.layer.7.output.dense.weight', 'bert.encoder.layer.3.output.dense.bias', 'bert.encoder.layer.10.attention.self.query.weight', 'bert.pooler.dense.weight', 'bert.encoder.layer.1.attention.output.dense.weight', 'bert.encoder.layer.9.intermediate.dense.bias', 'bert.encoder.layer.10.attention.output.LayerNorm.weight', 'bert.encoder.layer.7.output.LayerNorm.weight', 'cls.predictions.transform.LayerNorm.weight', 'bert.encoder.layer.8.attention.output.LayerNorm.bias', 'bert.encoder.layer.4.attention.self.value.weight', 'bert.encoder.layer.5.output.dense.bias', 'bert.encoder.layer.8.attention.output.dense.weight', 'bert.encoder.layer.11.output.LayerNorm.bias', 'bert.encoder.layer.9.attention.self.query.weight', 'bert.encoder.layer.0.attention.output.LayerNorm.bias', 'bert.encoder.layer.7.attention.output.dense.weight', 'bert.encoder.layer.3.attention.output.LayerNorm.weight', 'cls.seq_relationship.weight', 'bert.encoder.layer.6.attention.self.value.weight', 'bert.encoder.layer.11.output.dense.bias', 'bert.encoder.layer.4.attention.self.query.bias', 'bert.encoder.layer.8.output.dense.bias', 'bert.encoder.layer.6.attention.output.LayerNorm.weight', 'bert.encoder.layer.8.output.LayerNorm.weight', 'cls.predictions.transform.dense.bias', 'bert.encoder.layer.6.output.LayerNorm.weight', 'bert.encoder.layer.6.output.LayerNorm.bias', 'bert.encoder.layer.11.attention.output.LayerNorm.bias', 'bert.encoder.layer.9.output.dense.weight', 'bert.encoder.layer.4.attention.self.key.weight', 'bert.encoder.layer.11.attention.self.value.bias', 'bert.encoder.layer.4.attention.self.value.bias', 'bert.encoder.layer.0.attention.self.query.bias', 'bert.encoder.layer.4.attention.output.LayerNorm.bias', 'bert.encoder.layer.8.output.dense.weight', 'bert.encoder.layer.1.attention.output.dense.bias', 'bert.encoder.layer.11.attention.self.key.bias', 'bert.encoder.layer.0.attention.output.dense.bias', 'bert.encoder.layer.6.intermediate.dense.bias', 'bert.encoder.layer.0.attention.self.value.weight', 'bert.encoder.layer.4.intermediate.dense.weight', 'bert.encoder.layer.9.output.LayerNorm.weight', 'bert.encoder.layer.0.attention.self.query.weight', 'bert.encoder.layer.0.attention.output.dense.weight', 'bert.encoder.layer.6.attention.self.key.weight', 'bert.encoder.layer.4.output.LayerNorm.bias', 'bert.encoder.layer.3.attention.output.LayerNorm.bias', 'bert.encoder.layer.8.attention.self.query.bias', 'bert.encoder.layer.3.attention.self.key.bias', 'bert.encoder.layer.6.intermediate.dense.weight', 'bert.encoder.layer.10.attention.self.value.bias', 'bert.encoder.layer.3.attention.output.dense.bias', 'bert.encoder.layer.9.intermediate.dense.weight', 'bert.encoder.layer.6.attention.self.query.bias', 'bert.encoder.layer.11.output.LayerNorm.weight', 'bert.encoder.layer.7.output.dense.bias', 'bert.encoder.layer.2.attention.self.query.weight', 'bert.encoder.layer.5.output.LayerNorm.bias', 'bert.encoder.layer.10.intermediate.dense.weight', 'bert.encoder.layer.10.attention.self.query.bias', 'bert.encoder.layer.5.intermediate.dense.weight', 'bert.encoder.layer.10.attention.output.LayerNorm.bias', 'bert.encoder.layer.11.attention.output.LayerNorm.weight', 'bert.encoder.layer.0.output.dense.weight', 'bert.encoder.layer.4.attention.self.key.bias', 'bert.encoder.layer.6.output.dense.bias', 'bert.encoder.layer.3.output.dense.weight', 'bert.encoder.layer.10.attention.output.dense.weight', 'bert.encoder.layer.5.attention.output.LayerNorm.weight', 'bert.encoder.layer.4.output.LayerNorm.weight', 'bert.encoder.layer.6.attention.self.query.weight', 'bert.encoder.layer.1.output.dense.weight', 'bert.encoder.layer.2.attention.output.dense.weight', 'bert.encoder.layer.9.attention.self.value.weight', 'bert.encoder.layer.3.attention.self.query.weight', 'bert.encoder.layer.7.attention.output.LayerNorm.bias', 'bert.encoder.layer.7.intermediate.dense.bias', 'bert.encoder.layer.7.attention.self.value.weight', 'bert.encoder.layer.9.attention.self.key.weight', 'bert.encoder.layer.9.attention.output.LayerNorm.weight', 'bert.encoder.layer.11.attention.self.value.weight', 'bert.encoder.layer.5.attention.self.key.weight', 'bert.encoder.layer.7.attention.output.dense.bias', 'cls.predictions.bias', 'bert.encoder.layer.0.intermediate.dense.weight', 'bert.encoder.layer.0.attention.self.key.weight', 'bert.encoder.layer.10.attention.self.value.weight', 'bert.encoder.layer.8.attention.self.key.bias', 'bert.encoder.layer.7.attention.self.value.bias', 'bert.encoder.layer.1.attention.output.LayerNorm.bias', 'bert.encoder.layer.1.attention.self.value.weight', 'bert.encoder.layer.5.attention.self.query.weight', 'bert.encoder.layer.6.attention.self.key.bias', 'bert.encoder.layer.7.attention.self.key.bias', 'bert.encoder.layer.11.attention.output.dense.weight', 'bert.encoder.layer.5.attention.self.key.bias', 'bert.encoder.layer.6.attention.output.dense.bias', 'cls.predictions.transform.LayerNorm.bias', 'cls.seq_relationship.bias', 'bert.encoder.layer.5.attention.output.LayerNorm.bias', 'bert.encoder.layer.10.output.dense.bias', 'bert.encoder.layer.5.intermediate.dense.bias', 'bert.encoder.layer.10.attention.output.dense.bias', 'bert.encoder.layer.6.attention.output.dense.weight', 'bert.encoder.layer.5.attention.self.value.weight', 'bert.encoder.layer.9.output.dense.bias', 'bert.encoder.layer.11.intermediate.dense.weight', 'bert.encoder.layer.0.attention.self.key.bias', 'bert.encoder.layer.1.output.LayerNorm.weight', 'bert.encoder.layer.8.attention.self.value.weight', 'bert.encoder.layer.3.attention.output.dense.weight', 'bert.encoder.layer.2.output.LayerNorm.weight', 'bert.encoder.layer.1.attention.self.query.weight', 'bert.encoder.layer.9.output.LayerNorm.bias', 'bert.encoder.layer.11.attention.output.dense.bias', 'bert.encoder.layer.3.intermediate.dense.bias', 'bert.encoder.layer.7.attention.self.query.bias', 'bert.encoder.layer.8.intermediate.dense.bias', 'bert.encoder.layer.3.output.LayerNorm.weight', 'bert.encoder.layer.4.attention.output.LayerNorm.weight', 'bert.encoder.layer.10.output.LayerNorm.bias', 'bert.encoder.layer.3.attention.self.query.bias', 'bert.encoder.layer.7.output.LayerNorm.bias', 'bert.encoder.layer.8.attention.self.value.bias', 'bert.encoder.layer.1.output.LayerNorm.bias', 'bert.encoder.layer.2.attention.output.LayerNorm.bias', 'bert.encoder.layer.6.attention.self.value.bias', 'bert.encoder.layer.7.attention.self.query.weight', 'bert.encoder.layer.7.attention.output.LayerNorm.weight', 'bert.encoder.layer.8.intermediate.dense.weight', 'bert.encoder.layer.4.attention.output.dense.bias', 'bert.encoder.layer.11.attention.self.key.weight', 'bert.pooler.dense.bias', 'bert.encoder.layer.5.output.LayerNorm.weight', 'bert.encoder.layer.2.attention.self.query.bias', 'bert.encoder.layer.5.attention.self.value.bias', 'bert.encoder.layer.5.attention.self.query.bias', 'bert.encoder.layer.4.attention.output.dense.weight', 'bert.embeddings.LayerNorm.bias', 'bert.encoder.layer.9.attention.self.query.bias', 'bert.encoder.layer.8.attention.self.query.weight', 'bert.encoder.layer.8.attention.self.key.weight', 'bert.encoder.layer.1.intermediate.dense.weight', 'bert.encoder.layer.2.intermediate.dense.weight', 'bert.encoder.layer.2.attention.self.value.bias', 'bert.encoder.layer.1.attention.self.value.bias', 'bert.embeddings.token_type_embeddings.weight', 'bert.encoder.layer.2.attention.self.key.weight', 'bert.encoder.layer.10.output.LayerNorm.weight', 'bert.encoder.layer.11.output.dense.weight', 'bert.encoder.layer.0.output.dense.bias', 'bert.encoder.layer.11.attention.self.query.bias', 'cls.predictions.transform.dense.weight', 'bert.encoder.layer.3.attention.self.value.weight', 'bert.encoder.layer.3.attention.self.key.weight', 'bert.encoder.layer.3.intermediate.dense.weight', 'bert.encoder.layer.5.output.dense.weight', 'bert.encoder.layer.6.output.dense.weight', 'bert.encoder.layer.1.attention.self.key.weight', 'bert.encoder.layer.6.attention.output.LayerNorm.bias', 'bert.encoder.layer.8.attention.output.dense.bias', 'bert.encoder.layer.11.intermediate.dense.bias', 'bert.encoder.layer.2.intermediate.dense.bias', 'bert.embeddings.word_embeddings.weight', 'bert.encoder.layer.9.attention.output.dense.bias', 'bert.encoder.layer.8.output.LayerNorm.bias', 'cls.predictions.decoder.weight']\n",
      "- This IS expected if you are initializing DistilBertModel from the checkpoint of a model trained on another task or with another architecture (e.g. initializing a BertForSequenceClassification model from a BertForPreTraining model).\n",
      "- This IS NOT expected if you are initializing DistilBertModel from the checkpoint of a model that you expect to be exactly identical (initializing a BertForSequenceClassification model from a BertForSequenceClassification model).\n"
     ]
    },
    {
     "name": "stderr",
     "output_type": "stream",
     "text": [
      "Some weights of DistilBertModel were not initialized from the model checkpoint at bert-base-uncased and are newly initialized: ['transformer.layer.5.attention.k_lin.bias', 'transformer.layer.10.ffn.lin2.weight', 'transformer.layer.2.output_layer_norm.bias', 'transformer.layer.7.ffn.lin1.weight', 'transformer.layer.0.output_layer_norm.weight', 'transformer.layer.10.attention.k_lin.bias', 'transformer.layer.11.attention.q_lin.weight', 'transformer.layer.9.attention.out_lin.bias', 'transformer.layer.1.attention.q_lin.weight', 'transformer.layer.1.attention.k_lin.weight', 'transformer.layer.10.output_layer_norm.bias', 'transformer.layer.11.output_layer_norm.weight', 'transformer.layer.0.ffn.lin2.bias', 'transformer.layer.3.attention.q_lin.weight', 'transformer.layer.2.ffn.lin1.bias', 'transformer.layer.8.attention.v_lin.bias', 'transformer.layer.0.attention.v_lin.bias', 'transformer.layer.2.attention.v_lin.bias', 'transformer.layer.5.attention.q_lin.bias', 'transformer.layer.5.ffn.lin1.weight', 'transformer.layer.6.sa_layer_norm.weight', 'transformer.layer.11.attention.out_lin.bias', 'transformer.layer.3.attention.out_lin.weight', 'transformer.layer.7.sa_layer_norm.bias', 'transformer.layer.0.attention.out_lin.bias', 'transformer.layer.6.output_layer_norm.bias', 'transformer.layer.5.ffn.lin2.weight', 'transformer.layer.3.output_layer_norm.bias', 'transformer.layer.10.attention.v_lin.bias', 'transformer.layer.0.attention.out_lin.weight', 'transformer.layer.10.attention.v_lin.weight', 'transformer.layer.2.ffn.lin2.weight', 'transformer.layer.7.sa_layer_norm.weight', 'transformer.layer.11.attention.v_lin.bias', 'transformer.layer.11.ffn.lin1.weight', 'transformer.layer.7.attention.out_lin.bias', 'transformer.layer.8.sa_layer_norm.weight', 'transformer.layer.4.ffn.lin2.weight', 'transformer.layer.1.ffn.lin2.weight', 'transformer.layer.10.sa_layer_norm.bias', 'transformer.layer.3.attention.v_lin.bias', 'transformer.layer.5.attention.k_lin.weight', 'transformer.layer.6.attention.v_lin.weight', 'transformer.layer.9.sa_layer_norm.weight', 'transformer.layer.6.attention.out_lin.weight', 'transformer.layer.0.attention.q_lin.weight', 'transformer.layer.10.attention.out_lin.weight', 'transformer.layer.3.ffn.lin2.weight', 'transformer.layer.6.ffn.lin1.bias', 'transformer.layer.7.output_layer_norm.bias', 'transformer.layer.3.attention.v_lin.weight', 'transformer.layer.3.output_layer_norm.weight', 'transformer.layer.1.output_layer_norm.weight', 'transformer.layer.6.sa_layer_norm.bias', 'transformer.layer.11.attention.k_lin.bias', 'transformer.layer.9.attention.v_lin.weight', 'transformer.layer.0.ffn.lin1.weight', 'embeddings.word_embeddings.weight', 'transformer.layer.1.attention.q_lin.bias', 'transformer.layer.8.attention.v_lin.weight', 'transformer.layer.4.attention.v_lin.weight', 'transformer.layer.7.ffn.lin2.weight', 'transformer.layer.4.attention.out_lin.weight', 'transformer.layer.3.attention.q_lin.bias', 'transformer.layer.2.attention.v_lin.weight', 'transformer.layer.8.attention.out_lin.weight', 'transformer.layer.1.ffn.lin1.bias', 'transformer.layer.6.ffn.lin1.weight', 'transformer.layer.2.output_layer_norm.weight', 'transformer.layer.6.attention.v_lin.bias', 'transformer.layer.5.sa_layer_norm.bias', 'transformer.layer.4.output_layer_norm.weight', 'transformer.layer.8.ffn.lin1.bias', 'transformer.layer.11.attention.v_lin.weight', 'transformer.layer.0.ffn.lin2.weight', 'transformer.layer.3.attention.k_lin.bias', 'transformer.layer.4.attention.v_lin.bias', 'transformer.layer.1.output_layer_norm.bias', 'transformer.layer.5.output_layer_norm.bias', 'transformer.layer.4.attention.out_lin.bias', 'transformer.layer.9.ffn.lin1.weight', 'transformer.layer.11.attention.q_lin.bias', 'transformer.layer.0.attention.v_lin.weight', 'transformer.layer.10.ffn.lin1.bias', 'transformer.layer.0.sa_layer_norm.bias', 'transformer.layer.1.attention.out_lin.weight', 'transformer.layer.4.ffn.lin1.weight', 'transformer.layer.10.attention.q_lin.weight', 'transformer.layer.6.attention.k_lin.bias', 'transformer.layer.8.sa_layer_norm.bias', 'transformer.layer.7.attention.q_lin.bias', 'transformer.layer.3.attention.out_lin.bias', 'transformer.layer.9.output_layer_norm.bias', 'transformer.layer.11.attention.out_lin.weight', 'transformer.layer.5.sa_layer_norm.weight', 'transformer.layer.2.attention.out_lin.bias', 'transformer.layer.6.ffn.lin2.bias', 'embeddings.position_embeddings.weight', 'transformer.layer.2.attention.out_lin.weight', 'transformer.layer.6.ffn.lin2.weight', 'transformer.layer.9.attention.q_lin.bias', 'transformer.layer.5.output_layer_norm.weight', 'transformer.layer.2.attention.q_lin.weight', 'transformer.layer.5.attention.out_lin.bias', 'transformer.layer.9.attention.k_lin.bias', 'transformer.layer.1.sa_layer_norm.weight', 'transformer.layer.11.ffn.lin2.bias', 'transformer.layer.8.attention.q_lin.weight', 'embeddings.LayerNorm.bias', 'transformer.layer.2.attention.k_lin.weight', 'transformer.layer.0.ffn.lin1.bias', 'transformer.layer.4.output_layer_norm.bias', 'transformer.layer.0.attention.k_lin.weight', 'transformer.layer.1.sa_layer_norm.bias', 'transformer.layer.4.attention.q_lin.bias', 'transformer.layer.0.output_layer_norm.bias', 'transformer.layer.2.ffn.lin1.weight', 'transformer.layer.6.attention.q_lin.weight', 'transformer.layer.6.output_layer_norm.weight', 'transformer.layer.4.attention.k_lin.weight', 'transformer.layer.6.attention.out_lin.bias', 'transformer.layer.3.attention.k_lin.weight', 'transformer.layer.7.attention.q_lin.weight', 'transformer.layer.9.attention.out_lin.weight', 'transformer.layer.1.attention.v_lin.weight', 'transformer.layer.3.ffn.lin1.bias', 'transformer.layer.10.attention.q_lin.bias', 'transformer.layer.10.output_layer_norm.weight', 'transformer.layer.4.ffn.lin2.bias', 'transformer.layer.9.sa_layer_norm.bias', 'transformer.layer.8.attention.q_lin.bias', 'transformer.layer.1.ffn.lin1.weight', 'transformer.layer.2.ffn.lin2.bias', 'transformer.layer.5.ffn.lin1.bias', 'transformer.layer.7.attention.out_lin.weight', 'transformer.layer.6.attention.k_lin.weight', 'transformer.layer.0.attention.q_lin.bias', 'transformer.layer.0.sa_layer_norm.weight', 'transformer.layer.2.attention.q_lin.bias', 'transformer.layer.0.attention.k_lin.bias', 'transformer.layer.1.attention.k_lin.bias', 'transformer.layer.2.sa_layer_norm.weight', 'transformer.layer.4.ffn.lin1.bias', 'transformer.layer.5.attention.out_lin.weight', 'transformer.layer.8.attention.out_lin.bias', 'transformer.layer.8.attention.k_lin.weight', 'transformer.layer.2.sa_layer_norm.bias', 'transformer.layer.9.ffn.lin2.weight', 'transformer.layer.8.output_layer_norm.weight', 'transformer.layer.7.ffn.lin1.bias', 'transformer.layer.4.attention.q_lin.weight', 'transformer.layer.7.attention.v_lin.bias', 'transformer.layer.4.attention.k_lin.bias', 'transformer.layer.1.attention.v_lin.bias', 'transformer.layer.7.attention.k_lin.weight', 'transformer.layer.1.attention.out_lin.bias', 'transformer.layer.5.ffn.lin2.bias', 'transformer.layer.11.sa_layer_norm.bias', 'transformer.layer.8.output_layer_norm.bias', 'transformer.layer.10.attention.out_lin.bias', 'transformer.layer.5.attention.v_lin.weight', 'transformer.layer.11.attention.k_lin.weight', 'transformer.layer.1.ffn.lin2.bias', 'transformer.layer.9.output_layer_norm.weight', 'transformer.layer.11.ffn.lin1.bias', 'transformer.layer.7.output_layer_norm.weight', 'transformer.layer.10.ffn.lin2.bias', 'transformer.layer.11.sa_layer_norm.weight', 'transformer.layer.5.attention.q_lin.weight', 'transformer.layer.7.attention.v_lin.weight', 'transformer.layer.7.ffn.lin2.bias', 'transformer.layer.3.ffn.lin2.bias', 'transformer.layer.9.attention.q_lin.weight', 'transformer.layer.8.attention.k_lin.bias', 'transformer.layer.9.attention.k_lin.weight', 'transformer.layer.10.attention.k_lin.weight', 'transformer.layer.11.output_layer_norm.bias', 'transformer.layer.3.ffn.lin1.weight', 'transformer.layer.5.attention.v_lin.bias', 'transformer.layer.2.attention.k_lin.bias', 'embeddings.LayerNorm.weight', 'transformer.layer.3.sa_layer_norm.weight', 'transformer.layer.4.sa_layer_norm.weight', 'transformer.layer.6.attention.q_lin.bias', 'transformer.layer.11.ffn.lin2.weight', 'transformer.layer.10.ffn.lin1.weight', 'transformer.layer.8.ffn.lin2.bias', 'transformer.layer.7.attention.k_lin.bias', 'transformer.layer.4.sa_layer_norm.bias', 'transformer.layer.8.ffn.lin2.weight', 'transformer.layer.9.ffn.lin2.bias', 'transformer.layer.8.ffn.lin1.weight', 'transformer.layer.10.sa_layer_norm.weight', 'transformer.layer.9.attention.v_lin.bias', 'transformer.layer.9.ffn.lin1.bias', 'transformer.layer.3.sa_layer_norm.bias']\n",
      "You should probably TRAIN this model on a down-stream task to be able to use it for predictions and inference.\n"
     ]
    }
   ],
   "source": [
    "tokenizer = DistilBertTokenizer.from_pretrained('bert-base-uncased')\n",
    "model = DistilBertModel.from_pretrained(\"bert-base-uncased\")"
   ]
  },
  {
   "cell_type": "code",
   "execution_count": null,
   "id": "1e9b3bf6",
   "metadata": {},
   "outputs": [],
   "source": [
    "#fast_tokenizer = BertTokenizerFast.from_pretrained(\"bert-base-uncased\")\n",
    "#fast_tokenizer = PreTrainedTokenizerFast(tokenizer_object=tokenizer)\n",
    "#model = AutoModelForTokenClassification.from_pretrained(\"bert-base-uncased\")\n",
    "#model = BertModel.from_pretrained(\"bert-base-uncased\")"
   ]
  },
  {
   "cell_type": "code",
   "execution_count": 56,
   "id": "ac894571",
   "metadata": {},
   "outputs": [],
   "source": [
    "tokenized_summary = X_train[\"Summary\"].apply((lambda x: tokenizer.encode(x, add_special_tokens=True, max_length=512, truncation=True)))\n",
    "test_tokenized_summary = X_test[\"Summary\"].apply((lambda x: tokenizer.encode(x, add_special_tokens=True, max_length=512, truncation=True)))"
   ]
  },
  {
   "cell_type": "code",
   "execution_count": 11,
   "id": "4bb065f7",
   "metadata": {},
   "outputs": [],
   "source": [
    "max_len = 0\n",
    "for i in tokenized_summary.values:\n",
    "    if len(i) > max_len:\n",
    "        max_len = len(i)\n",
    "\n",
    "padded = np.array([i + [0]*(max_len-len(i)) for i in tokenized_summary.values])"
   ]
  },
  {
   "cell_type": "code",
   "execution_count": 57,
   "id": "59ed45bd",
   "metadata": {},
   "outputs": [],
   "source": [
    "# test\n",
    "max_len = 0\n",
    "for i in test_tokenized_summary.values:\n",
    "    if len(i) > max_len:\n",
    "        max_len = len(i)\n",
    "\n",
    "test_padded = np.array([i + [0]*(max_len-len(i)) for i in test_tokenized_summary.values])"
   ]
  },
  {
   "cell_type": "code",
   "execution_count": 12,
   "id": "f25c39d0",
   "metadata": {},
   "outputs": [
    {
     "data": {
      "text/plain": [
       "(142, 512)"
      ]
     },
     "execution_count": 12,
     "metadata": {},
     "output_type": "execute_result"
    }
   ],
   "source": [
    "np.array(padded).shape"
   ]
  },
  {
   "cell_type": "code",
   "execution_count": 13,
   "id": "0d7cd095",
   "metadata": {},
   "outputs": [
    {
     "data": {
      "text/plain": [
       "(142, 512)"
      ]
     },
     "execution_count": 13,
     "metadata": {},
     "output_type": "execute_result"
    }
   ],
   "source": [
    "attention_mask = np.where(padded != 0, 1, 0)\n",
    "attention_mask.shape"
   ]
  },
  {
   "cell_type": "code",
   "execution_count": 58,
   "id": "acc42b03",
   "metadata": {},
   "outputs": [
    {
     "data": {
      "text/plain": [
       "(36, 512)"
      ]
     },
     "execution_count": 58,
     "metadata": {},
     "output_type": "execute_result"
    }
   ],
   "source": [
    "test_attention_mask = np.where(test_padded != 0, 1, 0)\n",
    "test_attention_mask.shape"
   ]
  },
  {
   "cell_type": "code",
   "execution_count": 16,
   "id": "a7fc17e9",
   "metadata": {},
   "outputs": [
    {
     "name": "stderr",
     "output_type": "stream",
     "text": [
      "C:\\Users\\gacuf\\AppData\\Local\\Temp\\ipykernel_2764\\840091192.py:2: UserWarning: To copy construct from a tensor, it is recommended to use sourceTensor.clone().detach() or sourceTensor.clone().detach().requires_grad_(True), rather than torch.tensor(sourceTensor).\n",
      "  attention_mask = torch.tensor(attention_mask)\n"
     ]
    }
   ],
   "source": [
    "input_ids = torch.tensor(padded)  \n",
    "attention_mask = torch.tensor(attention_mask)"
   ]
  },
  {
   "cell_type": "code",
   "execution_count": 60,
   "id": "98808f2f",
   "metadata": {},
   "outputs": [
    {
     "name": "stderr",
     "output_type": "stream",
     "text": [
      "C:\\Users\\gacuf\\AppData\\Local\\Temp\\ipykernel_2764\\1088769121.py:2: UserWarning: To copy construct from a tensor, it is recommended to use sourceTensor.clone().detach() or sourceTensor.clone().detach().requires_grad_(True), rather than torch.tensor(sourceTensor).\n",
      "  test_attention_mask = torch.tensor(test_attention_mask)\n"
     ]
    }
   ],
   "source": [
    "test_input_ids = torch.tensor(test_padded)  \n",
    "test_attention_mask = torch.tensor(test_attention_mask)"
   ]
  },
  {
   "cell_type": "code",
   "execution_count": 62,
   "id": "0683ce83",
   "metadata": {},
   "outputs": [
    {
     "data": {
      "text/plain": [
       "torch.Size([2, 512])"
      ]
     },
     "execution_count": 62,
     "metadata": {},
     "output_type": "execute_result"
    }
   ],
   "source": [
    "test_input_ids[:2].size()"
   ]
  },
  {
   "cell_type": "code",
   "execution_count": 36,
   "id": "3366a09b",
   "metadata": {},
   "outputs": [
    {
     "name": "stdout",
     "output_type": "stream",
     "text": [
      "2023-04-26 17:54:31.669106\n",
      "0\n",
      "2023-04-26 17:55:26.577492\n",
      "1\n",
      "2023-04-26 17:56:18.694185\n",
      "2\n",
      "2023-04-26 17:57:10.713215\n",
      "3\n",
      "2023-04-26 17:58:03.001824\n",
      "4\n",
      "2023-04-26 17:58:54.903955\n",
      "5\n",
      "2023-04-26 17:59:46.884973\n",
      "6\n",
      "2023-04-26 18:00:39.387809\n",
      "7\n",
      "2023-04-26 18:01:31.389983\n",
      "8\n",
      "2023-04-26 18:02:23.732401\n",
      "9\n",
      "2023-04-26 18:03:16.072789\n",
      "10\n",
      "2023-04-26 18:04:08.225956\n",
      "11\n",
      "2023-04-26 18:05:00.596973\n",
      "12\n",
      "2023-04-26 18:05:52.588346\n",
      "13\n",
      "2023-04-26 18:06:44.565918\n",
      "14\n",
      "2023-04-26 18:07:36.656598\n",
      "15\n",
      "2023-04-26 18:08:30.141367\n",
      "16\n",
      "2023-04-26 18:09:23.218046\n",
      "17\n",
      "2023-04-26 18:10:15.933751\n",
      "18\n",
      "2023-04-26 18:11:08.893072\n",
      "19\n",
      "2023-04-26 18:12:00.372269\n",
      "20\n",
      "2023-04-26 18:12:53.214120\n",
      "21\n",
      "2023-04-26 18:13:47.101111\n",
      "22\n",
      "2023-04-26 18:14:39.980876\n",
      "23\n",
      "2023-04-26 18:15:32.759350\n",
      "24\n",
      "2023-04-26 18:16:25.048277\n",
      "25\n",
      "2023-04-26 18:17:17.310102\n",
      "26\n",
      "2023-04-26 18:18:09.502557\n",
      "27\n",
      "2023-04-26 18:19:01.535482\n",
      "28\n",
      "2023-04-26 18:19:53.865174\n",
      "29\n",
      "2023-04-26 18:20:46.098759\n",
      "30\n",
      "2023-04-26 18:21:38.514892\n",
      "31\n",
      "2023-04-26 18:22:30.796055\n",
      "32\n",
      "2023-04-26 18:23:24.103712\n",
      "33\n",
      "2023-04-26 18:24:16.701418\n",
      "34\n",
      "2023-04-26 18:25:09.032703\n",
      "35\n",
      "2023-04-26 18:26:01.744024\n",
      "36\n",
      "2023-04-26 18:26:54.022038\n",
      "37\n",
      "2023-04-26 18:27:46.220840\n",
      "38\n",
      "2023-04-26 18:28:38.820940\n",
      "39\n",
      "2023-04-26 18:29:31.388531\n",
      "40\n",
      "2023-04-26 18:30:24.384656\n",
      "41\n",
      "2023-04-26 18:31:18.373717\n",
      "42\n",
      "2023-04-26 18:32:10.992582\n",
      "43\n",
      "2023-04-26 18:33:02.965184\n",
      "44\n",
      "2023-04-26 18:33:55.356119\n",
      "45\n",
      "2023-04-26 18:34:48.563102\n",
      "46\n",
      "2023-04-26 18:35:41.616611\n",
      "47\n",
      "2023-04-26 18:36:34.083976\n",
      "48\n",
      "2023-04-26 18:37:26.352961\n",
      "49\n",
      "2023-04-26 18:38:18.465638\n",
      "50\n",
      "2023-04-26 18:39:10.452321\n",
      "51\n",
      "2023-04-26 18:40:02.637179\n",
      "52\n",
      "2023-04-26 18:40:54.977780\n",
      "53\n",
      "2023-04-26 18:41:47.086234\n",
      "54\n",
      "2023-04-26 18:42:38.844569\n",
      "55\n",
      "2023-04-26 18:43:31.140871\n",
      "56\n",
      "2023-04-26 18:44:23.578151\n",
      "57\n",
      "2023-04-26 18:45:15.836083\n",
      "58\n",
      "2023-04-26 18:46:08.209052\n",
      "59\n",
      "2023-04-26 18:47:00.689019\n",
      "60\n",
      "2023-04-26 18:47:53.454485\n",
      "61\n",
      "2023-04-26 18:48:46.246487\n",
      "62\n",
      "2023-04-26 18:49:38.978248\n",
      "63\n",
      "2023-04-26 18:50:31.664502\n",
      "64\n",
      "2023-04-26 18:51:24.054122\n",
      "65\n",
      "2023-04-26 18:52:15.865745\n",
      "66\n",
      "2023-04-26 18:53:08.243021\n",
      "67\n",
      "2023-04-26 18:54:00.639923\n",
      "68\n",
      "2023-04-26 18:54:53.011195\n",
      "69\n",
      "2023-04-26 18:55:45.950220\n",
      "70\n",
      "2023-04-26 18:56:38.816708\n",
      "71\n",
      "2023-04-26 18:57:31.231150\n",
      "72\n",
      "2023-04-26 18:58:25.070988\n",
      "73\n",
      "2023-04-26 18:59:17.707324\n",
      "74\n",
      "2023-04-26 19:00:10.390391\n",
      "75\n",
      "2023-04-26 19:01:02.285650\n",
      "76\n",
      "2023-04-26 19:01:55.316524\n",
      "77\n",
      "2023-04-26 19:02:48.031499\n",
      "78\n",
      "2023-04-26 19:03:40.715396\n",
      "79\n",
      "2023-04-26 19:04:33.143986\n",
      "80\n",
      "2023-04-26 19:05:25.626450\n",
      "81\n",
      "2023-04-26 19:06:18.459241\n",
      "82\n",
      "2023-04-26 19:07:11.445953\n",
      "83\n",
      "2023-04-26 19:08:04.104429\n",
      "84\n",
      "2023-04-26 19:08:57.164230\n",
      "85\n",
      "2023-04-26 19:09:49.962710\n",
      "86\n",
      "2023-04-26 19:10:42.404442\n",
      "87\n",
      "2023-04-26 19:11:35.069227\n",
      "88\n",
      "2023-04-26 19:12:27.440590\n",
      "89\n",
      "2023-04-26 19:13:19.414373\n",
      "90\n",
      "2023-04-26 19:14:11.317421\n",
      "91\n",
      "2023-04-26 19:15:03.875538\n",
      "92\n",
      "2023-04-26 19:15:56.256230\n",
      "93\n",
      "2023-04-26 19:16:48.646498\n",
      "94\n",
      "2023-04-26 19:17:41.142512\n",
      "95\n",
      "2023-04-26 19:18:33.657417\n",
      "96\n",
      "2023-04-26 19:19:25.908124\n",
      "97\n",
      "2023-04-26 19:20:18.423479\n",
      "98\n",
      "2023-04-26 19:21:10.810940\n",
      "99\n",
      "2023-04-26 19:22:02.951387\n",
      "100\n",
      "2023-04-26 19:22:56.107560\n",
      "101\n",
      "2023-04-26 19:23:50.703124\n",
      "102\n",
      "2023-04-26 19:24:44.055085\n",
      "103\n",
      "2023-04-26 19:25:35.838391\n",
      "104\n",
      "2023-04-26 19:26:29.371226\n",
      "105\n",
      "2023-04-26 19:27:22.663093\n",
      "106\n",
      "2023-04-26 19:28:14.905830\n",
      "107\n",
      "2023-04-26 19:29:07.107173\n",
      "108\n",
      "2023-04-26 19:29:59.499909\n",
      "109\n",
      "2023-04-26 19:30:51.467061\n",
      "110\n",
      "2023-04-26 19:31:44.647678\n",
      "111\n",
      "2023-04-26 19:32:36.988202\n",
      "112\n",
      "2023-04-26 19:33:28.267827\n",
      "113\n",
      "2023-04-26 19:34:19.411776\n",
      "114\n",
      "2023-04-26 19:35:10.537923\n",
      "115\n",
      "2023-04-26 19:36:01.685653\n",
      "116\n",
      "2023-04-26 19:36:52.897157\n",
      "117\n",
      "2023-04-26 19:37:44.265399\n",
      "118\n",
      "2023-04-26 19:38:36.022931\n",
      "119\n",
      "2023-04-26 19:39:27.367925\n",
      "120\n",
      "2023-04-26 19:40:18.986170\n",
      "121\n",
      "2023-04-26 19:41:10.602393\n",
      "122\n",
      "2023-04-26 19:42:01.968858\n",
      "123\n",
      "2023-04-26 19:42:52.774332\n",
      "124\n",
      "2023-04-26 19:43:43.799195\n",
      "125\n",
      "2023-04-26 19:44:35.071708\n",
      "126\n",
      "2023-04-26 19:45:26.615874\n",
      "127\n",
      "2023-04-26 19:46:17.953163\n",
      "128\n",
      "2023-04-26 19:47:09.176642\n",
      "129\n",
      "2023-04-26 19:48:00.433656\n",
      "130\n",
      "2023-04-26 19:49:27.180775\n",
      "131\n",
      "2023-04-26 19:51:07.782986\n",
      "132\n",
      "2023-04-26 19:52:50.213728\n",
      "133\n",
      "2023-04-26 19:54:29.973790\n",
      "134\n",
      "2023-04-26 19:56:09.441276\n",
      "135\n",
      "2023-04-26 19:57:46.818062\n",
      "136\n",
      "2023-04-26 19:59:27.756805\n",
      "137\n",
      "2023-04-26 20:01:03.055624\n",
      "138\n",
      "2023-04-26 20:02:43.329124\n",
      "139\n",
      "2023-04-26 20:04:21.282681\n",
      "140\n",
      "2023-04-26 20:06:01.037352\n",
      "141\n",
      "2023-04-26 20:07:41.627083\n"
     ]
    }
   ],
   "source": [
    "last_hidden_states = []\n",
    "print(datetime.now())\n",
    "for i in range(len(input_ids)):\n",
    "    print(i)\n",
    "    with torch.no_grad():\n",
    "        last_hidden_states.append(model(input_ids[i:i+1], attention_mask=attention_mask[i:i+1]))\n",
    "    \n",
    "    print(datetime.now())\n",
    "    "
   ]
  },
  {
   "cell_type": "code",
   "execution_count": 63,
   "id": "14dc904c",
   "metadata": {},
   "outputs": [
    {
     "name": "stdout",
     "output_type": "stream",
     "text": [
      "2023-04-26 20:29:53.618615\n",
      "0\n",
      "2023-04-26 20:31:33.042151\n",
      "1\n",
      "2023-04-26 20:33:13.803969\n",
      "2\n",
      "2023-04-26 20:34:54.382331\n",
      "3\n",
      "2023-04-26 20:36:36.329078\n",
      "4\n",
      "2023-04-26 20:38:16.404158\n",
      "5\n",
      "2023-04-26 20:39:51.363058\n",
      "6\n",
      "2023-04-26 20:41:30.389362\n",
      "7\n",
      "2023-04-26 20:43:11.935649\n",
      "8\n",
      "2023-04-26 20:44:03.281300\n",
      "9\n",
      "2023-04-26 20:44:54.105685\n",
      "10\n",
      "2023-04-26 20:45:44.742896\n",
      "11\n",
      "2023-04-26 20:46:35.517462\n",
      "12\n",
      "2023-04-26 20:47:26.179840\n",
      "13\n",
      "2023-04-26 20:48:17.453663\n",
      "14\n",
      "2023-04-26 20:49:08.342376\n",
      "15\n",
      "2023-04-26 20:49:59.392635\n",
      "16\n",
      "2023-04-26 20:50:49.635526\n",
      "17\n",
      "2023-04-26 20:51:40.551911\n",
      "18\n",
      "2023-04-26 20:52:31.456986\n",
      "19\n",
      "2023-04-26 20:53:22.023900\n",
      "20\n",
      "2023-04-26 20:54:13.288501\n",
      "21\n",
      "2023-04-26 20:55:03.698347\n",
      "22\n",
      "2023-04-26 20:55:54.742795\n",
      "23\n",
      "2023-04-26 20:56:45.888470\n",
      "24\n",
      "2023-04-26 20:57:36.759007\n",
      "25\n",
      "2023-04-26 20:58:27.559822\n",
      "26\n",
      "2023-04-26 20:59:18.327744\n",
      "27\n",
      "2023-04-26 21:00:09.202510\n",
      "28\n",
      "2023-04-26 21:01:00.267866\n",
      "29\n",
      "2023-04-26 21:01:51.282356\n",
      "30\n",
      "2023-04-26 21:02:42.739222\n",
      "31\n",
      "2023-04-26 21:03:34.711866\n",
      "32\n",
      "2023-04-26 21:04:27.315946\n",
      "33\n",
      "2023-04-26 21:05:19.758489\n",
      "34\n",
      "2023-04-26 21:06:12.210655\n",
      "35\n",
      "2023-04-26 21:07:04.818987\n"
     ]
    }
   ],
   "source": [
    "# test\n",
    "test_last_hidden_states = []\n",
    "print(datetime.now())\n",
    "for i in range(len(test_input_ids)):\n",
    "    print(i)\n",
    "    with torch.no_grad():\n",
    "        test_last_hidden_states.append(model(test_input_ids[i:i+1], attention_mask=test_attention_mask[i:i+1]))\n",
    "    \n",
    "    print(datetime.now())\n",
    "    "
   ]
  },
  {
   "cell_type": "code",
   "execution_count": 37,
   "id": "b70adbf9",
   "metadata": {},
   "outputs": [],
   "source": [
    "features = []\n",
    "for hidden in last_hidden_states:\n",
    "    features.append(hidden[0][:,0,:].numpy())\n"
   ]
  },
  {
   "cell_type": "code",
   "execution_count": 64,
   "id": "4e891bce",
   "metadata": {},
   "outputs": [],
   "source": [
    "test_features = []\n",
    "for hidden in test_last_hidden_states:\n",
    "    test_features.append(hidden[0][:,0,:].numpy())\n"
   ]
  },
  {
   "cell_type": "code",
   "execution_count": 46,
   "id": "1d98efd1",
   "metadata": {},
   "outputs": [
    {
     "data": {
      "text/plain": [
       "array([-1.297749  ,  0.6177742 ,  1.1179985 ,  0.10775139, -1.218515  ,\n",
       "       -2.0049825 , -1.4731202 ,  1.1575086 ,  1.249286  ,  1.0089082 ,\n",
       "        0.40229154,  0.33979386, -1.4344492 ,  2.4767342 ,  0.59124494,\n",
       "        0.07243699,  0.1020606 ,  0.47661543,  0.8743317 ,  1.002098  ,\n",
       "       -0.8128339 , -0.45847717,  0.75086814,  1.1791458 , -1.0016518 ,\n",
       "        0.40671864,  0.33499476, -0.06832357,  1.029514  ,  0.10330278,\n",
       "       -1.2163923 ,  0.5463733 ,  1.1047891 , -0.15749885,  1.198576  ,\n",
       "       -0.6474195 ,  1.3939791 ,  0.17962298, -1.3608097 , -0.49459186,\n",
       "       -0.8700414 ,  0.7023295 , -1.6884658 ,  0.15457508, -0.35786957,\n",
       "        0.8495121 , -1.1134127 , -1.9912559 , -0.94491947, -1.6747416 ,\n",
       "       -0.21345194,  0.75022274, -0.49959135, -0.5916082 , -0.32118875,\n",
       "        0.9151058 , -1.0138265 ,  1.4407977 ,  0.07056344, -0.57056296,\n",
       "       -0.1144355 ,  0.33577606, -0.88366747, -0.44643605, -0.7643327 ,\n",
       "        0.913846  ,  0.8838979 , -1.1416832 , -0.69361776,  0.12889926,\n",
       "        1.7734851 ,  0.97378826,  1.983317  , -0.228415  ,  1.7706103 ,\n",
       "        0.79116565,  0.950978  , -0.61353993,  1.5927871 ,  0.66036713,\n",
       "       -1.1229284 ,  1.1148638 ,  1.2683924 , -1.7157772 ,  0.64670694,\n",
       "       -0.25410542, -0.24708132, -1.1221234 , -0.4821188 , -0.22938521,\n",
       "       -0.8118387 , -0.994431  ,  0.97843206, -1.1131234 , -0.76337487,\n",
       "       -2.8618808 , -0.4722447 , -0.01132237, -0.09960793,  0.29132348,\n",
       "       -0.01864445,  0.6568426 , -1.1213063 , -0.10328407, -0.32851106,\n",
       "       -0.38599664,  0.49352166, -0.17776078, -0.70456797,  0.7307688 ,\n",
       "        0.49593827, -0.49398845,  1.613776  , -0.8533831 ,  0.67059726,\n",
       "       -0.28136924, -0.15394369,  0.14343245,  2.0313687 , -1.7700529 ,\n",
       "       -1.2387036 ,  0.6147925 ,  1.0704564 , -1.5817171 , -1.0036502 ,\n",
       "        1.0437738 ,  0.5796861 ,  0.06845698,  1.0869386 , -0.7512027 ,\n",
       "        1.6034144 , -0.8231951 ,  1.2369003 , -0.6350243 ,  0.66030216,\n",
       "        0.56531477, -0.02488892,  1.0260845 , -0.08082589, -0.15901491,\n",
       "        0.22302866, -1.3372393 , -0.08680232, -0.33627748,  0.0227117 ,\n",
       "       -1.0907844 , -0.06864122, -0.9708594 , -0.25365707,  1.1461263 ,\n",
       "        0.10718554, -0.5549466 , -1.4807416 ,  0.06918696, -1.4531299 ,\n",
       "        0.4047061 ,  2.49793   , -0.17620853, -0.63147944,  0.3802447 ,\n",
       "       -1.7235023 ,  0.04586485,  0.13176383,  0.56096   , -2.065257  ,\n",
       "        0.8060399 , -0.44621158,  0.49167463, -1.721505  ,  0.33585805,\n",
       "        1.3107289 ,  0.09072511,  2.0861843 ,  2.1837015 , -0.98648816,\n",
       "        0.60554904, -0.1510743 , -0.12387502, -0.06670173, -1.3685052 ,\n",
       "        0.43539032, -0.97215545, -0.5794769 ,  0.10792574,  0.9413841 ,\n",
       "        0.45287967,  0.19192727, -0.5515828 ,  2.0969248 , -1.3309532 ,\n",
       "       -0.05980835,  0.26397625, -0.11046866,  0.83214146,  1.0410737 ,\n",
       "        1.1235491 ,  0.7281344 , -0.07896145,  1.1850994 ,  0.20439178,\n",
       "        0.08830037,  0.29912764, -2.15742   ,  0.9926003 , -1.4767078 ,\n",
       "        0.5920416 ,  0.02216881, -1.228016  ,  0.55666155, -2.258973  ,\n",
       "        1.3299146 ,  0.06774825, -1.0907856 , -1.0261867 ,  1.8375884 ,\n",
       "       -2.1682699 ,  1.4983054 ,  0.38060474,  1.0600591 ,  1.0971783 ,\n",
       "        0.05845736,  0.1429319 , -0.4530785 , -0.8590908 ,  0.460052  ,\n",
       "       -1.1317543 , -0.03227217,  0.5956123 , -0.36750528,  1.1820233 ,\n",
       "        0.27777892,  0.44968614,  1.3460554 , -0.83685815, -0.29006988,\n",
       "       -0.3477754 ,  0.10031271, -1.4048382 ,  0.88224196,  0.53531384,\n",
       "        0.82237566, -0.7521189 , -0.78505003,  0.6088259 , -0.0925322 ,\n",
       "       -1.2193468 , -0.5430362 , -0.23233429, -0.1995383 ,  0.28540352,\n",
       "        1.5794052 ,  0.700696  ,  0.0696971 , -1.277695  , -0.74169725,\n",
       "       -0.7766144 , -0.6733284 , -0.6318649 ,  1.1428909 ,  1.709013  ,\n",
       "       -0.8708322 ,  0.13279298,  0.50550866, -1.3713248 ,  0.58990663,\n",
       "       -1.3821485 ,  1.1172918 ,  0.95771   ,  0.17902987, -1.0382259 ,\n",
       "       -0.1061231 ,  1.5623671 ,  1.4495448 ,  1.3300943 ,  1.6181163 ,\n",
       "        0.0367327 ,  0.595023  , -0.47727   , -0.29388016, -0.8195376 ,\n",
       "       -0.4111728 , -1.5562602 , -1.3745377 , -0.01916678, -1.1324166 ,\n",
       "        0.9571773 ,  0.4665643 , -0.06309433, -0.5960445 , -1.7628484 ,\n",
       "        0.82331735,  1.7564147 ,  0.17087865,  1.0772527 , -1.0240717 ,\n",
       "       -2.252256  ,  0.246753  ,  1.0086366 ,  0.02532535,  1.5769496 ,\n",
       "        0.46847844,  0.70474803,  1.0204055 ,  0.7060997 , -1.6389695 ,\n",
       "       -0.91923314,  0.28019708,  1.2895684 ,  0.45088574,  0.33921283,\n",
       "        0.06742791, -0.16792007, -0.2961237 , -0.45720944,  0.6797517 ,\n",
       "        0.7650625 , -0.07298968,  0.5115745 , -0.3131006 , -0.49482524,\n",
       "        0.01080181, -0.15107547, -0.0238971 ,  0.26562527, -0.4291821 ,\n",
       "        0.38588008,  0.24599826,  1.9127799 , -0.19759934, -0.2867646 ,\n",
       "       -0.04297097,  0.9513588 , -0.41539866,  0.27125332, -0.5838595 ,\n",
       "        1.7821609 ,  0.23946887, -1.5178335 ,  1.6105897 ,  0.2471692 ,\n",
       "        1.5468092 , -0.9220355 , -0.0274203 ,  0.14748159,  1.4734706 ,\n",
       "        2.209408  ,  0.17293951,  0.9951173 ,  0.3354298 ,  0.49910036,\n",
       "       -0.8442014 , -1.1575145 ,  1.324914  ,  1.6663944 , -0.6698344 ,\n",
       "       -0.2790718 , -0.74647254,  1.4116915 , -0.43657628,  0.940915  ,\n",
       "        1.9164157 , -0.5254343 , -0.12421532,  0.6641462 , -0.9150276 ,\n",
       "       -0.8393279 ,  0.6103691 ,  0.5385293 , -1.3825499 ,  0.7075474 ,\n",
       "        0.33635688, -0.02946942,  0.33943617, -3.248864  ,  0.3011669 ,\n",
       "       -0.4630308 ,  1.1905197 ,  0.02649361, -0.15542248, -0.5560587 ,\n",
       "       -0.8912552 , -1.788707  , -0.48712566, -0.8369989 ,  0.59791905,\n",
       "       -0.1189805 , -0.21382405, -0.35615954,  0.23360929,  0.39332774,\n",
       "       -0.45008028,  0.6254725 , -1.1525004 ,  0.18405804, -0.8458207 ,\n",
       "       -1.2829772 , -0.22314109,  1.2225667 ,  0.19106504,  0.4694764 ,\n",
       "       -0.12581006, -0.61913663,  1.9365169 , -1.8522642 ,  0.25517318,\n",
       "        0.33251527, -0.2729058 ,  0.04948574, -1.2987912 , -0.04221075,\n",
       "        1.3447152 , -0.5533562 , -2.8726087 , -0.38822278, -0.8291995 ,\n",
       "       -0.47316277, -0.62585133, -2.1133392 ,  2.017332  ,  1.400679  ,\n",
       "        0.70289826,  0.9417909 , -0.20036654,  0.6449556 ,  0.6370992 ,\n",
       "        1.872725  ,  0.00756219, -0.20947754,  0.7986596 ,  1.0497856 ,\n",
       "        1.6827805 , -0.7367048 , -1.1508851 ,  0.54093593, -1.9702703 ,\n",
       "        0.38285023, -1.2159739 ,  0.66182035, -1.6615047 ,  0.97836566,\n",
       "       -1.7197212 , -1.7861568 , -0.01479621, -1.6926899 , -0.17197192,\n",
       "        0.03288354,  0.5640466 , -0.34537354, -2.1479235 , -0.1401531 ,\n",
       "        1.4864682 , -2.6229122 , -0.6741515 , -0.4409089 ,  1.2869774 ,\n",
       "        0.03932939,  0.75625175,  1.7230783 , -0.05769089, -0.4893967 ,\n",
       "        1.0136904 , -0.3854315 , -0.09120125, -0.5364686 ,  0.38281113,\n",
       "        0.2779866 ,  0.6440033 , -1.1830281 , -0.5742896 ,  0.8224556 ,\n",
       "        0.5625592 , -1.2435145 , -0.11408607, -0.9934779 ,  2.1103473 ,\n",
       "        0.939659  , -1.0747684 , -0.50919783, -0.10582949,  0.46364653,\n",
       "        0.28779873,  1.5779135 , -0.9975217 ,  1.0644681 , -0.41941908,\n",
       "        0.8766958 , -1.445638  , -1.5777292 ,  0.6176737 , -0.33339873,\n",
       "       -1.9446685 , -1.2442352 ,  0.67634255, -0.42848924,  0.79346186,\n",
       "       -0.37094635, -2.0413144 , -1.8509582 ,  0.7279863 ,  0.69830906,\n",
       "        0.00340211,  0.08602799, -0.18834539,  0.47161028,  1.2818041 ,\n",
       "        1.3540691 ,  1.281381  , -0.02915844, -0.1399962 ,  1.0382205 ,\n",
       "        0.93334734,  0.93723685,  0.52482206, -0.00387336,  1.7537917 ,\n",
       "        1.0007831 , -1.7856756 , -0.13175668,  0.26499957,  1.5521905 ,\n",
       "        1.2889584 , -1.0917774 ,  1.7280686 ,  0.14237894, -0.83024794,\n",
       "        0.61758757,  1.5915382 ,  1.6529813 ,  2.6263106 , -0.79154515,\n",
       "       -1.4308896 ,  0.03840008, -1.7731013 , -1.0466446 ,  0.86685073,\n",
       "        0.9172331 ,  0.6200105 , -0.25046802, -1.2618003 , -1.900751  ,\n",
       "       -1.111737  , -1.8030486 , -0.07657736, -0.05111512, -1.5945846 ,\n",
       "        0.12128706,  1.2213398 ,  0.2828647 ,  0.42878118, -1.1492572 ,\n",
       "       -0.70259017, -1.3983458 , -0.47519907,  1.0954154 ,  0.20548472,\n",
       "       -0.44903955, -1.1290065 , -0.41308936, -0.8433126 ,  0.19991651,\n",
       "        0.81144863, -0.5730352 ,  0.47394308, -0.7822308 , -1.1660422 ,\n",
       "       -0.04706448, -1.3730886 , -0.09821634, -0.20149995, -0.46874207,\n",
       "       -1.5824159 , -0.66235936, -0.04476718, -0.49293172,  0.8123504 ,\n",
       "       -0.9353428 , -0.02763379, -0.66844285, -0.7646892 , -0.41792494,\n",
       "       -0.31079495, -1.3952721 ,  1.6142896 ,  1.8596046 ,  0.94957644,\n",
       "        1.2724861 ,  0.02080273,  1.2842864 ,  1.0155847 ,  0.39099538,\n",
       "        0.09779797,  0.03066329, -1.8521088 , -1.867102  ,  1.3765953 ,\n",
       "       -0.68802345, -0.42937678,  0.9317009 ,  2.0785275 ,  0.10657153,\n",
       "        0.7694051 , -1.1619121 , -2.1867468 , -0.28071082,  1.0749052 ,\n",
       "        0.5149595 ,  1.5130006 ,  0.70239943,  0.3309712 , -1.455873  ,\n",
       "       -0.40895566,  1.6380566 , -0.1537215 , -1.3087023 , -0.93789464,\n",
       "        1.323286  , -0.7123228 , -0.51296616, -0.43728855,  1.6622918 ,\n",
       "       -1.043052  , -1.4974848 ,  0.03688369,  0.21784389,  0.15601592,\n",
       "        1.250544  , -1.0481234 ,  1.8664176 , -0.11972653, -0.32326636,\n",
       "       -1.2484571 ,  0.00425576,  0.6435878 , -1.0761472 , -1.1458403 ,\n",
       "       -0.19292416, -0.37951294, -0.5346089 ,  0.67174286,  0.30279848,\n",
       "       -0.03954577, -1.8367532 ,  0.20926048,  0.3691529 , -0.07887191,\n",
       "        0.7264052 , -0.70994145,  0.09506346, -0.54789877, -0.04603397,\n",
       "        0.34287655,  0.24395385,  1.4813343 , -0.27235734, -0.5584243 ,\n",
       "       -1.1148944 ,  0.3941257 , -0.38320172,  0.32352635,  2.2246032 ,\n",
       "       -0.97236115,  1.0952401 , -1.202365  , -2.6481006 , -0.9133749 ,\n",
       "        0.44655788, -1.3605509 , -1.2924258 ,  0.31958476, -0.07479829,\n",
       "       -0.86073875, -0.96002483, -0.02387621,  0.05534282, -0.7283882 ,\n",
       "        1.1689299 , -1.0715047 , -0.01016716,  0.29970068, -0.5188514 ,\n",
       "        0.5154964 ,  2.4612498 , -0.74414206, -0.8749254 , -0.60173213,\n",
       "       -0.1540291 , -0.20956111,  1.0806684 , -0.03687858,  2.345266  ,\n",
       "        0.03851586,  0.9931495 , -0.13159692,  0.02149632,  1.4739721 ,\n",
       "       -0.57726425, -0.9571293 ,  0.20511314,  0.96203995,  1.6439632 ,\n",
       "        0.73536205,  0.4550876 , -1.3246859 , -0.59522474,  0.6806656 ,\n",
       "       -0.47331575, -0.92598534, -0.1495021 , -0.12087595,  1.351547  ,\n",
       "       -1.137386  ,  0.4851338 ,  2.0152464 , -0.26880056, -0.8733589 ,\n",
       "        1.3782305 , -0.81865716,  0.70138854,  0.19826259, -0.21455768,\n",
       "       -0.6865284 ,  0.3805505 , -0.1578097 ,  0.4459221 , -0.89569694,\n",
       "       -1.2023295 ,  0.09436568, -0.83667624,  1.8254795 , -2.4995875 ,\n",
       "        0.89248955,  0.57539964, -0.9739842 , -0.3190303 ,  0.13580981,\n",
       "        0.39886823,  0.18288657, -0.18858704, -0.17020269,  1.862354  ,\n",
       "        0.9174028 , -0.17643923,  0.6726754 ,  1.2272938 , -1.4391369 ,\n",
       "        1.7789177 ,  0.24391964, -0.99818486,  1.9498967 ,  0.2882596 ,\n",
       "        0.4395173 ,  0.5806438 , -1.2308766 ,  0.39809445, -0.8876746 ,\n",
       "       -0.9049726 ,  1.4000717 , -0.45912328, -0.79251903, -0.15544438,\n",
       "        1.2623436 , -2.176162  , -0.2926834 , -2.1919706 ,  0.81248826,\n",
       "        0.5473035 ,  0.7823932 , -0.2919222 ], dtype=float32)"
      ]
     },
     "execution_count": 46,
     "metadata": {},
     "output_type": "execute_result"
    }
   ],
   "source": [
    "features[0][0]"
   ]
  },
  {
   "cell_type": "code",
   "execution_count": null,
   "id": "fdfc9ef2",
   "metadata": {},
   "outputs": [],
   "source": [
    "torch.save(features, \"data/train_summaries.pt\")\n"
   ]
  },
  {
   "cell_type": "code",
   "execution_count": 65,
   "id": "c68b3ee4",
   "metadata": {},
   "outputs": [],
   "source": [
    "torch.save(test_features, \"data/test_summaries.pt\")"
   ]
  },
  {
   "cell_type": "code",
   "execution_count": 47,
   "id": "0bb1ad23",
   "metadata": {},
   "outputs": [],
   "source": [
    "train_profiles_features = []\n",
    "for f in features:\n",
    "    vector = f[0]\n",
    "    train_profiles_features.append(vector)"
   ]
  },
  {
   "cell_type": "code",
   "execution_count": 48,
   "id": "be0dc24e",
   "metadata": {},
   "outputs": [],
   "source": [
    "svd = TruncatedSVD(n_components=2)\n",
    "svd_mdl = svd.fit_transform(train_profiles_features)"
   ]
  },
  {
   "cell_type": "code",
   "execution_count": 51,
   "id": "1414f8b2",
   "metadata": {},
   "outputs": [],
   "source": [
    "#svd_mdl\n",
    "V_plot = pd.DataFrame()\n",
    "V_plot[\"X\"] = svd_mdl[:,0]\n",
    "V_plot[\"Y\"] = svd_mdl[:,1]\n",
    "V_plot[\"label\"] = y_train[\"label\"]"
   ]
  },
  {
   "cell_type": "code",
   "execution_count": 52,
   "id": "058b8bf8",
   "metadata": {},
   "outputs": [
    {
     "data": {
      "text/plain": [
       "<matplotlib.legend.Legend at 0x1cbe8ee5cc0>"
      ]
     },
     "execution_count": 52,
     "metadata": {},
     "output_type": "execute_result"
    },
    {
     "data": {
      "image/png": "[encoded data removed]",
      "text/plain": [
       "<Figure size 640x480 with 1 Axes>"
      ]
     },
     "metadata": {},
     "output_type": "display_data"
    }
   ],
   "source": [
    "plt.scatter(V_plot[V_plot[\"label\"]==1][\"X\"], V_plot[V_plot[\"label\"]==1][\"Y\"], c=\"red\", label=\"ML Profile\")\n",
    "plt.scatter(V_plot[V_plot[\"label\"]==0][\"X\"], V_plot[V_plot[\"label\"]==0][\"Y\"], c=\"blue\", label=\"Other Profiles\")\n",
    "plt.title(\"BERT Truncated SVD 2D plot\")\n",
    "plt.legend()"
   ]
  },
  {
   "cell_type": "code",
   "execution_count": null,
   "id": "80270bf8",
   "metadata": {},
   "outputs": [],
   "source": []
  },
  {
   "cell_type": "code",
   "execution_count": null,
   "id": "5b379b34",
   "metadata": {},
   "outputs": [],
   "source": []
  },
  {
   "cell_type": "code",
   "execution_count": null,
   "id": "06ddcbee",
   "metadata": {},
   "outputs": [],
   "source": []
  },
  {
   "cell_type": "code",
   "execution_count": null,
   "id": "1dc868dd",
   "metadata": {},
   "outputs": [],
   "source": []
  },
  {
   "cell_type": "code",
   "execution_count": null,
   "id": "1639744e",
   "metadata": {},
   "outputs": [],
   "source": [
    "summary_tokens = []\n",
    "experience_tokens = []\n",
    "education_tokens = []\n",
    "\n",
    "train_profiles_bert = pd.DataFrame()"
   ]
  },
  {
   "cell_type": "code",
   "execution_count": null,
   "id": "23329d7d",
   "metadata": {},
   "outputs": [],
   "source": [
    "for row in X_train.iterrows():\n",
    "    #if row[0] < 57:\n",
    "    #    continue\n",
    "        \n",
    "    print(row[0])\n",
    "    summary = row[1][\"Summary\"]\n",
    "    \n",
    "    now = datetime.now()\n",
    "    \n",
    "    summary_tokens.append(bert_tokenization(summary, tokenizer, model))\n",
    "    elapsed = datetime.now() - now\n",
    "    now = datetime.now()\n",
    "    print(\"Profile: \", row[0], \" Summary: \", elapsed.total_seconds())\n",
    "    \n",
    "    if (row[0]+1)%5 == 0:\n",
    "        torch.save(summary_tokens, \"data/train_summaries.pt\")\n",
    "    "
   ]
  },
  {
   "cell_type": "code",
   "execution_count": null,
   "id": "71ce3cdc",
   "metadata": {},
   "outputs": [],
   "source": [
    "for row in X_train.iterrows():\n",
    "    if row[0] < 57:\n",
    "        continue\n",
    "        \n",
    "    print(row[0])\n",
    "    experience = row[1][\"Experience\"]\n",
    "    \n",
    "    now = datetime.now()\n",
    "    \n",
    "    experience_tokens.append(bert_tokenization(experience, tokenizer, model))\n",
    "    elapsed = datetime.now() - now\n",
    "    now = datetime.now()\n",
    "    print(\"Profile: \", row[0], \" Experience: \", elapsed.total_seconds())\n",
    "    \n",
    "    if (row[0]+1)%5 == 0:\n",
    "        torch.save(summary_tokens, \"data/train_experience.pt\")"
   ]
  },
  {
   "cell_type": "code",
   "execution_count": null,
   "id": "be80f0b5",
   "metadata": {},
   "outputs": [],
   "source": [
    "for row in X_train.iterrows():\n",
    "    if row[0] < 57:\n",
    "        continue\n",
    "        \n",
    "    print(row[0])\n",
    "    education = row[1][\"Education\"]\n",
    "    \n",
    "    now = datetime.now()\n",
    "    \n",
    "    experience_tokens.append(bert_tokenization(education, tokenizer, model))\n",
    "    elapsed = datetime.now() - now\n",
    "    now = datetime.now()\n",
    "    print(\"Profile: \", row[0], \" Education: \", elapsed.total_seconds())\n",
    "    \n",
    "    if (row[0]+1)%5 == 0:\n",
    "        torch.save(summary_tokens, \"data/train_education.pt\")"
   ]
  },
  {
   "cell_type": "code",
   "execution_count": null,
   "id": "5b346a6f",
   "metadata": {},
   "outputs": [],
   "source": [
    "train_profiles_bert[\"Summary\"] = summary_tokens\n",
    "train_profiles_bert[\"Experience\"] = experience_tokens\n",
    "train_profiles_bert[\"Education\"] = education_tokens\n",
    "train_profiles_bert.to_csv(\"data/train_profiles_bert.csv\")"
   ]
  }
 ],
 "metadata": {
  "kernelspec": {
   "display_name": "Python 3 (ipykernel)",
   "language": "python",
   "name": "python3"
  },
  "language_info": {
   "codemirror_mode": {
    "name": "ipython",
    "version": 3
   },
   "file_extension": ".py",
   "mimetype": "text/x-python",
   "name": "python",
   "nbconvert_exporter": "python",
   "pygments_lexer": "ipython3",
   "version": "3.10.9"
  }
 },
 "nbformat": 4,
 "nbformat_minor": 5
}
